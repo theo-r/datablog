{
  "nbformat": 4,
  "nbformat_minor": 0,
  "metadata": {
    "colab": {
      "name": "blog-2020-06-25.ipynb",
      "provenance": [],
      "collapsed_sections": []
    },
    "kernelspec": {
      "display_name": "Python 3",
      "language": "python",
      "name": "python3"
    },
    "language_info": {
      "codemirror_mode": {
        "name": "ipython",
        "version": 3
      },
      "file_extension": ".py",
      "mimetype": "text/x-python",
      "name": "python",
      "nbconvert_exporter": "python",
      "pygments_lexer": "ipython3",
      "version": "3.7.7"
    }
  },
  "cells": [
    {
      "cell_type": "code",
      "metadata": {
        "colab_type": "code",
        "id": "T1ogcnDVEjiv",
        "colab": {
          "base_uri": "https://localhost:8080/",
          "height": 90
        },
        "outputId": "bb495958-a16f-455b-ba50-014434856458"
      },
      "source": [
        "# hide\n",
        "!pip install reed"
      ],
      "execution_count": 1,
      "outputs": [
        {
          "output_type": "stream",
          "text": [
            "Collecting reed\n",
            "  Downloading https://files.pythonhosted.org/packages/b0/76/951bc51ca6422ac293f96b348e54e25822b5a6268d912659d66d66d9a55c/reed-0.0.3-py3-none-any.whl\n",
            "Installing collected packages: reed\n",
            "Successfully installed reed-0.0.3\n"
          ],
          "name": "stdout"
        }
      ]
    },
    {
      "cell_type": "code",
      "metadata": {
        "colab_type": "code",
        "id": "0lr9ti5HBRYa",
        "colab": {}
      },
      "source": [
        "# hide\n",
        "import re\n",
        "import json\n",
        "from html.parser import HTMLParser\n",
        "\n",
        "import numpy as np"
      ],
      "execution_count": 2,
      "outputs": []
    },
    {
      "cell_type": "code",
      "metadata": {
        "colab_type": "code",
        "id": "8HipKmIsGFwP",
        "colab": {}
      },
      "source": [
        "# hide\n",
        "class MyHTMLParser(HTMLParser):\n",
        "\n",
        "    def __init__(self):\n",
        "        self.string = ''\n",
        "        super().__init__()\n",
        "\n",
        "    def handle_data(self, data):\n",
        "        self.string = self.string + ' ' + data\n",
        "        return (data)\n",
        "\n",
        "    def return_data(self):\n",
        "        return self.string.strip().replace('  ', ' ')"
      ],
      "execution_count": 3,
      "outputs": []
    },
    {
      "cell_type": "code",
      "metadata": {
        "colab_type": "code",
        "id": "ziFr0mdzGcUS",
        "colab": {
          "base_uri": "https://localhost:8080/",
          "height": 53
        },
        "outputId": "2557cd3e-92b3-4eda-c128-12c1759b70bd"
      },
      "source": [
        "# hide\n",
        "from googleapiclient.discovery import build\n",
        "import io, os\n",
        "from googleapiclient.http import MediaIoBaseDownload\n",
        "from google.colab import auth\n",
        "\n",
        "auth.authenticate_user()\n",
        "\n",
        "drive_service = build('drive', 'v3')\n",
        "results = drive_service.files().list(\n",
        "        q=\"name = 'creds.json'\", fields=\"files(id)\").execute()\n",
        "creds = results.get('files', [])\n",
        "results = drive_service.files().list(\n",
        "        q=\"name = 'job_data.csv'\", fields=\"files(id)\").execute()\n",
        "data = results.get('files', [])\n",
        "\n",
        "filename = \"/content/.reed/creds.json\"\n",
        "os.makedirs(os.path.dirname(filename), exist_ok=True)\n",
        "\n",
        "request = drive_service.files().get_media(fileId=creds[0]['id'])\n",
        "fh = io.FileIO(filename, 'wb')\n",
        "downloader = MediaIoBaseDownload(fh, request)\n",
        "done = False\n",
        "while done is False:\n",
        "    status, done = downloader.next_chunk()\n",
        "    print(\"Download %d%%.\" % int(status.progress() * 100))\n",
        "os.chmod(filename, 600)\n",
        "\n",
        "filename = \"/content/data/job_data.json\"\n",
        "os.makedirs(os.path.dirname(filename), exist_ok=True)\n",
        "\n",
        "request = drive_service.files().get_media(fileId=data[0]['id'])\n",
        "fh = io.FileIO(filename, 'wb')\n",
        "downloader = MediaIoBaseDownload(fh, request)\n",
        "done = False\n",
        "while done is False:\n",
        "    status, done = downloader.next_chunk()\n",
        "    print(\"Download %d%%.\" % int(status.progress() * 100))\n",
        "os.chmod(filename, 600)\n",
        "\n"
      ],
      "execution_count": 24,
      "outputs": [
        {
          "output_type": "stream",
          "text": [
            "Download 100%.\n",
            "Download 100%.\n"
          ],
          "name": "stdout"
        }
      ]
    },
    {
      "cell_type": "code",
      "metadata": {
        "colab_type": "code",
        "id": "HxNzB32mBRYl",
        "colab": {}
      },
      "source": [
        "# hide\n",
        "with open(filename, 'r') as f:\n",
        "    creds = json.load(f)\n",
        "    \n",
        "api_key=creds['API_KEY']"
      ],
      "execution_count": 6,
      "outputs": []
    },
    {
      "cell_type": "markdown",
      "metadata": {
        "colab_type": "text",
        "id": "fAvby7LbBRYs"
      },
      "source": [
        "## Intro\n",
        "\n",
        "Visualisation is an essential part of any data role. Whether we are delivering regular reports to decision-makers, presenting the results of a regression model to a room of stakeholders, or creating a real-time dashboard for the wider business, we are using data to tell a story, and visuals bring these stories to life.\n",
        "\n",
        "In this post we are going to explore a number of ways to visualise text data in the context of analysing job posts for three data roles: data scientists, data engineers and data analysts. These rolese share certain commonalities but are fundamentally different; will the content of the job descriptions for these roles reflect the differences between them? And how can we visualise these differences?\n",
        "\n",
        "## Getting the data\n",
        "\n",
        "First we need to collect some job descriptions to analyse. There are plenty of job search APIs out there to choose from and we also have the option to scrape directly from job websites. I ended up using the Reed developer API because of the simple process of signing up for credentials. I wrote a python wrapper for the API which I will be using to extract a collection of relevant job posts; you can find it [here](https://pypi.org/project/reed/).\n",
        "\n",
        "It's a simple process to fetch the jobs matching a keywords search query. The response is a list of json objects which in this case are identical to python dictionaries so we can easily place the data in a pandas dataframe. "
      ]
    },
    {
      "cell_type": "code",
      "metadata": {
        "colab_type": "code",
        "id": "CEmpG2USBRYt",
        "colab": {
          "base_uri": "https://localhost:8080/",
          "height": 35
        },
        "outputId": "ae969c22-0e4c-47c8-b8b3-b4e28f499e27"
      },
      "source": [
        "import pandas as pd\n",
        "from reed import ReedClient\n",
        "\n",
        "client = ReedClient(api_key=api_key)\n",
        "search_params = {\n",
        "    'keywords': 'data+scientist|data+engineer|data+analyst', \n",
        "    'resultsToTake': 600\n",
        "}\n",
        "response = client.search(**search_params)\n",
        "df = pd.DataFrame(response)\n",
        "df.shape"
      ],
      "execution_count": 7,
      "outputs": [
        {
          "output_type": "execute_result",
          "data": {
            "text/plain": [
              "(533, 15)"
            ]
          },
          "metadata": {
            "tags": []
          },
          "execution_count": 7
        }
      ]
    },
    {
      "cell_type": "markdown",
      "metadata": {
        "colab_type": "text",
        "id": "WckFpI0dBRYz"
      },
      "source": [
        "Our search returned 507 jobs in total; let's clean up the job titles and see what we have."
      ]
    },
    {
      "cell_type": "code",
      "metadata": {
        "colab_type": "code",
        "id": "qLwXiNDABRY2",
        "colab": {
          "base_uri": "https://localhost:8080/",
          "height": 235
        },
        "outputId": "26b9880f-a086-4d40-840f-d23d23f90f54"
      },
      "source": [
        "def clean_title(title_str): \n",
        "    return title_str.lower().strip().replace('  ', ' ')\n",
        "\n",
        "df['jobTitle'] = [clean_title(x) for x in df.jobTitle]\n",
        "df.groupby('jobTitle').size().sort_values(ascending=False).head(10)"
      ],
      "execution_count": 8,
      "outputs": [
        {
          "output_type": "execute_result",
          "data": {
            "text/plain": [
              "jobTitle\n",
              "data analyst                   68\n",
              "data engineer                  54\n",
              "data scientist                 44\n",
              "senior data scientist          18\n",
              "senior data engineer           10\n",
              "lead data scientist             5\n",
              "big data engineer               4\n",
              "graduate data analyst           4\n",
              "senior data analyst             4\n",
              "data scientist - manchester     4\n",
              "dtype: int64"
            ]
          },
          "metadata": {
            "tags": []
          },
          "execution_count": 8
        }
      ]
    },
    {
      "cell_type": "markdown",
      "metadata": {
        "colab_type": "text",
        "id": "9OEK17EaBRZF"
      },
      "source": [
        "We're going to remove all the posts which don't have one of the three most common titles; what we're left with should be broadly similar in terms of representing mid-level roles within each category. "
      ]
    },
    {
      "cell_type": "code",
      "metadata": {
        "colab_type": "code",
        "id": "lRh3hyKsBRZG",
        "colab": {}
      },
      "source": [
        "accepted_titles = ['data scientist', 'data engineer', 'data analyst']\n",
        "df = df[[x in accepted_titles for x in df.jobTitle]].set_index('jobId')"
      ],
      "execution_count": 9,
      "outputs": []
    },
    {
      "cell_type": "markdown",
      "metadata": {
        "colab_type": "text",
        "id": "vx1-ZrVDBRZK"
      },
      "source": [
        "The job search API gives a truncated version of the job descriptions so if we want the complete text we'll have to take each individual job id and pull down the details using the job details function one-by-one. To make this process easier I created a dictionary with the three job titles as keys and the items consisting of the list of ids corresponding to each title."
      ]
    },
    {
      "cell_type": "code",
      "metadata": {
        "colab_type": "code",
        "id": "dBQXVadABRZL",
        "colab": {
          "base_uri": "https://localhost:8080/",
          "height": 35
        },
        "outputId": "85c03607-790d-40eb-b2bc-b8db79cc3b2d"
      },
      "source": [
        "groups = df.groupby('jobTitle').groups\n",
        "groups.keys()"
      ],
      "execution_count": 10,
      "outputs": [
        {
          "output_type": "execute_result",
          "data": {
            "text/plain": [
              "dict_keys(['data analyst', 'data engineer', 'data scientist'])"
            ]
          },
          "metadata": {
            "tags": []
          },
          "execution_count": 10
        }
      ]
    },
    {
      "cell_type": "markdown",
      "metadata": {
        "colab_type": "text",
        "id": "tMXOvJVyBRZR"
      },
      "source": [
        "Now we can loop over the dictionary pulling down the description from each job in turn. There's another complication in that the job descriptions are returned as html documents. We're only interested in the text data so we're going to have the parse the html to extract the information we want. We can wrap this process inside a function which we call for each id in our dictionary. "
      ]
    },
    {
      "cell_type": "code",
      "metadata": {
        "colab_type": "code",
        "id": "oTWTyshLBRZX",
        "colab": {
          "base_uri": "https://localhost:8080/",
          "height": 206
        },
        "outputId": "fe1b27f0-29b8-4367-8014-02a8ae99c825"
      },
      "source": [
        "def get_job_desc(job_type, job_id, client, html_parser):\n",
        "    desc_html = client.job_details(job_id)['jobDescription']\n",
        "    parser.feed(desc_html)\n",
        "    desc_str = parser.return_data()\n",
        "    # reset parser string\n",
        "    parser.string = ''\n",
        "    return dict(job=job_type, job_id=job_id, desc=desc_str)\n",
        "    \n",
        "parser = MyHTMLParser()\n",
        "job_descriptions = []\n",
        "for title in groups:\n",
        "    for id in groups[title]:\n",
        "        job_desc_dict = get_job_desc(title, id, client, parser)\n",
        "        job_descriptions.append(job_desc_dict)\n",
        "        \n",
        "df = pd.DataFrame(job_descriptions)\n",
        "df.head()"
      ],
      "execution_count": 11,
      "outputs": [
        {
          "output_type": "execute_result",
          "data": {
            "text/html": [
              "<div>\n",
              "<style scoped>\n",
              "    .dataframe tbody tr th:only-of-type {\n",
              "        vertical-align: middle;\n",
              "    }\n",
              "\n",
              "    .dataframe tbody tr th {\n",
              "        vertical-align: top;\n",
              "    }\n",
              "\n",
              "    .dataframe thead th {\n",
              "        text-align: right;\n",
              "    }\n",
              "</style>\n",
              "<table border=\"1\" class=\"dataframe\">\n",
              "  <thead>\n",
              "    <tr style=\"text-align: right;\">\n",
              "      <th></th>\n",
              "      <th>job</th>\n",
              "      <th>job_id</th>\n",
              "      <th>desc</th>\n",
              "    </tr>\n",
              "  </thead>\n",
              "  <tbody>\n",
              "    <tr>\n",
              "      <th>0</th>\n",
              "      <td>data analyst</td>\n",
              "      <td>40505131</td>\n",
              "      <td>Cision is the biggest communications platform ...</td>\n",
              "    </tr>\n",
              "    <tr>\n",
              "      <th>1</th>\n",
              "      <td>data analyst</td>\n",
              "      <td>40537044</td>\n",
              "      <td>My client, a leader in Logistics have partnere...</td>\n",
              "    </tr>\n",
              "    <tr>\n",
              "      <th>2</th>\n",
              "      <td>data analyst</td>\n",
              "      <td>40504215</td>\n",
              "      <td>Position: Data Analyst Salary: £40,000 - £55,0...</td>\n",
              "    </tr>\n",
              "    <tr>\n",
              "      <th>3</th>\n",
              "      <td>data analyst</td>\n",
              "      <td>40535721</td>\n",
              "      <td>DATA ANALYST in HAVANT needed!  3-month contra...</td>\n",
              "    </tr>\n",
              "    <tr>\n",
              "      <th>4</th>\n",
              "      <td>data analyst</td>\n",
              "      <td>40535704</td>\n",
              "      <td>DATA ANALYST in READING needed!  3-month contr...</td>\n",
              "    </tr>\n",
              "  </tbody>\n",
              "</table>\n",
              "</div>"
            ],
            "text/plain": [
              "            job    job_id                                               desc\n",
              "0  data analyst  40505131  Cision is the biggest communications platform ...\n",
              "1  data analyst  40537044  My client, a leader in Logistics have partnere...\n",
              "2  data analyst  40504215  Position: Data Analyst Salary: £40,000 - £55,0...\n",
              "3  data analyst  40535721  DATA ANALYST in HAVANT needed!  3-month contra...\n",
              "4  data analyst  40535704  DATA ANALYST in READING needed!  3-month contr..."
            ]
          },
          "metadata": {
            "tags": []
          },
          "execution_count": 11
        }
      ]
    },
    {
      "cell_type": "markdown",
      "metadata": {
        "colab_type": "text",
        "id": "Z2Kij2hJBRZc"
      },
      "source": [
        "Now we're (nearly) ready to get into the good stuff. We need to do a bit more tidying before we get started on the visualisations. In order to visualise the content of the job descriptions we need a numerical representation of the text. One way to do this is with a bag-of-words approach, which consists of separating the text in our documents into tokens and counting the appearances of each token in each document. Sklearn can do this for us with its CountVectorizer class."
      ]
    },
    {
      "cell_type": "code",
      "metadata": {
        "id": "BYwkVDVUgzez",
        "colab_type": "code",
        "colab": {}
      },
      "source": [
        "filename = \"/content/data/job_data.json\"\n",
        "df = pd.read_csv(filename, index_col=0)"
      ],
      "execution_count": 25,
      "outputs": []
    },
    {
      "cell_type": "code",
      "metadata": {
        "colab_type": "code",
        "id": "RIrMRJxwBRZe",
        "colab": {}
      },
      "source": [
        "# hide\n",
        "df = df[~df.duplicated('desc')]\n",
        "\n",
        "cicd_pat = \"([Cc][Ii]/[Cc][Dd])\"\n",
        "phd_pat = \"[Pp][Hh].?[Dd]\"\n",
        "msc_pat = \"[Mm][Ss][Cc]\"\n",
        "r_pat = '(\\sR\\W)'\n",
        "\n",
        "df['desc'] = (df.desc.str.replace(',000', 'k')\n",
        "             .str.replace('\\xa0', ' ')\n",
        "             .str.replace(phd_pat, 'PHD')\n",
        "             .str.replace(msc_pat, 'MSC')\n",
        "             .str.replace(r_pat, ' RStudio ')\n",
        "             .str.replace(cicd_pat, ' CICD')\n",
        "             .str.replace('Modis', ''))"
      ],
      "execution_count": 26,
      "outputs": []
    },
    {
      "cell_type": "code",
      "metadata": {
        "colab_type": "code",
        "id": "Z0nBSziUBRZi",
        "colab": {
          "base_uri": "https://localhost:8080/",
          "height": 444
        },
        "outputId": "4f98f2fa-2663-45d1-bd69-025734e185e3"
      },
      "source": [
        "from sklearn.feature_extraction.text import CountVectorizer\n",
        "count_vectorizer = CountVectorizer(stop_words='english')\n",
        "text_data = np.array(df['desc'])\n",
        "count_matrix = count_vectorizer.fit_transform(text_data)\n",
        "count_matrix_df = pd.DataFrame(count_matrix.toarray(), columns=count_vectorizer.get_feature_names())\n",
        "count_matrix_df"
      ],
      "execution_count": 27,
      "outputs": [
        {
          "output_type": "execute_result",
          "data": {
            "text/html": [
              "<div>\n",
              "<style scoped>\n",
              "    .dataframe tbody tr th:only-of-type {\n",
              "        vertical-align: middle;\n",
              "    }\n",
              "\n",
              "    .dataframe tbody tr th {\n",
              "        vertical-align: top;\n",
              "    }\n",
              "\n",
              "    .dataframe thead th {\n",
              "        text-align: right;\n",
              "    }\n",
              "</style>\n",
              "<table border=\"1\" class=\"dataframe\">\n",
              "  <thead>\n",
              "    <tr style=\"text-align: right;\">\n",
              "      <th></th>\n",
              "      <th>00</th>\n",
              "      <th>000</th>\n",
              "      <th>025</th>\n",
              "      <th>04</th>\n",
              "      <th>06</th>\n",
              "      <th>075</th>\n",
              "      <th>08</th>\n",
              "      <th>10</th>\n",
              "      <th>100</th>\n",
              "      <th>100k</th>\n",
              "      <th>1070906</th>\n",
              "      <th>11</th>\n",
              "      <th>12</th>\n",
              "      <th>13</th>\n",
              "      <th>1376154</th>\n",
              "      <th>14</th>\n",
              "      <th>15</th>\n",
              "      <th>16</th>\n",
              "      <th>17</th>\n",
              "      <th>18</th>\n",
              "      <th>184</th>\n",
              "      <th>19</th>\n",
              "      <th>1997</th>\n",
              "      <th>1x</th>\n",
              "      <th>20</th>\n",
              "      <th>200</th>\n",
              "      <th>2003</th>\n",
              "      <th>2012</th>\n",
              "      <th>2018</th>\n",
              "      <th>2019</th>\n",
              "      <th>2020</th>\n",
              "      <th>20th</th>\n",
              "      <th>210</th>\n",
              "      <th>22nd</th>\n",
              "      <th>23</th>\n",
              "      <th>24</th>\n",
              "      <th>240</th>\n",
              "      <th>24k</th>\n",
              "      <th>24x7</th>\n",
              "      <th>25</th>\n",
              "      <th>...</th>\n",
              "      <th>won</th>\n",
              "      <th>word</th>\n",
              "      <th>words</th>\n",
              "      <th>work</th>\n",
              "      <th>worked</th>\n",
              "      <th>workers</th>\n",
              "      <th>workflow</th>\n",
              "      <th>workflows</th>\n",
              "      <th>workforce</th>\n",
              "      <th>working</th>\n",
              "      <th>workload</th>\n",
              "      <th>workloads</th>\n",
              "      <th>workplace</th>\n",
              "      <th>works</th>\n",
              "      <th>workshops</th>\n",
              "      <th>world</th>\n",
              "      <th>worldwide</th>\n",
              "      <th>worry</th>\n",
              "      <th>worth</th>\n",
              "      <th>wrangling</th>\n",
              "      <th>wrexham</th>\n",
              "      <th>wrigley</th>\n",
              "      <th>write</th>\n",
              "      <th>writers</th>\n",
              "      <th>writing</th>\n",
              "      <th>written</th>\n",
              "      <th>wrong</th>\n",
              "      <th>wtl</th>\n",
              "      <th>ww</th>\n",
              "      <th>www</th>\n",
              "      <th>x4</th>\n",
              "      <th>xml</th>\n",
              "      <th>yagni</th>\n",
              "      <th>yarn</th>\n",
              "      <th>year</th>\n",
              "      <th>years</th>\n",
              "      <th>yields</th>\n",
              "      <th>yoga</th>\n",
              "      <th>yorkshire</th>\n",
              "      <th>zachman</th>\n",
              "    </tr>\n",
              "  </thead>\n",
              "  <tbody>\n",
              "    <tr>\n",
              "      <th>0</th>\n",
              "      <td>0</td>\n",
              "      <td>0</td>\n",
              "      <td>0</td>\n",
              "      <td>0</td>\n",
              "      <td>0</td>\n",
              "      <td>0</td>\n",
              "      <td>0</td>\n",
              "      <td>0</td>\n",
              "      <td>0</td>\n",
              "      <td>0</td>\n",
              "      <td>0</td>\n",
              "      <td>0</td>\n",
              "      <td>0</td>\n",
              "      <td>0</td>\n",
              "      <td>0</td>\n",
              "      <td>0</td>\n",
              "      <td>0</td>\n",
              "      <td>0</td>\n",
              "      <td>0</td>\n",
              "      <td>0</td>\n",
              "      <td>0</td>\n",
              "      <td>0</td>\n",
              "      <td>0</td>\n",
              "      <td>0</td>\n",
              "      <td>0</td>\n",
              "      <td>0</td>\n",
              "      <td>0</td>\n",
              "      <td>0</td>\n",
              "      <td>0</td>\n",
              "      <td>0</td>\n",
              "      <td>0</td>\n",
              "      <td>0</td>\n",
              "      <td>0</td>\n",
              "      <td>0</td>\n",
              "      <td>0</td>\n",
              "      <td>0</td>\n",
              "      <td>0</td>\n",
              "      <td>0</td>\n",
              "      <td>0</td>\n",
              "      <td>0</td>\n",
              "      <td>...</td>\n",
              "      <td>0</td>\n",
              "      <td>0</td>\n",
              "      <td>0</td>\n",
              "      <td>0</td>\n",
              "      <td>0</td>\n",
              "      <td>0</td>\n",
              "      <td>0</td>\n",
              "      <td>0</td>\n",
              "      <td>0</td>\n",
              "      <td>0</td>\n",
              "      <td>0</td>\n",
              "      <td>0</td>\n",
              "      <td>0</td>\n",
              "      <td>0</td>\n",
              "      <td>0</td>\n",
              "      <td>0</td>\n",
              "      <td>0</td>\n",
              "      <td>0</td>\n",
              "      <td>0</td>\n",
              "      <td>0</td>\n",
              "      <td>0</td>\n",
              "      <td>0</td>\n",
              "      <td>0</td>\n",
              "      <td>0</td>\n",
              "      <td>0</td>\n",
              "      <td>0</td>\n",
              "      <td>0</td>\n",
              "      <td>0</td>\n",
              "      <td>0</td>\n",
              "      <td>0</td>\n",
              "      <td>0</td>\n",
              "      <td>0</td>\n",
              "      <td>0</td>\n",
              "      <td>0</td>\n",
              "      <td>0</td>\n",
              "      <td>0</td>\n",
              "      <td>0</td>\n",
              "      <td>0</td>\n",
              "      <td>0</td>\n",
              "      <td>0</td>\n",
              "    </tr>\n",
              "    <tr>\n",
              "      <th>1</th>\n",
              "      <td>0</td>\n",
              "      <td>0</td>\n",
              "      <td>0</td>\n",
              "      <td>0</td>\n",
              "      <td>0</td>\n",
              "      <td>0</td>\n",
              "      <td>0</td>\n",
              "      <td>0</td>\n",
              "      <td>0</td>\n",
              "      <td>0</td>\n",
              "      <td>0</td>\n",
              "      <td>0</td>\n",
              "      <td>0</td>\n",
              "      <td>0</td>\n",
              "      <td>0</td>\n",
              "      <td>0</td>\n",
              "      <td>0</td>\n",
              "      <td>0</td>\n",
              "      <td>0</td>\n",
              "      <td>0</td>\n",
              "      <td>0</td>\n",
              "      <td>0</td>\n",
              "      <td>0</td>\n",
              "      <td>0</td>\n",
              "      <td>0</td>\n",
              "      <td>0</td>\n",
              "      <td>0</td>\n",
              "      <td>0</td>\n",
              "      <td>0</td>\n",
              "      <td>0</td>\n",
              "      <td>0</td>\n",
              "      <td>0</td>\n",
              "      <td>0</td>\n",
              "      <td>0</td>\n",
              "      <td>0</td>\n",
              "      <td>0</td>\n",
              "      <td>0</td>\n",
              "      <td>0</td>\n",
              "      <td>0</td>\n",
              "      <td>0</td>\n",
              "      <td>...</td>\n",
              "      <td>0</td>\n",
              "      <td>0</td>\n",
              "      <td>0</td>\n",
              "      <td>0</td>\n",
              "      <td>0</td>\n",
              "      <td>0</td>\n",
              "      <td>0</td>\n",
              "      <td>0</td>\n",
              "      <td>0</td>\n",
              "      <td>3</td>\n",
              "      <td>0</td>\n",
              "      <td>0</td>\n",
              "      <td>0</td>\n",
              "      <td>0</td>\n",
              "      <td>0</td>\n",
              "      <td>0</td>\n",
              "      <td>0</td>\n",
              "      <td>0</td>\n",
              "      <td>0</td>\n",
              "      <td>0</td>\n",
              "      <td>1</td>\n",
              "      <td>0</td>\n",
              "      <td>0</td>\n",
              "      <td>0</td>\n",
              "      <td>1</td>\n",
              "      <td>0</td>\n",
              "      <td>0</td>\n",
              "      <td>0</td>\n",
              "      <td>0</td>\n",
              "      <td>0</td>\n",
              "      <td>0</td>\n",
              "      <td>0</td>\n",
              "      <td>0</td>\n",
              "      <td>0</td>\n",
              "      <td>0</td>\n",
              "      <td>0</td>\n",
              "      <td>0</td>\n",
              "      <td>0</td>\n",
              "      <td>0</td>\n",
              "      <td>0</td>\n",
              "    </tr>\n",
              "    <tr>\n",
              "      <th>2</th>\n",
              "      <td>0</td>\n",
              "      <td>0</td>\n",
              "      <td>0</td>\n",
              "      <td>0</td>\n",
              "      <td>0</td>\n",
              "      <td>0</td>\n",
              "      <td>0</td>\n",
              "      <td>0</td>\n",
              "      <td>0</td>\n",
              "      <td>0</td>\n",
              "      <td>0</td>\n",
              "      <td>0</td>\n",
              "      <td>0</td>\n",
              "      <td>0</td>\n",
              "      <td>0</td>\n",
              "      <td>0</td>\n",
              "      <td>0</td>\n",
              "      <td>0</td>\n",
              "      <td>0</td>\n",
              "      <td>0</td>\n",
              "      <td>0</td>\n",
              "      <td>0</td>\n",
              "      <td>0</td>\n",
              "      <td>0</td>\n",
              "      <td>1</td>\n",
              "      <td>0</td>\n",
              "      <td>0</td>\n",
              "      <td>0</td>\n",
              "      <td>0</td>\n",
              "      <td>0</td>\n",
              "      <td>0</td>\n",
              "      <td>0</td>\n",
              "      <td>0</td>\n",
              "      <td>0</td>\n",
              "      <td>0</td>\n",
              "      <td>0</td>\n",
              "      <td>0</td>\n",
              "      <td>0</td>\n",
              "      <td>0</td>\n",
              "      <td>0</td>\n",
              "      <td>...</td>\n",
              "      <td>0</td>\n",
              "      <td>0</td>\n",
              "      <td>0</td>\n",
              "      <td>0</td>\n",
              "      <td>0</td>\n",
              "      <td>0</td>\n",
              "      <td>0</td>\n",
              "      <td>0</td>\n",
              "      <td>0</td>\n",
              "      <td>0</td>\n",
              "      <td>0</td>\n",
              "      <td>0</td>\n",
              "      <td>0</td>\n",
              "      <td>0</td>\n",
              "      <td>0</td>\n",
              "      <td>0</td>\n",
              "      <td>0</td>\n",
              "      <td>0</td>\n",
              "      <td>0</td>\n",
              "      <td>0</td>\n",
              "      <td>0</td>\n",
              "      <td>0</td>\n",
              "      <td>0</td>\n",
              "      <td>0</td>\n",
              "      <td>0</td>\n",
              "      <td>0</td>\n",
              "      <td>0</td>\n",
              "      <td>0</td>\n",
              "      <td>0</td>\n",
              "      <td>0</td>\n",
              "      <td>0</td>\n",
              "      <td>0</td>\n",
              "      <td>0</td>\n",
              "      <td>0</td>\n",
              "      <td>0</td>\n",
              "      <td>0</td>\n",
              "      <td>0</td>\n",
              "      <td>0</td>\n",
              "      <td>0</td>\n",
              "      <td>0</td>\n",
              "    </tr>\n",
              "    <tr>\n",
              "      <th>3</th>\n",
              "      <td>0</td>\n",
              "      <td>0</td>\n",
              "      <td>0</td>\n",
              "      <td>0</td>\n",
              "      <td>0</td>\n",
              "      <td>0</td>\n",
              "      <td>0</td>\n",
              "      <td>0</td>\n",
              "      <td>0</td>\n",
              "      <td>0</td>\n",
              "      <td>0</td>\n",
              "      <td>0</td>\n",
              "      <td>0</td>\n",
              "      <td>0</td>\n",
              "      <td>0</td>\n",
              "      <td>0</td>\n",
              "      <td>0</td>\n",
              "      <td>0</td>\n",
              "      <td>0</td>\n",
              "      <td>0</td>\n",
              "      <td>0</td>\n",
              "      <td>0</td>\n",
              "      <td>0</td>\n",
              "      <td>0</td>\n",
              "      <td>0</td>\n",
              "      <td>0</td>\n",
              "      <td>0</td>\n",
              "      <td>0</td>\n",
              "      <td>0</td>\n",
              "      <td>0</td>\n",
              "      <td>2</td>\n",
              "      <td>1</td>\n",
              "      <td>0</td>\n",
              "      <td>0</td>\n",
              "      <td>0</td>\n",
              "      <td>0</td>\n",
              "      <td>0</td>\n",
              "      <td>0</td>\n",
              "      <td>0</td>\n",
              "      <td>0</td>\n",
              "      <td>...</td>\n",
              "      <td>0</td>\n",
              "      <td>0</td>\n",
              "      <td>0</td>\n",
              "      <td>3</td>\n",
              "      <td>0</td>\n",
              "      <td>0</td>\n",
              "      <td>0</td>\n",
              "      <td>0</td>\n",
              "      <td>0</td>\n",
              "      <td>1</td>\n",
              "      <td>0</td>\n",
              "      <td>0</td>\n",
              "      <td>1</td>\n",
              "      <td>0</td>\n",
              "      <td>0</td>\n",
              "      <td>0</td>\n",
              "      <td>0</td>\n",
              "      <td>0</td>\n",
              "      <td>0</td>\n",
              "      <td>0</td>\n",
              "      <td>0</td>\n",
              "      <td>0</td>\n",
              "      <td>0</td>\n",
              "      <td>0</td>\n",
              "      <td>0</td>\n",
              "      <td>0</td>\n",
              "      <td>0</td>\n",
              "      <td>0</td>\n",
              "      <td>0</td>\n",
              "      <td>0</td>\n",
              "      <td>0</td>\n",
              "      <td>0</td>\n",
              "      <td>0</td>\n",
              "      <td>0</td>\n",
              "      <td>0</td>\n",
              "      <td>0</td>\n",
              "      <td>0</td>\n",
              "      <td>0</td>\n",
              "      <td>0</td>\n",
              "      <td>0</td>\n",
              "    </tr>\n",
              "    <tr>\n",
              "      <th>4</th>\n",
              "      <td>0</td>\n",
              "      <td>0</td>\n",
              "      <td>0</td>\n",
              "      <td>0</td>\n",
              "      <td>0</td>\n",
              "      <td>0</td>\n",
              "      <td>0</td>\n",
              "      <td>0</td>\n",
              "      <td>0</td>\n",
              "      <td>0</td>\n",
              "      <td>0</td>\n",
              "      <td>0</td>\n",
              "      <td>0</td>\n",
              "      <td>0</td>\n",
              "      <td>0</td>\n",
              "      <td>0</td>\n",
              "      <td>0</td>\n",
              "      <td>0</td>\n",
              "      <td>0</td>\n",
              "      <td>0</td>\n",
              "      <td>0</td>\n",
              "      <td>0</td>\n",
              "      <td>0</td>\n",
              "      <td>0</td>\n",
              "      <td>0</td>\n",
              "      <td>0</td>\n",
              "      <td>0</td>\n",
              "      <td>0</td>\n",
              "      <td>0</td>\n",
              "      <td>0</td>\n",
              "      <td>0</td>\n",
              "      <td>0</td>\n",
              "      <td>0</td>\n",
              "      <td>0</td>\n",
              "      <td>0</td>\n",
              "      <td>0</td>\n",
              "      <td>0</td>\n",
              "      <td>0</td>\n",
              "      <td>0</td>\n",
              "      <td>0</td>\n",
              "      <td>...</td>\n",
              "      <td>0</td>\n",
              "      <td>0</td>\n",
              "      <td>0</td>\n",
              "      <td>0</td>\n",
              "      <td>0</td>\n",
              "      <td>0</td>\n",
              "      <td>0</td>\n",
              "      <td>0</td>\n",
              "      <td>0</td>\n",
              "      <td>2</td>\n",
              "      <td>0</td>\n",
              "      <td>0</td>\n",
              "      <td>0</td>\n",
              "      <td>0</td>\n",
              "      <td>0</td>\n",
              "      <td>0</td>\n",
              "      <td>0</td>\n",
              "      <td>0</td>\n",
              "      <td>0</td>\n",
              "      <td>0</td>\n",
              "      <td>0</td>\n",
              "      <td>0</td>\n",
              "      <td>0</td>\n",
              "      <td>0</td>\n",
              "      <td>1</td>\n",
              "      <td>0</td>\n",
              "      <td>0</td>\n",
              "      <td>0</td>\n",
              "      <td>0</td>\n",
              "      <td>0</td>\n",
              "      <td>0</td>\n",
              "      <td>0</td>\n",
              "      <td>0</td>\n",
              "      <td>0</td>\n",
              "      <td>0</td>\n",
              "      <td>0</td>\n",
              "      <td>0</td>\n",
              "      <td>0</td>\n",
              "      <td>0</td>\n",
              "      <td>0</td>\n",
              "    </tr>\n",
              "    <tr>\n",
              "      <th>...</th>\n",
              "      <td>...</td>\n",
              "      <td>...</td>\n",
              "      <td>...</td>\n",
              "      <td>...</td>\n",
              "      <td>...</td>\n",
              "      <td>...</td>\n",
              "      <td>...</td>\n",
              "      <td>...</td>\n",
              "      <td>...</td>\n",
              "      <td>...</td>\n",
              "      <td>...</td>\n",
              "      <td>...</td>\n",
              "      <td>...</td>\n",
              "      <td>...</td>\n",
              "      <td>...</td>\n",
              "      <td>...</td>\n",
              "      <td>...</td>\n",
              "      <td>...</td>\n",
              "      <td>...</td>\n",
              "      <td>...</td>\n",
              "      <td>...</td>\n",
              "      <td>...</td>\n",
              "      <td>...</td>\n",
              "      <td>...</td>\n",
              "      <td>...</td>\n",
              "      <td>...</td>\n",
              "      <td>...</td>\n",
              "      <td>...</td>\n",
              "      <td>...</td>\n",
              "      <td>...</td>\n",
              "      <td>...</td>\n",
              "      <td>...</td>\n",
              "      <td>...</td>\n",
              "      <td>...</td>\n",
              "      <td>...</td>\n",
              "      <td>...</td>\n",
              "      <td>...</td>\n",
              "      <td>...</td>\n",
              "      <td>...</td>\n",
              "      <td>...</td>\n",
              "      <td>...</td>\n",
              "      <td>...</td>\n",
              "      <td>...</td>\n",
              "      <td>...</td>\n",
              "      <td>...</td>\n",
              "      <td>...</td>\n",
              "      <td>...</td>\n",
              "      <td>...</td>\n",
              "      <td>...</td>\n",
              "      <td>...</td>\n",
              "      <td>...</td>\n",
              "      <td>...</td>\n",
              "      <td>...</td>\n",
              "      <td>...</td>\n",
              "      <td>...</td>\n",
              "      <td>...</td>\n",
              "      <td>...</td>\n",
              "      <td>...</td>\n",
              "      <td>...</td>\n",
              "      <td>...</td>\n",
              "      <td>...</td>\n",
              "      <td>...</td>\n",
              "      <td>...</td>\n",
              "      <td>...</td>\n",
              "      <td>...</td>\n",
              "      <td>...</td>\n",
              "      <td>...</td>\n",
              "      <td>...</td>\n",
              "      <td>...</td>\n",
              "      <td>...</td>\n",
              "      <td>...</td>\n",
              "      <td>...</td>\n",
              "      <td>...</td>\n",
              "      <td>...</td>\n",
              "      <td>...</td>\n",
              "      <td>...</td>\n",
              "      <td>...</td>\n",
              "      <td>...</td>\n",
              "      <td>...</td>\n",
              "      <td>...</td>\n",
              "      <td>...</td>\n",
              "    </tr>\n",
              "    <tr>\n",
              "      <th>128</th>\n",
              "      <td>0</td>\n",
              "      <td>0</td>\n",
              "      <td>0</td>\n",
              "      <td>0</td>\n",
              "      <td>0</td>\n",
              "      <td>0</td>\n",
              "      <td>0</td>\n",
              "      <td>0</td>\n",
              "      <td>0</td>\n",
              "      <td>0</td>\n",
              "      <td>0</td>\n",
              "      <td>0</td>\n",
              "      <td>0</td>\n",
              "      <td>0</td>\n",
              "      <td>0</td>\n",
              "      <td>0</td>\n",
              "      <td>0</td>\n",
              "      <td>0</td>\n",
              "      <td>0</td>\n",
              "      <td>0</td>\n",
              "      <td>0</td>\n",
              "      <td>0</td>\n",
              "      <td>0</td>\n",
              "      <td>0</td>\n",
              "      <td>0</td>\n",
              "      <td>0</td>\n",
              "      <td>0</td>\n",
              "      <td>0</td>\n",
              "      <td>0</td>\n",
              "      <td>0</td>\n",
              "      <td>0</td>\n",
              "      <td>0</td>\n",
              "      <td>0</td>\n",
              "      <td>0</td>\n",
              "      <td>0</td>\n",
              "      <td>0</td>\n",
              "      <td>0</td>\n",
              "      <td>0</td>\n",
              "      <td>0</td>\n",
              "      <td>0</td>\n",
              "      <td>...</td>\n",
              "      <td>1</td>\n",
              "      <td>0</td>\n",
              "      <td>1</td>\n",
              "      <td>4</td>\n",
              "      <td>1</td>\n",
              "      <td>1</td>\n",
              "      <td>0</td>\n",
              "      <td>0</td>\n",
              "      <td>0</td>\n",
              "      <td>2</td>\n",
              "      <td>0</td>\n",
              "      <td>0</td>\n",
              "      <td>0</td>\n",
              "      <td>1</td>\n",
              "      <td>0</td>\n",
              "      <td>1</td>\n",
              "      <td>0</td>\n",
              "      <td>0</td>\n",
              "      <td>0</td>\n",
              "      <td>0</td>\n",
              "      <td>0</td>\n",
              "      <td>0</td>\n",
              "      <td>0</td>\n",
              "      <td>0</td>\n",
              "      <td>0</td>\n",
              "      <td>0</td>\n",
              "      <td>0</td>\n",
              "      <td>0</td>\n",
              "      <td>0</td>\n",
              "      <td>0</td>\n",
              "      <td>0</td>\n",
              "      <td>0</td>\n",
              "      <td>0</td>\n",
              "      <td>0</td>\n",
              "      <td>0</td>\n",
              "      <td>1</td>\n",
              "      <td>0</td>\n",
              "      <td>0</td>\n",
              "      <td>0</td>\n",
              "      <td>0</td>\n",
              "    </tr>\n",
              "    <tr>\n",
              "      <th>129</th>\n",
              "      <td>0</td>\n",
              "      <td>0</td>\n",
              "      <td>0</td>\n",
              "      <td>0</td>\n",
              "      <td>0</td>\n",
              "      <td>0</td>\n",
              "      <td>0</td>\n",
              "      <td>0</td>\n",
              "      <td>0</td>\n",
              "      <td>0</td>\n",
              "      <td>0</td>\n",
              "      <td>0</td>\n",
              "      <td>0</td>\n",
              "      <td>0</td>\n",
              "      <td>0</td>\n",
              "      <td>0</td>\n",
              "      <td>0</td>\n",
              "      <td>0</td>\n",
              "      <td>0</td>\n",
              "      <td>0</td>\n",
              "      <td>0</td>\n",
              "      <td>1</td>\n",
              "      <td>0</td>\n",
              "      <td>0</td>\n",
              "      <td>0</td>\n",
              "      <td>0</td>\n",
              "      <td>0</td>\n",
              "      <td>0</td>\n",
              "      <td>0</td>\n",
              "      <td>0</td>\n",
              "      <td>0</td>\n",
              "      <td>0</td>\n",
              "      <td>0</td>\n",
              "      <td>0</td>\n",
              "      <td>0</td>\n",
              "      <td>0</td>\n",
              "      <td>0</td>\n",
              "      <td>0</td>\n",
              "      <td>0</td>\n",
              "      <td>0</td>\n",
              "      <td>...</td>\n",
              "      <td>0</td>\n",
              "      <td>0</td>\n",
              "      <td>0</td>\n",
              "      <td>4</td>\n",
              "      <td>0</td>\n",
              "      <td>0</td>\n",
              "      <td>0</td>\n",
              "      <td>0</td>\n",
              "      <td>0</td>\n",
              "      <td>4</td>\n",
              "      <td>0</td>\n",
              "      <td>0</td>\n",
              "      <td>0</td>\n",
              "      <td>0</td>\n",
              "      <td>0</td>\n",
              "      <td>0</td>\n",
              "      <td>0</td>\n",
              "      <td>0</td>\n",
              "      <td>0</td>\n",
              "      <td>0</td>\n",
              "      <td>0</td>\n",
              "      <td>0</td>\n",
              "      <td>0</td>\n",
              "      <td>0</td>\n",
              "      <td>0</td>\n",
              "      <td>0</td>\n",
              "      <td>0</td>\n",
              "      <td>0</td>\n",
              "      <td>0</td>\n",
              "      <td>0</td>\n",
              "      <td>0</td>\n",
              "      <td>0</td>\n",
              "      <td>0</td>\n",
              "      <td>0</td>\n",
              "      <td>0</td>\n",
              "      <td>0</td>\n",
              "      <td>0</td>\n",
              "      <td>0</td>\n",
              "      <td>0</td>\n",
              "      <td>0</td>\n",
              "    </tr>\n",
              "    <tr>\n",
              "      <th>130</th>\n",
              "      <td>0</td>\n",
              "      <td>0</td>\n",
              "      <td>0</td>\n",
              "      <td>0</td>\n",
              "      <td>0</td>\n",
              "      <td>0</td>\n",
              "      <td>0</td>\n",
              "      <td>0</td>\n",
              "      <td>0</td>\n",
              "      <td>0</td>\n",
              "      <td>0</td>\n",
              "      <td>0</td>\n",
              "      <td>0</td>\n",
              "      <td>0</td>\n",
              "      <td>0</td>\n",
              "      <td>0</td>\n",
              "      <td>0</td>\n",
              "      <td>0</td>\n",
              "      <td>0</td>\n",
              "      <td>0</td>\n",
              "      <td>0</td>\n",
              "      <td>0</td>\n",
              "      <td>0</td>\n",
              "      <td>0</td>\n",
              "      <td>0</td>\n",
              "      <td>0</td>\n",
              "      <td>0</td>\n",
              "      <td>0</td>\n",
              "      <td>0</td>\n",
              "      <td>0</td>\n",
              "      <td>0</td>\n",
              "      <td>0</td>\n",
              "      <td>0</td>\n",
              "      <td>0</td>\n",
              "      <td>0</td>\n",
              "      <td>0</td>\n",
              "      <td>0</td>\n",
              "      <td>0</td>\n",
              "      <td>0</td>\n",
              "      <td>0</td>\n",
              "      <td>...</td>\n",
              "      <td>0</td>\n",
              "      <td>0</td>\n",
              "      <td>0</td>\n",
              "      <td>0</td>\n",
              "      <td>0</td>\n",
              "      <td>0</td>\n",
              "      <td>0</td>\n",
              "      <td>0</td>\n",
              "      <td>0</td>\n",
              "      <td>1</td>\n",
              "      <td>0</td>\n",
              "      <td>0</td>\n",
              "      <td>0</td>\n",
              "      <td>0</td>\n",
              "      <td>0</td>\n",
              "      <td>0</td>\n",
              "      <td>0</td>\n",
              "      <td>0</td>\n",
              "      <td>0</td>\n",
              "      <td>0</td>\n",
              "      <td>0</td>\n",
              "      <td>0</td>\n",
              "      <td>0</td>\n",
              "      <td>0</td>\n",
              "      <td>0</td>\n",
              "      <td>0</td>\n",
              "      <td>0</td>\n",
              "      <td>0</td>\n",
              "      <td>0</td>\n",
              "      <td>0</td>\n",
              "      <td>0</td>\n",
              "      <td>0</td>\n",
              "      <td>0</td>\n",
              "      <td>0</td>\n",
              "      <td>0</td>\n",
              "      <td>1</td>\n",
              "      <td>0</td>\n",
              "      <td>0</td>\n",
              "      <td>0</td>\n",
              "      <td>0</td>\n",
              "    </tr>\n",
              "    <tr>\n",
              "      <th>131</th>\n",
              "      <td>0</td>\n",
              "      <td>0</td>\n",
              "      <td>0</td>\n",
              "      <td>0</td>\n",
              "      <td>0</td>\n",
              "      <td>0</td>\n",
              "      <td>0</td>\n",
              "      <td>0</td>\n",
              "      <td>0</td>\n",
              "      <td>0</td>\n",
              "      <td>0</td>\n",
              "      <td>0</td>\n",
              "      <td>0</td>\n",
              "      <td>0</td>\n",
              "      <td>0</td>\n",
              "      <td>0</td>\n",
              "      <td>0</td>\n",
              "      <td>0</td>\n",
              "      <td>0</td>\n",
              "      <td>0</td>\n",
              "      <td>0</td>\n",
              "      <td>0</td>\n",
              "      <td>0</td>\n",
              "      <td>0</td>\n",
              "      <td>0</td>\n",
              "      <td>0</td>\n",
              "      <td>0</td>\n",
              "      <td>0</td>\n",
              "      <td>0</td>\n",
              "      <td>0</td>\n",
              "      <td>0</td>\n",
              "      <td>0</td>\n",
              "      <td>0</td>\n",
              "      <td>0</td>\n",
              "      <td>0</td>\n",
              "      <td>0</td>\n",
              "      <td>0</td>\n",
              "      <td>0</td>\n",
              "      <td>0</td>\n",
              "      <td>0</td>\n",
              "      <td>...</td>\n",
              "      <td>0</td>\n",
              "      <td>0</td>\n",
              "      <td>0</td>\n",
              "      <td>0</td>\n",
              "      <td>0</td>\n",
              "      <td>1</td>\n",
              "      <td>0</td>\n",
              "      <td>0</td>\n",
              "      <td>0</td>\n",
              "      <td>0</td>\n",
              "      <td>0</td>\n",
              "      <td>0</td>\n",
              "      <td>0</td>\n",
              "      <td>0</td>\n",
              "      <td>0</td>\n",
              "      <td>0</td>\n",
              "      <td>0</td>\n",
              "      <td>0</td>\n",
              "      <td>0</td>\n",
              "      <td>0</td>\n",
              "      <td>0</td>\n",
              "      <td>0</td>\n",
              "      <td>0</td>\n",
              "      <td>0</td>\n",
              "      <td>0</td>\n",
              "      <td>0</td>\n",
              "      <td>0</td>\n",
              "      <td>0</td>\n",
              "      <td>0</td>\n",
              "      <td>0</td>\n",
              "      <td>0</td>\n",
              "      <td>0</td>\n",
              "      <td>0</td>\n",
              "      <td>0</td>\n",
              "      <td>0</td>\n",
              "      <td>0</td>\n",
              "      <td>0</td>\n",
              "      <td>0</td>\n",
              "      <td>0</td>\n",
              "      <td>0</td>\n",
              "    </tr>\n",
              "    <tr>\n",
              "      <th>132</th>\n",
              "      <td>0</td>\n",
              "      <td>0</td>\n",
              "      <td>0</td>\n",
              "      <td>0</td>\n",
              "      <td>0</td>\n",
              "      <td>0</td>\n",
              "      <td>0</td>\n",
              "      <td>0</td>\n",
              "      <td>0</td>\n",
              "      <td>0</td>\n",
              "      <td>0</td>\n",
              "      <td>0</td>\n",
              "      <td>0</td>\n",
              "      <td>0</td>\n",
              "      <td>0</td>\n",
              "      <td>0</td>\n",
              "      <td>0</td>\n",
              "      <td>0</td>\n",
              "      <td>0</td>\n",
              "      <td>0</td>\n",
              "      <td>0</td>\n",
              "      <td>0</td>\n",
              "      <td>0</td>\n",
              "      <td>0</td>\n",
              "      <td>0</td>\n",
              "      <td>0</td>\n",
              "      <td>0</td>\n",
              "      <td>0</td>\n",
              "      <td>0</td>\n",
              "      <td>0</td>\n",
              "      <td>0</td>\n",
              "      <td>0</td>\n",
              "      <td>0</td>\n",
              "      <td>0</td>\n",
              "      <td>0</td>\n",
              "      <td>0</td>\n",
              "      <td>0</td>\n",
              "      <td>0</td>\n",
              "      <td>0</td>\n",
              "      <td>0</td>\n",
              "      <td>...</td>\n",
              "      <td>0</td>\n",
              "      <td>0</td>\n",
              "      <td>0</td>\n",
              "      <td>3</td>\n",
              "      <td>0</td>\n",
              "      <td>0</td>\n",
              "      <td>0</td>\n",
              "      <td>0</td>\n",
              "      <td>0</td>\n",
              "      <td>2</td>\n",
              "      <td>0</td>\n",
              "      <td>0</td>\n",
              "      <td>0</td>\n",
              "      <td>0</td>\n",
              "      <td>0</td>\n",
              "      <td>1</td>\n",
              "      <td>0</td>\n",
              "      <td>0</td>\n",
              "      <td>0</td>\n",
              "      <td>0</td>\n",
              "      <td>0</td>\n",
              "      <td>0</td>\n",
              "      <td>0</td>\n",
              "      <td>0</td>\n",
              "      <td>0</td>\n",
              "      <td>0</td>\n",
              "      <td>0</td>\n",
              "      <td>0</td>\n",
              "      <td>0</td>\n",
              "      <td>0</td>\n",
              "      <td>0</td>\n",
              "      <td>0</td>\n",
              "      <td>0</td>\n",
              "      <td>0</td>\n",
              "      <td>0</td>\n",
              "      <td>1</td>\n",
              "      <td>0</td>\n",
              "      <td>0</td>\n",
              "      <td>0</td>\n",
              "      <td>0</td>\n",
              "    </tr>\n",
              "  </tbody>\n",
              "</table>\n",
              "<p>133 rows × 3741 columns</p>\n",
              "</div>"
            ],
            "text/plain": [
              "     00  000  025  04  06  075  ...  year  years  yields  yoga  yorkshire  zachman\n",
              "0     0    0    0   0   0    0  ...     0      0       0     0          0        0\n",
              "1     0    0    0   0   0    0  ...     0      0       0     0          0        0\n",
              "2     0    0    0   0   0    0  ...     0      0       0     0          0        0\n",
              "3     0    0    0   0   0    0  ...     0      0       0     0          0        0\n",
              "4     0    0    0   0   0    0  ...     0      0       0     0          0        0\n",
              "..   ..  ...  ...  ..  ..  ...  ...   ...    ...     ...   ...        ...      ...\n",
              "128   0    0    0   0   0    0  ...     0      1       0     0          0        0\n",
              "129   0    0    0   0   0    0  ...     0      0       0     0          0        0\n",
              "130   0    0    0   0   0    0  ...     0      1       0     0          0        0\n",
              "131   0    0    0   0   0    0  ...     0      0       0     0          0        0\n",
              "132   0    0    0   0   0    0  ...     0      1       0     0          0        0\n",
              "\n",
              "[133 rows x 3741 columns]"
            ]
          },
          "metadata": {
            "tags": []
          },
          "execution_count": 27
        }
      ]
    },
    {
      "cell_type": "markdown",
      "metadata": {
        "colab_type": "text",
        "id": "L8RruR_3BRZp"
      },
      "source": [
        "When we fit the CountVectorizer transform to an array containing each job description what we get is a document-term matrix: the rows are the job descriptions and the columns are all the words which were found in the collection of documents. The contents of the matrix are the word frequencies. How can we use this implementation to visualise the three different roles? A simple option is to look at the most frequent words across the three classes: if we group the documents into the three roles, sum the word frequencies and sort them in descending order we'll see which words appear the most in each. I've used plotly to create plots of the most frequent words in each role."
      ]
    },
    {
      "cell_type": "code",
      "metadata": {
        "colab_type": "code",
        "id": "G7ldg7DJBRZp",
        "colab": {
          "base_uri": "https://localhost:8080/",
          "height": 617
        },
        "outputId": "2bf5f46e-6e7c-4af8-fad1-5c1d7031b067"
      },
      "source": [
        "# hide_input\n",
        "from plotly.subplots import make_subplots\n",
        "import plotly.graph_objects as go\n",
        "\n",
        "count_matrix_df['job'] = df.job\n",
        "counts_by_job = (count_matrix_df.groupby('job')\n",
        "                 .sum()\n",
        "                 .transpose()\n",
        "                 .reset_index()\n",
        "                 .rename(columns={'index': 'word'}))\n",
        "\n",
        "da_top = counts_by_job[['word', 'data analyst']].sort_values('data analyst', ascending=False)[:20]\n",
        "de_top = counts_by_job[['word', 'data engineer']].sort_values('data engineer', ascending=False)[:20]\n",
        "ds_top = counts_by_job[['word', 'data scientist']].sort_values('data scientist', ascending=False)[:20]\n",
        "\n",
        "colours_dict = {'data analyst': '#636efa', 'data scientist': '#00cc96', 'data engineer': '#EF553B'}\n",
        "\n",
        "fig = make_subplots(rows=1, \n",
        "                    cols=3, \n",
        "                    subplot_titles=(\"DS top words\", \"DE top words\", \"DA top words\"),\n",
        "                    x_title='frequency'\n",
        "                )\n",
        "\n",
        "fig.add_trace(go.Bar(\n",
        "    y=ds_top['word'],\n",
        "    x=ds_top['data scientist'],\n",
        "    orientation='h',\n",
        "    name='ds',\n",
        "    marker=dict(color=colours_dict['data scientist'])),\n",
        "    row=1, col=1\n",
        ")\n",
        "\n",
        "fig.add_trace(go.Bar(\n",
        "    y=de_top['word'],\n",
        "    x=de_top['data engineer'],\n",
        "    orientation='h',\n",
        "    name='de',\n",
        "    marker=dict(color=colours_dict['data engineer'])),\n",
        "    row=1, col=2\n",
        ")\n",
        "\n",
        "fig.add_trace(go.Bar(\n",
        "    y=da_top['word'],\n",
        "    x=da_top['data analyst'],\n",
        "    orientation='h',\n",
        "    name='da',\n",
        "    marker=dict(color=colours_dict['data analyst'])),\n",
        "    row=1, col=3\n",
        ")\n",
        "\n",
        "fig.update_layout(\n",
        "    yaxis1=dict(autorange=\"reversed\"),\n",
        "    yaxis2=dict(autorange=\"reversed\"),\n",
        "    yaxis3=dict(autorange=\"reversed\"),\n",
        "    height=600, width=1000,\n",
        "    showlegend=False\n",
        ")\n",
        "fig.show()"
      ],
      "execution_count": 28,
      "outputs": [
        {
          "output_type": "display_data",
          "data": {
            "text/html": [
              "<html>\n",
              "<head><meta charset=\"utf-8\" /></head>\n",
              "<body>\n",
              "    <div>\n",
              "            <script src=\"https://cdnjs.cloudflare.com/ajax/libs/mathjax/2.7.5/MathJax.js?config=TeX-AMS-MML_SVG\"></script><script type=\"text/javascript\">if (window.MathJax) {MathJax.Hub.Config({SVG: {font: \"STIX-Web\"}});}</script>\n",
              "                <script type=\"text/javascript\">window.PlotlyConfig = {MathJaxConfig: 'local'};</script>\n",
              "        <script src=\"https://cdn.plot.ly/plotly-latest.min.js\"></script>    \n",
              "            <div id=\"aa59aaf2-089a-484c-8df0-047e87334f6c\" class=\"plotly-graph-div\" style=\"height:600px; width:1000px;\"></div>\n",
              "            <script type=\"text/javascript\">\n",
              "                \n",
              "                    window.PLOTLYENV=window.PLOTLYENV || {};\n",
              "                    \n",
              "                if (document.getElementById(\"aa59aaf2-089a-484c-8df0-047e87334f6c\")) {\n",
              "                    Plotly.newPlot(\n",
              "                        'aa59aaf2-089a-484c-8df0-047e87334f6c',\n",
              "                        [{\"marker\": {\"color\": \"#00cc96\"}, \"name\": \"ds\", \"orientation\": \"h\", \"type\": \"bar\", \"x\": [335, 136, 109, 81, 70, 69, 61, 59, 55, 55, 52, 50, 45, 44, 44, 37, 33, 33, 33, 32], \"xaxis\": \"x\", \"y\": [\"data\", \"experience\", \"scientist\", \"business\", \"role\", \"learning\", \"machine\", \"skills\", \"work\", \"science\", \"working\", \"python\", \"team\", \"models\", \"company\", \"solutions\", \"new\", \"looking\", \"using\", \"based\"], \"yaxis\": \"y\"}, {\"marker\": {\"color\": \"#EF553B\"}, \"name\": \"de\", \"orientation\": \"h\", \"type\": \"bar\", \"x\": [473, 143, 117, 83, 72, 72, 71, 61, 60, 45, 44, 43, 41, 39, 38, 38, 37, 36, 36, 36], \"xaxis\": \"x2\", \"y\": [\"data\", \"experience\", \"engineer\", \"working\", \"business\", \"skills\", \"role\", \"team\", \"work\", \"development\", \"python\", \"technologies\", \"new\", \"solutions\", \"sql\", \"opportunity\", \"aws\", \"azure\", \"etl\", \"looking\"], \"yaxis\": \"y2\"}, {\"marker\": {\"color\": \"#636efa\"}, \"name\": \"da\", \"orientation\": \"h\", \"type\": \"bar\", \"x\": [460, 124, 122, 106, 105, 100, 67, 65, 60, 59, 58, 55, 53, 52, 51, 49, 46, 45, 45, 45], \"xaxis\": \"x3\", \"y\": [\"data\", \"experience\", \"analyst\", \"role\", \"business\", \"skills\", \"analysis\", \"work\", \"sql\", \"working\", \"support\", \"team\", \"reports\", \"using\", \"reporting\", \"ability\", \"analytical\", \"information\", \"management\", \"quality\"], \"yaxis\": \"y3\"}],\n",
              "                        {\"annotations\": [{\"font\": {\"size\": 16}, \"showarrow\": false, \"text\": \"DS top words\", \"x\": 0.14444444444444446, \"xanchor\": \"center\", \"xref\": \"paper\", \"y\": 1.0, \"yanchor\": \"bottom\", \"yref\": \"paper\"}, {\"font\": {\"size\": 16}, \"showarrow\": false, \"text\": \"DE top words\", \"x\": 0.5, \"xanchor\": \"center\", \"xref\": \"paper\", \"y\": 1.0, \"yanchor\": \"bottom\", \"yref\": \"paper\"}, {\"font\": {\"size\": 16}, \"showarrow\": false, \"text\": \"DA top words\", \"x\": 0.8555555555555556, \"xanchor\": \"center\", \"xref\": \"paper\", \"y\": 1.0, \"yanchor\": \"bottom\", \"yref\": \"paper\"}, {\"font\": {\"size\": 16}, \"showarrow\": false, \"text\": \"frequency\", \"x\": 0.5, \"xanchor\": \"center\", \"xref\": \"paper\", \"y\": 0, \"yanchor\": \"top\", \"yref\": \"paper\", \"yshift\": -30}], \"height\": 600, \"showlegend\": false, \"template\": {\"data\": {\"bar\": [{\"error_x\": {\"color\": \"#2a3f5f\"}, \"error_y\": {\"color\": \"#2a3f5f\"}, \"marker\": {\"line\": {\"color\": \"#E5ECF6\", \"width\": 0.5}}, \"type\": \"bar\"}], \"barpolar\": [{\"marker\": {\"line\": {\"color\": \"#E5ECF6\", \"width\": 0.5}}, \"type\": \"barpolar\"}], \"carpet\": [{\"aaxis\": {\"endlinecolor\": \"#2a3f5f\", \"gridcolor\": \"white\", \"linecolor\": \"white\", \"minorgridcolor\": \"white\", \"startlinecolor\": \"#2a3f5f\"}, \"baxis\": {\"endlinecolor\": \"#2a3f5f\", \"gridcolor\": \"white\", \"linecolor\": \"white\", \"minorgridcolor\": \"white\", \"startlinecolor\": \"#2a3f5f\"}, \"type\": \"carpet\"}], \"choropleth\": [{\"colorbar\": {\"outlinewidth\": 0, \"ticks\": \"\"}, \"type\": \"choropleth\"}], \"contour\": [{\"colorbar\": {\"outlinewidth\": 0, \"ticks\": \"\"}, \"colorscale\": [[0.0, \"#0d0887\"], [0.1111111111111111, \"#46039f\"], [0.2222222222222222, \"#7201a8\"], [0.3333333333333333, \"#9c179e\"], [0.4444444444444444, \"#bd3786\"], [0.5555555555555556, \"#d8576b\"], [0.6666666666666666, \"#ed7953\"], [0.7777777777777778, \"#fb9f3a\"], [0.8888888888888888, \"#fdca26\"], [1.0, \"#f0f921\"]], \"type\": \"contour\"}], \"contourcarpet\": [{\"colorbar\": {\"outlinewidth\": 0, \"ticks\": \"\"}, \"type\": \"contourcarpet\"}], \"heatmap\": [{\"colorbar\": {\"outlinewidth\": 0, \"ticks\": \"\"}, \"colorscale\": [[0.0, \"#0d0887\"], [0.1111111111111111, \"#46039f\"], [0.2222222222222222, \"#7201a8\"], [0.3333333333333333, \"#9c179e\"], [0.4444444444444444, \"#bd3786\"], [0.5555555555555556, \"#d8576b\"], [0.6666666666666666, \"#ed7953\"], [0.7777777777777778, \"#fb9f3a\"], [0.8888888888888888, \"#fdca26\"], [1.0, \"#f0f921\"]], \"type\": \"heatmap\"}], \"heatmapgl\": [{\"colorbar\": {\"outlinewidth\": 0, \"ticks\": \"\"}, \"colorscale\": [[0.0, \"#0d0887\"], [0.1111111111111111, \"#46039f\"], [0.2222222222222222, \"#7201a8\"], [0.3333333333333333, \"#9c179e\"], [0.4444444444444444, \"#bd3786\"], [0.5555555555555556, \"#d8576b\"], [0.6666666666666666, \"#ed7953\"], [0.7777777777777778, \"#fb9f3a\"], [0.8888888888888888, \"#fdca26\"], [1.0, \"#f0f921\"]], \"type\": \"heatmapgl\"}], \"histogram\": [{\"marker\": {\"colorbar\": {\"outlinewidth\": 0, \"ticks\": \"\"}}, \"type\": \"histogram\"}], \"histogram2d\": [{\"colorbar\": {\"outlinewidth\": 0, \"ticks\": \"\"}, \"colorscale\": [[0.0, \"#0d0887\"], [0.1111111111111111, \"#46039f\"], [0.2222222222222222, \"#7201a8\"], [0.3333333333333333, \"#9c179e\"], [0.4444444444444444, \"#bd3786\"], [0.5555555555555556, \"#d8576b\"], [0.6666666666666666, \"#ed7953\"], [0.7777777777777778, \"#fb9f3a\"], [0.8888888888888888, \"#fdca26\"], [1.0, \"#f0f921\"]], \"type\": \"histogram2d\"}], \"histogram2dcontour\": [{\"colorbar\": {\"outlinewidth\": 0, \"ticks\": \"\"}, \"colorscale\": [[0.0, \"#0d0887\"], [0.1111111111111111, \"#46039f\"], [0.2222222222222222, \"#7201a8\"], [0.3333333333333333, \"#9c179e\"], [0.4444444444444444, \"#bd3786\"], [0.5555555555555556, \"#d8576b\"], [0.6666666666666666, \"#ed7953\"], [0.7777777777777778, \"#fb9f3a\"], [0.8888888888888888, \"#fdca26\"], [1.0, \"#f0f921\"]], \"type\": \"histogram2dcontour\"}], \"mesh3d\": [{\"colorbar\": {\"outlinewidth\": 0, \"ticks\": \"\"}, \"type\": \"mesh3d\"}], \"parcoords\": [{\"line\": {\"colorbar\": {\"outlinewidth\": 0, \"ticks\": \"\"}}, \"type\": \"parcoords\"}], \"pie\": [{\"automargin\": true, \"type\": \"pie\"}], \"scatter\": [{\"marker\": {\"colorbar\": {\"outlinewidth\": 0, \"ticks\": \"\"}}, \"type\": \"scatter\"}], \"scatter3d\": [{\"line\": {\"colorbar\": {\"outlinewidth\": 0, \"ticks\": \"\"}}, \"marker\": {\"colorbar\": {\"outlinewidth\": 0, \"ticks\": \"\"}}, \"type\": \"scatter3d\"}], \"scattercarpet\": [{\"marker\": {\"colorbar\": {\"outlinewidth\": 0, \"ticks\": \"\"}}, \"type\": \"scattercarpet\"}], \"scattergeo\": [{\"marker\": {\"colorbar\": {\"outlinewidth\": 0, \"ticks\": \"\"}}, \"type\": \"scattergeo\"}], \"scattergl\": [{\"marker\": {\"colorbar\": {\"outlinewidth\": 0, \"ticks\": \"\"}}, \"type\": \"scattergl\"}], \"scattermapbox\": [{\"marker\": {\"colorbar\": {\"outlinewidth\": 0, \"ticks\": \"\"}}, \"type\": \"scattermapbox\"}], \"scatterpolar\": [{\"marker\": {\"colorbar\": {\"outlinewidth\": 0, \"ticks\": \"\"}}, \"type\": \"scatterpolar\"}], \"scatterpolargl\": [{\"marker\": {\"colorbar\": {\"outlinewidth\": 0, \"ticks\": \"\"}}, \"type\": \"scatterpolargl\"}], \"scatterternary\": [{\"marker\": {\"colorbar\": {\"outlinewidth\": 0, \"ticks\": \"\"}}, \"type\": \"scatterternary\"}], \"surface\": [{\"colorbar\": {\"outlinewidth\": 0, \"ticks\": \"\"}, \"colorscale\": [[0.0, \"#0d0887\"], [0.1111111111111111, \"#46039f\"], [0.2222222222222222, \"#7201a8\"], [0.3333333333333333, \"#9c179e\"], [0.4444444444444444, \"#bd3786\"], [0.5555555555555556, \"#d8576b\"], [0.6666666666666666, \"#ed7953\"], [0.7777777777777778, \"#fb9f3a\"], [0.8888888888888888, \"#fdca26\"], [1.0, \"#f0f921\"]], \"type\": \"surface\"}], \"table\": [{\"cells\": {\"fill\": {\"color\": \"#EBF0F8\"}, \"line\": {\"color\": \"white\"}}, \"header\": {\"fill\": {\"color\": \"#C8D4E3\"}, \"line\": {\"color\": \"white\"}}, \"type\": \"table\"}]}, \"layout\": {\"annotationdefaults\": {\"arrowcolor\": \"#2a3f5f\", \"arrowhead\": 0, \"arrowwidth\": 1}, \"coloraxis\": {\"colorbar\": {\"outlinewidth\": 0, \"ticks\": \"\"}}, \"colorscale\": {\"diverging\": [[0, \"#8e0152\"], [0.1, \"#c51b7d\"], [0.2, \"#de77ae\"], [0.3, \"#f1b6da\"], [0.4, \"#fde0ef\"], [0.5, \"#f7f7f7\"], [0.6, \"#e6f5d0\"], [0.7, \"#b8e186\"], [0.8, \"#7fbc41\"], [0.9, \"#4d9221\"], [1, \"#276419\"]], \"sequential\": [[0.0, \"#0d0887\"], [0.1111111111111111, \"#46039f\"], [0.2222222222222222, \"#7201a8\"], [0.3333333333333333, \"#9c179e\"], [0.4444444444444444, \"#bd3786\"], [0.5555555555555556, \"#d8576b\"], [0.6666666666666666, \"#ed7953\"], [0.7777777777777778, \"#fb9f3a\"], [0.8888888888888888, \"#fdca26\"], [1.0, \"#f0f921\"]], \"sequentialminus\": [[0.0, \"#0d0887\"], [0.1111111111111111, \"#46039f\"], [0.2222222222222222, \"#7201a8\"], [0.3333333333333333, \"#9c179e\"], [0.4444444444444444, \"#bd3786\"], [0.5555555555555556, \"#d8576b\"], [0.6666666666666666, \"#ed7953\"], [0.7777777777777778, \"#fb9f3a\"], [0.8888888888888888, \"#fdca26\"], [1.0, \"#f0f921\"]]}, \"colorway\": [\"#636efa\", \"#EF553B\", \"#00cc96\", \"#ab63fa\", \"#FFA15A\", \"#19d3f3\", \"#FF6692\", \"#B6E880\", \"#FF97FF\", \"#FECB52\"], \"font\": {\"color\": \"#2a3f5f\"}, \"geo\": {\"bgcolor\": \"white\", \"lakecolor\": \"white\", \"landcolor\": \"#E5ECF6\", \"showlakes\": true, \"showland\": true, \"subunitcolor\": \"white\"}, \"hoverlabel\": {\"align\": \"left\"}, \"hovermode\": \"closest\", \"mapbox\": {\"style\": \"light\"}, \"paper_bgcolor\": \"white\", \"plot_bgcolor\": \"#E5ECF6\", \"polar\": {\"angularaxis\": {\"gridcolor\": \"white\", \"linecolor\": \"white\", \"ticks\": \"\"}, \"bgcolor\": \"#E5ECF6\", \"radialaxis\": {\"gridcolor\": \"white\", \"linecolor\": \"white\", \"ticks\": \"\"}}, \"scene\": {\"xaxis\": {\"backgroundcolor\": \"#E5ECF6\", \"gridcolor\": \"white\", \"gridwidth\": 2, \"linecolor\": \"white\", \"showbackground\": true, \"ticks\": \"\", \"zerolinecolor\": \"white\"}, \"yaxis\": {\"backgroundcolor\": \"#E5ECF6\", \"gridcolor\": \"white\", \"gridwidth\": 2, \"linecolor\": \"white\", \"showbackground\": true, \"ticks\": \"\", \"zerolinecolor\": \"white\"}, \"zaxis\": {\"backgroundcolor\": \"#E5ECF6\", \"gridcolor\": \"white\", \"gridwidth\": 2, \"linecolor\": \"white\", \"showbackground\": true, \"ticks\": \"\", \"zerolinecolor\": \"white\"}}, \"shapedefaults\": {\"line\": {\"color\": \"#2a3f5f\"}}, \"ternary\": {\"aaxis\": {\"gridcolor\": \"white\", \"linecolor\": \"white\", \"ticks\": \"\"}, \"baxis\": {\"gridcolor\": \"white\", \"linecolor\": \"white\", \"ticks\": \"\"}, \"bgcolor\": \"#E5ECF6\", \"caxis\": {\"gridcolor\": \"white\", \"linecolor\": \"white\", \"ticks\": \"\"}}, \"title\": {\"x\": 0.05}, \"xaxis\": {\"automargin\": true, \"gridcolor\": \"white\", \"linecolor\": \"white\", \"ticks\": \"\", \"title\": {\"standoff\": 15}, \"zerolinecolor\": \"white\", \"zerolinewidth\": 2}, \"yaxis\": {\"automargin\": true, \"gridcolor\": \"white\", \"linecolor\": \"white\", \"ticks\": \"\", \"title\": {\"standoff\": 15}, \"zerolinecolor\": \"white\", \"zerolinewidth\": 2}}}, \"width\": 1000, \"xaxis\": {\"anchor\": \"y\", \"domain\": [0.0, 0.2888888888888889]}, \"xaxis2\": {\"anchor\": \"y2\", \"domain\": [0.35555555555555557, 0.6444444444444445]}, \"xaxis3\": {\"anchor\": \"y3\", \"domain\": [0.7111111111111111, 1.0]}, \"yaxis\": {\"anchor\": \"x\", \"autorange\": \"reversed\", \"domain\": [0.0, 1.0]}, \"yaxis2\": {\"anchor\": \"x2\", \"autorange\": \"reversed\", \"domain\": [0.0, 1.0]}, \"yaxis3\": {\"anchor\": \"x3\", \"autorange\": \"reversed\", \"domain\": [0.0, 1.0]}},\n",
              "                        {\"responsive\": true}\n",
              "                    ).then(function(){\n",
              "                            \n",
              "var gd = document.getElementById('aa59aaf2-089a-484c-8df0-047e87334f6c');\n",
              "var x = new MutationObserver(function (mutations, observer) {{\n",
              "        var display = window.getComputedStyle(gd).display;\n",
              "        if (!display || display === 'none') {{\n",
              "            console.log([gd, 'removed!']);\n",
              "            Plotly.purge(gd);\n",
              "            observer.disconnect();\n",
              "        }}\n",
              "}});\n",
              "\n",
              "// Listen for the removal of the full notebook cells\n",
              "var notebookContainer = gd.closest('#notebook-container');\n",
              "if (notebookContainer) {{\n",
              "    x.observe(notebookContainer, {childList: true});\n",
              "}}\n",
              "\n",
              "// Listen for the clearing of the current output cell\n",
              "var outputEl = gd.closest('.output');\n",
              "if (outputEl) {{\n",
              "    x.observe(outputEl, {childList: true});\n",
              "}}\n",
              "\n",
              "                        })\n",
              "                };\n",
              "                \n",
              "            </script>\n",
              "        </div>\n",
              "</body>\n",
              "</html>"
            ]
          },
          "metadata": {
            "tags": []
          }
        }
      ]
    },
    {
      "cell_type": "markdown",
      "metadata": {
        "id": "bdy-YfDGVGDc",
        "colab_type": "text"
      },
      "source": [
        "Not bad! We can spot a few themes such as the emphasis on machine learning in DS job descriptions while SQL and reporting feature prominently in DA posts. The plot corresponding to Data engineer roles is not as insightful. The appearance of Python, SQL and Azure are promising, but no sign of ETL pipelines and a lower prevalance of cloud-based systems than we'd expect. And why does scientist turn up so much? Across the three plots we can also see another problem with this simple word frequency approach: the most insightful terms are diluted by a saturation of words which are common across the three roles and thus essentially useless, such as 'data', 'experience', 'role' and 'team'. \n",
        "\n",
        "We need a metric which highly ranks frequent words but suppresses words which appear in lots of the documents in our corpus. Luckily for us a metric exists which does exactly as we require. TFIDF or term-frequency inverse-document frequency takes the term frequency of a word in a document and multiplies it by the inverse document freqency of that word, essentially damping those words which appear across a large proportion of the documents. Again sklearn has our back and can perform this process for us."
      ]
    },
    {
      "cell_type": "code",
      "metadata": {
        "colab_type": "code",
        "id": "jYo7HUa-BRZv",
        "colab": {
          "base_uri": "https://localhost:8080/",
          "height": 444
        },
        "outputId": "dc0bbba7-0272-4d2c-9915-0a72540e8e02"
      },
      "source": [
        "from sklearn.feature_extraction.text import TfidfVectorizer\n",
        "max_df = 0.6\n",
        "min_df = 2\n",
        "vectorizer  = TfidfVectorizer(stop_words='english', max_df=max_df, min_df=min_df)\n",
        "text = np.array(df['desc'])\n",
        "tfidf_matrix = vectorizer.fit_transform(text)\n",
        "tfidf = pd.DataFrame(tfidf_matrix.toarray(), columns=vectorizer.get_feature_names())\n",
        "tfidf"
      ],
      "execution_count": 29,
      "outputs": [
        {
          "output_type": "execute_result",
          "data": {
            "text/html": [
              "<div>\n",
              "<style scoped>\n",
              "    .dataframe tbody tr th:only-of-type {\n",
              "        vertical-align: middle;\n",
              "    }\n",
              "\n",
              "    .dataframe tbody tr th {\n",
              "        vertical-align: top;\n",
              "    }\n",
              "\n",
              "    .dataframe thead th {\n",
              "        text-align: right;\n",
              "    }\n",
              "</style>\n",
              "<table border=\"1\" class=\"dataframe\">\n",
              "  <thead>\n",
              "    <tr style=\"text-align: right;\">\n",
              "      <th></th>\n",
              "      <th>00</th>\n",
              "      <th>08</th>\n",
              "      <th>10</th>\n",
              "      <th>100</th>\n",
              "      <th>1070906</th>\n",
              "      <th>12</th>\n",
              "      <th>14</th>\n",
              "      <th>16</th>\n",
              "      <th>17</th>\n",
              "      <th>19</th>\n",
              "      <th>1997</th>\n",
              "      <th>20</th>\n",
              "      <th>2003</th>\n",
              "      <th>2018</th>\n",
              "      <th>2019</th>\n",
              "      <th>2020</th>\n",
              "      <th>20th</th>\n",
              "      <th>240</th>\n",
              "      <th>24k</th>\n",
              "      <th>25</th>\n",
              "      <th>25k</th>\n",
              "      <th>26</th>\n",
              "      <th>28</th>\n",
              "      <th>30</th>\n",
              "      <th>300</th>\n",
              "      <th>30k</th>\n",
              "      <th>31k</th>\n",
              "      <th>32k</th>\n",
              "      <th>35k</th>\n",
              "      <th>40</th>\n",
              "      <th>400</th>\n",
              "      <th>40k</th>\n",
              "      <th>450</th>\n",
              "      <th>45k</th>\n",
              "      <th>500</th>\n",
              "      <th>50k</th>\n",
              "      <th>55k</th>\n",
              "      <th>60</th>\n",
              "      <th>60k</th>\n",
              "      <th>65k</th>\n",
              "      <th>...</th>\n",
              "      <th>warrington</th>\n",
              "      <th>watch</th>\n",
              "      <th>watching</th>\n",
              "      <th>way</th>\n",
              "      <th>ways</th>\n",
              "      <th>web</th>\n",
              "      <th>website</th>\n",
              "      <th>week</th>\n",
              "      <th>weeks</th>\n",
              "      <th>welcome</th>\n",
              "      <th>welcomes</th>\n",
              "      <th>wellbeing</th>\n",
              "      <th>west</th>\n",
              "      <th>whilst</th>\n",
              "      <th>wide</th>\n",
              "      <th>wider</th>\n",
              "      <th>willing</th>\n",
              "      <th>willingness</th>\n",
              "      <th>winning</th>\n",
              "      <th>won</th>\n",
              "      <th>word</th>\n",
              "      <th>worked</th>\n",
              "      <th>workers</th>\n",
              "      <th>workflow</th>\n",
              "      <th>workflows</th>\n",
              "      <th>workforce</th>\n",
              "      <th>workload</th>\n",
              "      <th>workloads</th>\n",
              "      <th>workplace</th>\n",
              "      <th>works</th>\n",
              "      <th>world</th>\n",
              "      <th>worldwide</th>\n",
              "      <th>wrangling</th>\n",
              "      <th>wrexham</th>\n",
              "      <th>write</th>\n",
              "      <th>writing</th>\n",
              "      <th>written</th>\n",
              "      <th>x4</th>\n",
              "      <th>year</th>\n",
              "      <th>years</th>\n",
              "    </tr>\n",
              "  </thead>\n",
              "  <tbody>\n",
              "    <tr>\n",
              "      <th>0</th>\n",
              "      <td>0.0</td>\n",
              "      <td>0.0</td>\n",
              "      <td>0.0</td>\n",
              "      <td>0.0</td>\n",
              "      <td>0.0</td>\n",
              "      <td>0.0</td>\n",
              "      <td>0.0</td>\n",
              "      <td>0.0</td>\n",
              "      <td>0.0</td>\n",
              "      <td>0.000000</td>\n",
              "      <td>0.0</td>\n",
              "      <td>0.000000</td>\n",
              "      <td>0.0</td>\n",
              "      <td>0.0</td>\n",
              "      <td>0.0</td>\n",
              "      <td>0.000000</td>\n",
              "      <td>0.000000</td>\n",
              "      <td>0.0</td>\n",
              "      <td>0.0</td>\n",
              "      <td>0.0</td>\n",
              "      <td>0.0</td>\n",
              "      <td>0.0</td>\n",
              "      <td>0.0</td>\n",
              "      <td>0.0</td>\n",
              "      <td>0.0</td>\n",
              "      <td>0.000000</td>\n",
              "      <td>0.0</td>\n",
              "      <td>0.151358</td>\n",
              "      <td>0.0</td>\n",
              "      <td>0.0</td>\n",
              "      <td>0.0</td>\n",
              "      <td>0.000000</td>\n",
              "      <td>0.0</td>\n",
              "      <td>0.000000</td>\n",
              "      <td>0.0</td>\n",
              "      <td>0.000000</td>\n",
              "      <td>0.000000</td>\n",
              "      <td>0.0</td>\n",
              "      <td>0.0</td>\n",
              "      <td>0.0</td>\n",
              "      <td>...</td>\n",
              "      <td>0.000000</td>\n",
              "      <td>0.0</td>\n",
              "      <td>0.0</td>\n",
              "      <td>0.000000</td>\n",
              "      <td>0.0</td>\n",
              "      <td>0.0</td>\n",
              "      <td>0.0</td>\n",
              "      <td>0.00000</td>\n",
              "      <td>0.000000</td>\n",
              "      <td>0.0</td>\n",
              "      <td>0.0</td>\n",
              "      <td>0.0</td>\n",
              "      <td>0.0</td>\n",
              "      <td>0.000000</td>\n",
              "      <td>0.000000</td>\n",
              "      <td>0.000000</td>\n",
              "      <td>0.0</td>\n",
              "      <td>0.0</td>\n",
              "      <td>0.000000</td>\n",
              "      <td>0.000000</td>\n",
              "      <td>0.0</td>\n",
              "      <td>0.000000</td>\n",
              "      <td>0.000000</td>\n",
              "      <td>0.0</td>\n",
              "      <td>0.0</td>\n",
              "      <td>0.0</td>\n",
              "      <td>0.0</td>\n",
              "      <td>0.0</td>\n",
              "      <td>0.000000</td>\n",
              "      <td>0.000000</td>\n",
              "      <td>0.000000</td>\n",
              "      <td>0.0</td>\n",
              "      <td>0.0</td>\n",
              "      <td>0.000000</td>\n",
              "      <td>0.0</td>\n",
              "      <td>0.000000</td>\n",
              "      <td>0.0</td>\n",
              "      <td>0.0</td>\n",
              "      <td>0.0</td>\n",
              "      <td>0.000000</td>\n",
              "    </tr>\n",
              "    <tr>\n",
              "      <th>1</th>\n",
              "      <td>0.0</td>\n",
              "      <td>0.0</td>\n",
              "      <td>0.0</td>\n",
              "      <td>0.0</td>\n",
              "      <td>0.0</td>\n",
              "      <td>0.0</td>\n",
              "      <td>0.0</td>\n",
              "      <td>0.0</td>\n",
              "      <td>0.0</td>\n",
              "      <td>0.000000</td>\n",
              "      <td>0.0</td>\n",
              "      <td>0.000000</td>\n",
              "      <td>0.0</td>\n",
              "      <td>0.0</td>\n",
              "      <td>0.0</td>\n",
              "      <td>0.000000</td>\n",
              "      <td>0.000000</td>\n",
              "      <td>0.0</td>\n",
              "      <td>0.0</td>\n",
              "      <td>0.0</td>\n",
              "      <td>0.0</td>\n",
              "      <td>0.0</td>\n",
              "      <td>0.0</td>\n",
              "      <td>0.0</td>\n",
              "      <td>0.0</td>\n",
              "      <td>0.000000</td>\n",
              "      <td>0.0</td>\n",
              "      <td>0.000000</td>\n",
              "      <td>0.0</td>\n",
              "      <td>0.0</td>\n",
              "      <td>0.0</td>\n",
              "      <td>0.168567</td>\n",
              "      <td>0.0</td>\n",
              "      <td>0.000000</td>\n",
              "      <td>0.0</td>\n",
              "      <td>0.000000</td>\n",
              "      <td>0.000000</td>\n",
              "      <td>0.0</td>\n",
              "      <td>0.0</td>\n",
              "      <td>0.0</td>\n",
              "      <td>...</td>\n",
              "      <td>0.000000</td>\n",
              "      <td>0.0</td>\n",
              "      <td>0.0</td>\n",
              "      <td>0.000000</td>\n",
              "      <td>0.0</td>\n",
              "      <td>0.0</td>\n",
              "      <td>0.0</td>\n",
              "      <td>0.00000</td>\n",
              "      <td>0.000000</td>\n",
              "      <td>0.0</td>\n",
              "      <td>0.0</td>\n",
              "      <td>0.0</td>\n",
              "      <td>0.0</td>\n",
              "      <td>0.000000</td>\n",
              "      <td>0.000000</td>\n",
              "      <td>0.000000</td>\n",
              "      <td>0.0</td>\n",
              "      <td>0.0</td>\n",
              "      <td>0.000000</td>\n",
              "      <td>0.000000</td>\n",
              "      <td>0.0</td>\n",
              "      <td>0.000000</td>\n",
              "      <td>0.000000</td>\n",
              "      <td>0.0</td>\n",
              "      <td>0.0</td>\n",
              "      <td>0.0</td>\n",
              "      <td>0.0</td>\n",
              "      <td>0.0</td>\n",
              "      <td>0.000000</td>\n",
              "      <td>0.000000</td>\n",
              "      <td>0.000000</td>\n",
              "      <td>0.0</td>\n",
              "      <td>0.0</td>\n",
              "      <td>0.126809</td>\n",
              "      <td>0.0</td>\n",
              "      <td>0.086106</td>\n",
              "      <td>0.0</td>\n",
              "      <td>0.0</td>\n",
              "      <td>0.0</td>\n",
              "      <td>0.000000</td>\n",
              "    </tr>\n",
              "    <tr>\n",
              "      <th>2</th>\n",
              "      <td>0.0</td>\n",
              "      <td>0.0</td>\n",
              "      <td>0.0</td>\n",
              "      <td>0.0</td>\n",
              "      <td>0.0</td>\n",
              "      <td>0.0</td>\n",
              "      <td>0.0</td>\n",
              "      <td>0.0</td>\n",
              "      <td>0.0</td>\n",
              "      <td>0.000000</td>\n",
              "      <td>0.0</td>\n",
              "      <td>0.135622</td>\n",
              "      <td>0.0</td>\n",
              "      <td>0.0</td>\n",
              "      <td>0.0</td>\n",
              "      <td>0.000000</td>\n",
              "      <td>0.000000</td>\n",
              "      <td>0.0</td>\n",
              "      <td>0.0</td>\n",
              "      <td>0.0</td>\n",
              "      <td>0.0</td>\n",
              "      <td>0.0</td>\n",
              "      <td>0.0</td>\n",
              "      <td>0.0</td>\n",
              "      <td>0.0</td>\n",
              "      <td>0.000000</td>\n",
              "      <td>0.0</td>\n",
              "      <td>0.000000</td>\n",
              "      <td>0.0</td>\n",
              "      <td>0.0</td>\n",
              "      <td>0.0</td>\n",
              "      <td>0.000000</td>\n",
              "      <td>0.0</td>\n",
              "      <td>0.000000</td>\n",
              "      <td>0.0</td>\n",
              "      <td>0.000000</td>\n",
              "      <td>0.000000</td>\n",
              "      <td>0.0</td>\n",
              "      <td>0.0</td>\n",
              "      <td>0.0</td>\n",
              "      <td>...</td>\n",
              "      <td>0.000000</td>\n",
              "      <td>0.0</td>\n",
              "      <td>0.0</td>\n",
              "      <td>0.000000</td>\n",
              "      <td>0.0</td>\n",
              "      <td>0.0</td>\n",
              "      <td>0.0</td>\n",
              "      <td>0.00000</td>\n",
              "      <td>0.257828</td>\n",
              "      <td>0.0</td>\n",
              "      <td>0.0</td>\n",
              "      <td>0.0</td>\n",
              "      <td>0.0</td>\n",
              "      <td>0.000000</td>\n",
              "      <td>0.000000</td>\n",
              "      <td>0.000000</td>\n",
              "      <td>0.0</td>\n",
              "      <td>0.0</td>\n",
              "      <td>0.000000</td>\n",
              "      <td>0.000000</td>\n",
              "      <td>0.0</td>\n",
              "      <td>0.000000</td>\n",
              "      <td>0.000000</td>\n",
              "      <td>0.0</td>\n",
              "      <td>0.0</td>\n",
              "      <td>0.0</td>\n",
              "      <td>0.0</td>\n",
              "      <td>0.0</td>\n",
              "      <td>0.000000</td>\n",
              "      <td>0.000000</td>\n",
              "      <td>0.000000</td>\n",
              "      <td>0.0</td>\n",
              "      <td>0.0</td>\n",
              "      <td>0.000000</td>\n",
              "      <td>0.0</td>\n",
              "      <td>0.000000</td>\n",
              "      <td>0.0</td>\n",
              "      <td>0.0</td>\n",
              "      <td>0.0</td>\n",
              "      <td>0.000000</td>\n",
              "    </tr>\n",
              "    <tr>\n",
              "      <th>3</th>\n",
              "      <td>0.0</td>\n",
              "      <td>0.0</td>\n",
              "      <td>0.0</td>\n",
              "      <td>0.0</td>\n",
              "      <td>0.0</td>\n",
              "      <td>0.0</td>\n",
              "      <td>0.0</td>\n",
              "      <td>0.0</td>\n",
              "      <td>0.0</td>\n",
              "      <td>0.000000</td>\n",
              "      <td>0.0</td>\n",
              "      <td>0.000000</td>\n",
              "      <td>0.0</td>\n",
              "      <td>0.0</td>\n",
              "      <td>0.0</td>\n",
              "      <td>0.168772</td>\n",
              "      <td>0.096335</td>\n",
              "      <td>0.0</td>\n",
              "      <td>0.0</td>\n",
              "      <td>0.0</td>\n",
              "      <td>0.0</td>\n",
              "      <td>0.0</td>\n",
              "      <td>0.0</td>\n",
              "      <td>0.0</td>\n",
              "      <td>0.0</td>\n",
              "      <td>0.000000</td>\n",
              "      <td>0.0</td>\n",
              "      <td>0.000000</td>\n",
              "      <td>0.0</td>\n",
              "      <td>0.0</td>\n",
              "      <td>0.0</td>\n",
              "      <td>0.000000</td>\n",
              "      <td>0.0</td>\n",
              "      <td>0.000000</td>\n",
              "      <td>0.0</td>\n",
              "      <td>0.000000</td>\n",
              "      <td>0.000000</td>\n",
              "      <td>0.0</td>\n",
              "      <td>0.0</td>\n",
              "      <td>0.0</td>\n",
              "      <td>...</td>\n",
              "      <td>0.000000</td>\n",
              "      <td>0.0</td>\n",
              "      <td>0.0</td>\n",
              "      <td>0.000000</td>\n",
              "      <td>0.0</td>\n",
              "      <td>0.0</td>\n",
              "      <td>0.0</td>\n",
              "      <td>0.07677</td>\n",
              "      <td>0.000000</td>\n",
              "      <td>0.0</td>\n",
              "      <td>0.0</td>\n",
              "      <td>0.0</td>\n",
              "      <td>0.0</td>\n",
              "      <td>0.000000</td>\n",
              "      <td>0.071167</td>\n",
              "      <td>0.000000</td>\n",
              "      <td>0.0</td>\n",
              "      <td>0.0</td>\n",
              "      <td>0.000000</td>\n",
              "      <td>0.000000</td>\n",
              "      <td>0.0</td>\n",
              "      <td>0.000000</td>\n",
              "      <td>0.000000</td>\n",
              "      <td>0.0</td>\n",
              "      <td>0.0</td>\n",
              "      <td>0.0</td>\n",
              "      <td>0.0</td>\n",
              "      <td>0.0</td>\n",
              "      <td>0.102478</td>\n",
              "      <td>0.000000</td>\n",
              "      <td>0.000000</td>\n",
              "      <td>0.0</td>\n",
              "      <td>0.0</td>\n",
              "      <td>0.000000</td>\n",
              "      <td>0.0</td>\n",
              "      <td>0.000000</td>\n",
              "      <td>0.0</td>\n",
              "      <td>0.0</td>\n",
              "      <td>0.0</td>\n",
              "      <td>0.000000</td>\n",
              "    </tr>\n",
              "    <tr>\n",
              "      <th>4</th>\n",
              "      <td>0.0</td>\n",
              "      <td>0.0</td>\n",
              "      <td>0.0</td>\n",
              "      <td>0.0</td>\n",
              "      <td>0.0</td>\n",
              "      <td>0.0</td>\n",
              "      <td>0.0</td>\n",
              "      <td>0.0</td>\n",
              "      <td>0.0</td>\n",
              "      <td>0.000000</td>\n",
              "      <td>0.0</td>\n",
              "      <td>0.000000</td>\n",
              "      <td>0.0</td>\n",
              "      <td>0.0</td>\n",
              "      <td>0.0</td>\n",
              "      <td>0.000000</td>\n",
              "      <td>0.000000</td>\n",
              "      <td>0.0</td>\n",
              "      <td>0.0</td>\n",
              "      <td>0.0</td>\n",
              "      <td>0.0</td>\n",
              "      <td>0.0</td>\n",
              "      <td>0.0</td>\n",
              "      <td>0.0</td>\n",
              "      <td>0.0</td>\n",
              "      <td>0.000000</td>\n",
              "      <td>0.0</td>\n",
              "      <td>0.000000</td>\n",
              "      <td>0.0</td>\n",
              "      <td>0.0</td>\n",
              "      <td>0.0</td>\n",
              "      <td>0.196656</td>\n",
              "      <td>0.0</td>\n",
              "      <td>0.105206</td>\n",
              "      <td>0.0</td>\n",
              "      <td>0.000000</td>\n",
              "      <td>0.110827</td>\n",
              "      <td>0.0</td>\n",
              "      <td>0.0</td>\n",
              "      <td>0.0</td>\n",
              "      <td>...</td>\n",
              "      <td>0.000000</td>\n",
              "      <td>0.0</td>\n",
              "      <td>0.0</td>\n",
              "      <td>0.000000</td>\n",
              "      <td>0.0</td>\n",
              "      <td>0.0</td>\n",
              "      <td>0.0</td>\n",
              "      <td>0.00000</td>\n",
              "      <td>0.000000</td>\n",
              "      <td>0.0</td>\n",
              "      <td>0.0</td>\n",
              "      <td>0.0</td>\n",
              "      <td>0.0</td>\n",
              "      <td>0.000000</td>\n",
              "      <td>0.102739</td>\n",
              "      <td>0.000000</td>\n",
              "      <td>0.0</td>\n",
              "      <td>0.0</td>\n",
              "      <td>0.000000</td>\n",
              "      <td>0.000000</td>\n",
              "      <td>0.0</td>\n",
              "      <td>0.000000</td>\n",
              "      <td>0.000000</td>\n",
              "      <td>0.0</td>\n",
              "      <td>0.0</td>\n",
              "      <td>0.0</td>\n",
              "      <td>0.0</td>\n",
              "      <td>0.0</td>\n",
              "      <td>0.000000</td>\n",
              "      <td>0.000000</td>\n",
              "      <td>0.000000</td>\n",
              "      <td>0.0</td>\n",
              "      <td>0.0</td>\n",
              "      <td>0.000000</td>\n",
              "      <td>0.0</td>\n",
              "      <td>0.100455</td>\n",
              "      <td>0.0</td>\n",
              "      <td>0.0</td>\n",
              "      <td>0.0</td>\n",
              "      <td>0.000000</td>\n",
              "    </tr>\n",
              "    <tr>\n",
              "      <th>...</th>\n",
              "      <td>...</td>\n",
              "      <td>...</td>\n",
              "      <td>...</td>\n",
              "      <td>...</td>\n",
              "      <td>...</td>\n",
              "      <td>...</td>\n",
              "      <td>...</td>\n",
              "      <td>...</td>\n",
              "      <td>...</td>\n",
              "      <td>...</td>\n",
              "      <td>...</td>\n",
              "      <td>...</td>\n",
              "      <td>...</td>\n",
              "      <td>...</td>\n",
              "      <td>...</td>\n",
              "      <td>...</td>\n",
              "      <td>...</td>\n",
              "      <td>...</td>\n",
              "      <td>...</td>\n",
              "      <td>...</td>\n",
              "      <td>...</td>\n",
              "      <td>...</td>\n",
              "      <td>...</td>\n",
              "      <td>...</td>\n",
              "      <td>...</td>\n",
              "      <td>...</td>\n",
              "      <td>...</td>\n",
              "      <td>...</td>\n",
              "      <td>...</td>\n",
              "      <td>...</td>\n",
              "      <td>...</td>\n",
              "      <td>...</td>\n",
              "      <td>...</td>\n",
              "      <td>...</td>\n",
              "      <td>...</td>\n",
              "      <td>...</td>\n",
              "      <td>...</td>\n",
              "      <td>...</td>\n",
              "      <td>...</td>\n",
              "      <td>...</td>\n",
              "      <td>...</td>\n",
              "      <td>...</td>\n",
              "      <td>...</td>\n",
              "      <td>...</td>\n",
              "      <td>...</td>\n",
              "      <td>...</td>\n",
              "      <td>...</td>\n",
              "      <td>...</td>\n",
              "      <td>...</td>\n",
              "      <td>...</td>\n",
              "      <td>...</td>\n",
              "      <td>...</td>\n",
              "      <td>...</td>\n",
              "      <td>...</td>\n",
              "      <td>...</td>\n",
              "      <td>...</td>\n",
              "      <td>...</td>\n",
              "      <td>...</td>\n",
              "      <td>...</td>\n",
              "      <td>...</td>\n",
              "      <td>...</td>\n",
              "      <td>...</td>\n",
              "      <td>...</td>\n",
              "      <td>...</td>\n",
              "      <td>...</td>\n",
              "      <td>...</td>\n",
              "      <td>...</td>\n",
              "      <td>...</td>\n",
              "      <td>...</td>\n",
              "      <td>...</td>\n",
              "      <td>...</td>\n",
              "      <td>...</td>\n",
              "      <td>...</td>\n",
              "      <td>...</td>\n",
              "      <td>...</td>\n",
              "      <td>...</td>\n",
              "      <td>...</td>\n",
              "      <td>...</td>\n",
              "      <td>...</td>\n",
              "      <td>...</td>\n",
              "      <td>...</td>\n",
              "    </tr>\n",
              "    <tr>\n",
              "      <th>128</th>\n",
              "      <td>0.0</td>\n",
              "      <td>0.0</td>\n",
              "      <td>0.0</td>\n",
              "      <td>0.0</td>\n",
              "      <td>0.0</td>\n",
              "      <td>0.0</td>\n",
              "      <td>0.0</td>\n",
              "      <td>0.0</td>\n",
              "      <td>0.0</td>\n",
              "      <td>0.000000</td>\n",
              "      <td>0.0</td>\n",
              "      <td>0.000000</td>\n",
              "      <td>0.0</td>\n",
              "      <td>0.0</td>\n",
              "      <td>0.0</td>\n",
              "      <td>0.000000</td>\n",
              "      <td>0.000000</td>\n",
              "      <td>0.0</td>\n",
              "      <td>0.0</td>\n",
              "      <td>0.0</td>\n",
              "      <td>0.0</td>\n",
              "      <td>0.0</td>\n",
              "      <td>0.0</td>\n",
              "      <td>0.0</td>\n",
              "      <td>0.0</td>\n",
              "      <td>0.000000</td>\n",
              "      <td>0.0</td>\n",
              "      <td>0.000000</td>\n",
              "      <td>0.0</td>\n",
              "      <td>0.0</td>\n",
              "      <td>0.0</td>\n",
              "      <td>0.059399</td>\n",
              "      <td>0.0</td>\n",
              "      <td>0.000000</td>\n",
              "      <td>0.0</td>\n",
              "      <td>0.062064</td>\n",
              "      <td>0.000000</td>\n",
              "      <td>0.0</td>\n",
              "      <td>0.0</td>\n",
              "      <td>0.0</td>\n",
              "      <td>...</td>\n",
              "      <td>0.000000</td>\n",
              "      <td>0.0</td>\n",
              "      <td>0.0</td>\n",
              "      <td>0.054997</td>\n",
              "      <td>0.0</td>\n",
              "      <td>0.0</td>\n",
              "      <td>0.0</td>\n",
              "      <td>0.00000</td>\n",
              "      <td>0.079857</td>\n",
              "      <td>0.0</td>\n",
              "      <td>0.0</td>\n",
              "      <td>0.0</td>\n",
              "      <td>0.0</td>\n",
              "      <td>0.000000</td>\n",
              "      <td>0.000000</td>\n",
              "      <td>0.000000</td>\n",
              "      <td>0.0</td>\n",
              "      <td>0.0</td>\n",
              "      <td>0.000000</td>\n",
              "      <td>0.076462</td>\n",
              "      <td>0.0</td>\n",
              "      <td>0.073592</td>\n",
              "      <td>0.060684</td>\n",
              "      <td>0.0</td>\n",
              "      <td>0.0</td>\n",
              "      <td>0.0</td>\n",
              "      <td>0.0</td>\n",
              "      <td>0.0</td>\n",
              "      <td>0.000000</td>\n",
              "      <td>0.068912</td>\n",
              "      <td>0.053134</td>\n",
              "      <td>0.0</td>\n",
              "      <td>0.0</td>\n",
              "      <td>0.000000</td>\n",
              "      <td>0.0</td>\n",
              "      <td>0.000000</td>\n",
              "      <td>0.0</td>\n",
              "      <td>0.0</td>\n",
              "      <td>0.0</td>\n",
              "      <td>0.044717</td>\n",
              "    </tr>\n",
              "    <tr>\n",
              "      <th>129</th>\n",
              "      <td>0.0</td>\n",
              "      <td>0.0</td>\n",
              "      <td>0.0</td>\n",
              "      <td>0.0</td>\n",
              "      <td>0.0</td>\n",
              "      <td>0.0</td>\n",
              "      <td>0.0</td>\n",
              "      <td>0.0</td>\n",
              "      <td>0.0</td>\n",
              "      <td>0.069856</td>\n",
              "      <td>0.0</td>\n",
              "      <td>0.000000</td>\n",
              "      <td>0.0</td>\n",
              "      <td>0.0</td>\n",
              "      <td>0.0</td>\n",
              "      <td>0.000000</td>\n",
              "      <td>0.000000</td>\n",
              "      <td>0.0</td>\n",
              "      <td>0.0</td>\n",
              "      <td>0.0</td>\n",
              "      <td>0.0</td>\n",
              "      <td>0.0</td>\n",
              "      <td>0.0</td>\n",
              "      <td>0.0</td>\n",
              "      <td>0.0</td>\n",
              "      <td>0.000000</td>\n",
              "      <td>0.0</td>\n",
              "      <td>0.000000</td>\n",
              "      <td>0.0</td>\n",
              "      <td>0.0</td>\n",
              "      <td>0.0</td>\n",
              "      <td>0.000000</td>\n",
              "      <td>0.0</td>\n",
              "      <td>0.000000</td>\n",
              "      <td>0.0</td>\n",
              "      <td>0.000000</td>\n",
              "      <td>0.000000</td>\n",
              "      <td>0.0</td>\n",
              "      <td>0.0</td>\n",
              "      <td>0.0</td>\n",
              "      <td>...</td>\n",
              "      <td>0.084834</td>\n",
              "      <td>0.0</td>\n",
              "      <td>0.0</td>\n",
              "      <td>0.000000</td>\n",
              "      <td>0.0</td>\n",
              "      <td>0.0</td>\n",
              "      <td>0.0</td>\n",
              "      <td>0.00000</td>\n",
              "      <td>0.075804</td>\n",
              "      <td>0.0</td>\n",
              "      <td>0.0</td>\n",
              "      <td>0.0</td>\n",
              "      <td>0.0</td>\n",
              "      <td>0.000000</td>\n",
              "      <td>0.000000</td>\n",
              "      <td>0.061867</td>\n",
              "      <td>0.0</td>\n",
              "      <td>0.0</td>\n",
              "      <td>0.063552</td>\n",
              "      <td>0.000000</td>\n",
              "      <td>0.0</td>\n",
              "      <td>0.000000</td>\n",
              "      <td>0.000000</td>\n",
              "      <td>0.0</td>\n",
              "      <td>0.0</td>\n",
              "      <td>0.0</td>\n",
              "      <td>0.0</td>\n",
              "      <td>0.0</td>\n",
              "      <td>0.000000</td>\n",
              "      <td>0.000000</td>\n",
              "      <td>0.000000</td>\n",
              "      <td>0.0</td>\n",
              "      <td>0.0</td>\n",
              "      <td>0.000000</td>\n",
              "      <td>0.0</td>\n",
              "      <td>0.000000</td>\n",
              "      <td>0.0</td>\n",
              "      <td>0.0</td>\n",
              "      <td>0.0</td>\n",
              "      <td>0.000000</td>\n",
              "    </tr>\n",
              "    <tr>\n",
              "      <th>130</th>\n",
              "      <td>0.0</td>\n",
              "      <td>0.0</td>\n",
              "      <td>0.0</td>\n",
              "      <td>0.0</td>\n",
              "      <td>0.0</td>\n",
              "      <td>0.0</td>\n",
              "      <td>0.0</td>\n",
              "      <td>0.0</td>\n",
              "      <td>0.0</td>\n",
              "      <td>0.000000</td>\n",
              "      <td>0.0</td>\n",
              "      <td>0.000000</td>\n",
              "      <td>0.0</td>\n",
              "      <td>0.0</td>\n",
              "      <td>0.0</td>\n",
              "      <td>0.000000</td>\n",
              "      <td>0.000000</td>\n",
              "      <td>0.0</td>\n",
              "      <td>0.0</td>\n",
              "      <td>0.0</td>\n",
              "      <td>0.0</td>\n",
              "      <td>0.0</td>\n",
              "      <td>0.0</td>\n",
              "      <td>0.0</td>\n",
              "      <td>0.0</td>\n",
              "      <td>0.000000</td>\n",
              "      <td>0.0</td>\n",
              "      <td>0.000000</td>\n",
              "      <td>0.0</td>\n",
              "      <td>0.0</td>\n",
              "      <td>0.0</td>\n",
              "      <td>0.000000</td>\n",
              "      <td>0.0</td>\n",
              "      <td>0.000000</td>\n",
              "      <td>0.0</td>\n",
              "      <td>0.000000</td>\n",
              "      <td>0.000000</td>\n",
              "      <td>0.0</td>\n",
              "      <td>0.0</td>\n",
              "      <td>0.0</td>\n",
              "      <td>...</td>\n",
              "      <td>0.000000</td>\n",
              "      <td>0.0</td>\n",
              "      <td>0.0</td>\n",
              "      <td>0.000000</td>\n",
              "      <td>0.0</td>\n",
              "      <td>0.0</td>\n",
              "      <td>0.0</td>\n",
              "      <td>0.00000</td>\n",
              "      <td>0.000000</td>\n",
              "      <td>0.0</td>\n",
              "      <td>0.0</td>\n",
              "      <td>0.0</td>\n",
              "      <td>0.0</td>\n",
              "      <td>0.000000</td>\n",
              "      <td>0.000000</td>\n",
              "      <td>0.000000</td>\n",
              "      <td>0.0</td>\n",
              "      <td>0.0</td>\n",
              "      <td>0.000000</td>\n",
              "      <td>0.000000</td>\n",
              "      <td>0.0</td>\n",
              "      <td>0.000000</td>\n",
              "      <td>0.000000</td>\n",
              "      <td>0.0</td>\n",
              "      <td>0.0</td>\n",
              "      <td>0.0</td>\n",
              "      <td>0.0</td>\n",
              "      <td>0.0</td>\n",
              "      <td>0.000000</td>\n",
              "      <td>0.000000</td>\n",
              "      <td>0.000000</td>\n",
              "      <td>0.0</td>\n",
              "      <td>0.0</td>\n",
              "      <td>0.000000</td>\n",
              "      <td>0.0</td>\n",
              "      <td>0.000000</td>\n",
              "      <td>0.0</td>\n",
              "      <td>0.0</td>\n",
              "      <td>0.0</td>\n",
              "      <td>0.093065</td>\n",
              "    </tr>\n",
              "    <tr>\n",
              "      <th>131</th>\n",
              "      <td>0.0</td>\n",
              "      <td>0.0</td>\n",
              "      <td>0.0</td>\n",
              "      <td>0.0</td>\n",
              "      <td>0.0</td>\n",
              "      <td>0.0</td>\n",
              "      <td>0.0</td>\n",
              "      <td>0.0</td>\n",
              "      <td>0.0</td>\n",
              "      <td>0.000000</td>\n",
              "      <td>0.0</td>\n",
              "      <td>0.000000</td>\n",
              "      <td>0.0</td>\n",
              "      <td>0.0</td>\n",
              "      <td>0.0</td>\n",
              "      <td>0.000000</td>\n",
              "      <td>0.000000</td>\n",
              "      <td>0.0</td>\n",
              "      <td>0.0</td>\n",
              "      <td>0.0</td>\n",
              "      <td>0.0</td>\n",
              "      <td>0.0</td>\n",
              "      <td>0.0</td>\n",
              "      <td>0.0</td>\n",
              "      <td>0.0</td>\n",
              "      <td>0.000000</td>\n",
              "      <td>0.0</td>\n",
              "      <td>0.000000</td>\n",
              "      <td>0.0</td>\n",
              "      <td>0.0</td>\n",
              "      <td>0.0</td>\n",
              "      <td>0.000000</td>\n",
              "      <td>0.0</td>\n",
              "      <td>0.000000</td>\n",
              "      <td>0.0</td>\n",
              "      <td>0.000000</td>\n",
              "      <td>0.000000</td>\n",
              "      <td>0.0</td>\n",
              "      <td>0.0</td>\n",
              "      <td>0.0</td>\n",
              "      <td>...</td>\n",
              "      <td>0.000000</td>\n",
              "      <td>0.0</td>\n",
              "      <td>0.0</td>\n",
              "      <td>0.000000</td>\n",
              "      <td>0.0</td>\n",
              "      <td>0.0</td>\n",
              "      <td>0.0</td>\n",
              "      <td>0.00000</td>\n",
              "      <td>0.000000</td>\n",
              "      <td>0.0</td>\n",
              "      <td>0.0</td>\n",
              "      <td>0.0</td>\n",
              "      <td>0.0</td>\n",
              "      <td>0.000000</td>\n",
              "      <td>0.000000</td>\n",
              "      <td>0.000000</td>\n",
              "      <td>0.0</td>\n",
              "      <td>0.0</td>\n",
              "      <td>0.000000</td>\n",
              "      <td>0.000000</td>\n",
              "      <td>0.0</td>\n",
              "      <td>0.000000</td>\n",
              "      <td>0.125361</td>\n",
              "      <td>0.0</td>\n",
              "      <td>0.0</td>\n",
              "      <td>0.0</td>\n",
              "      <td>0.0</td>\n",
              "      <td>0.0</td>\n",
              "      <td>0.000000</td>\n",
              "      <td>0.000000</td>\n",
              "      <td>0.000000</td>\n",
              "      <td>0.0</td>\n",
              "      <td>0.0</td>\n",
              "      <td>0.000000</td>\n",
              "      <td>0.0</td>\n",
              "      <td>0.000000</td>\n",
              "      <td>0.0</td>\n",
              "      <td>0.0</td>\n",
              "      <td>0.0</td>\n",
              "      <td>0.000000</td>\n",
              "    </tr>\n",
              "    <tr>\n",
              "      <th>132</th>\n",
              "      <td>0.0</td>\n",
              "      <td>0.0</td>\n",
              "      <td>0.0</td>\n",
              "      <td>0.0</td>\n",
              "      <td>0.0</td>\n",
              "      <td>0.0</td>\n",
              "      <td>0.0</td>\n",
              "      <td>0.0</td>\n",
              "      <td>0.0</td>\n",
              "      <td>0.000000</td>\n",
              "      <td>0.0</td>\n",
              "      <td>0.000000</td>\n",
              "      <td>0.0</td>\n",
              "      <td>0.0</td>\n",
              "      <td>0.0</td>\n",
              "      <td>0.000000</td>\n",
              "      <td>0.000000</td>\n",
              "      <td>0.0</td>\n",
              "      <td>0.0</td>\n",
              "      <td>0.0</td>\n",
              "      <td>0.0</td>\n",
              "      <td>0.0</td>\n",
              "      <td>0.0</td>\n",
              "      <td>0.0</td>\n",
              "      <td>0.0</td>\n",
              "      <td>0.079108</td>\n",
              "      <td>0.0</td>\n",
              "      <td>0.000000</td>\n",
              "      <td>0.0</td>\n",
              "      <td>0.0</td>\n",
              "      <td>0.0</td>\n",
              "      <td>0.000000</td>\n",
              "      <td>0.0</td>\n",
              "      <td>0.000000</td>\n",
              "      <td>0.0</td>\n",
              "      <td>0.000000</td>\n",
              "      <td>0.000000</td>\n",
              "      <td>0.0</td>\n",
              "      <td>0.0</td>\n",
              "      <td>0.0</td>\n",
              "      <td>...</td>\n",
              "      <td>0.000000</td>\n",
              "      <td>0.0</td>\n",
              "      <td>0.0</td>\n",
              "      <td>0.054481</td>\n",
              "      <td>0.0</td>\n",
              "      <td>0.0</td>\n",
              "      <td>0.0</td>\n",
              "      <td>0.00000</td>\n",
              "      <td>0.000000</td>\n",
              "      <td>0.0</td>\n",
              "      <td>0.0</td>\n",
              "      <td>0.0</td>\n",
              "      <td>0.0</td>\n",
              "      <td>0.068265</td>\n",
              "      <td>0.000000</td>\n",
              "      <td>0.000000</td>\n",
              "      <td>0.0</td>\n",
              "      <td>0.0</td>\n",
              "      <td>0.000000</td>\n",
              "      <td>0.000000</td>\n",
              "      <td>0.0</td>\n",
              "      <td>0.000000</td>\n",
              "      <td>0.000000</td>\n",
              "      <td>0.0</td>\n",
              "      <td>0.0</td>\n",
              "      <td>0.0</td>\n",
              "      <td>0.0</td>\n",
              "      <td>0.0</td>\n",
              "      <td>0.000000</td>\n",
              "      <td>0.000000</td>\n",
              "      <td>0.052635</td>\n",
              "      <td>0.0</td>\n",
              "      <td>0.0</td>\n",
              "      <td>0.000000</td>\n",
              "      <td>0.0</td>\n",
              "      <td>0.000000</td>\n",
              "      <td>0.0</td>\n",
              "      <td>0.0</td>\n",
              "      <td>0.0</td>\n",
              "      <td>0.044297</td>\n",
              "    </tr>\n",
              "  </tbody>\n",
              "</table>\n",
              "<p>133 rows × 2038 columns</p>\n",
              "</div>"
            ],
            "text/plain": [
              "      00   08   10  100  1070906  ...   writing  written   x4  year     years\n",
              "0    0.0  0.0  0.0  0.0      0.0  ...  0.000000      0.0  0.0   0.0  0.000000\n",
              "1    0.0  0.0  0.0  0.0      0.0  ...  0.086106      0.0  0.0   0.0  0.000000\n",
              "2    0.0  0.0  0.0  0.0      0.0  ...  0.000000      0.0  0.0   0.0  0.000000\n",
              "3    0.0  0.0  0.0  0.0      0.0  ...  0.000000      0.0  0.0   0.0  0.000000\n",
              "4    0.0  0.0  0.0  0.0      0.0  ...  0.100455      0.0  0.0   0.0  0.000000\n",
              "..   ...  ...  ...  ...      ...  ...       ...      ...  ...   ...       ...\n",
              "128  0.0  0.0  0.0  0.0      0.0  ...  0.000000      0.0  0.0   0.0  0.044717\n",
              "129  0.0  0.0  0.0  0.0      0.0  ...  0.000000      0.0  0.0   0.0  0.000000\n",
              "130  0.0  0.0  0.0  0.0      0.0  ...  0.000000      0.0  0.0   0.0  0.093065\n",
              "131  0.0  0.0  0.0  0.0      0.0  ...  0.000000      0.0  0.0   0.0  0.000000\n",
              "132  0.0  0.0  0.0  0.0      0.0  ...  0.000000      0.0  0.0   0.0  0.044297\n",
              "\n",
              "[133 rows x 2038 columns]"
            ]
          },
          "metadata": {
            "tags": []
          },
          "execution_count": 29
        }
      ]
    },
    {
      "cell_type": "markdown",
      "metadata": {
        "id": "PIX-3PS-VGDg",
        "colab_type": "text"
      },
      "source": [
        "As before the TfidfVectorizer returns a term-document matrix, but instead of consisting of word frequencies we have tfidf values for each term-document pair. The parameters 'min_df' and 'max_df' are constraints on the document frequency of the words in our vocabulary. We have used a 'min_df' of 2, so any words that do not appear in at least two documents are thrown out. 'Max_df' is a float which corresponds to a proportion of the documents, so here if any words appear in more than 60 percent of the documents they too are discarded. In the same way as before, we can sum the tfidf values within the three classes and plot the highest aggregate values to hopefully extract the most important terms to characterise the three job types."
      ]
    },
    {
      "cell_type": "code",
      "metadata": {
        "colab_type": "code",
        "id": "9OcurkbZBRZ0",
        "colab": {
          "base_uri": "https://localhost:8080/",
          "height": 617
        },
        "outputId": "9cd35994-ba85-4a5a-88c5-6e41767470ec"
      },
      "source": [
        "# hide_input\n",
        "tfidf_with_job = tfidf.copy()\n",
        "tfidf_with_job['job_type'] = df.job\n",
        "counts_by_job = (tfidf_with_job.groupby('job_type')\n",
        "                 .sum()\n",
        "                 .transpose()\n",
        "                 .reset_index()\n",
        "                 .rename(columns={'index': 'word'}))\n",
        "\n",
        "da_top = counts_by_job[['word', 'data analyst']].sort_values('data analyst', ascending=False)[:20]\n",
        "de_top = counts_by_job[['word', 'data engineer']].sort_values('data engineer', ascending=False)[:20]\n",
        "ds_top = counts_by_job[['word', 'data scientist']].sort_values('data scientist', ascending=False)[:20]\n",
        "\n",
        "colours_dict = {'data analyst': '#636efa', 'data scientist': '#00cc96', 'data engineer': '#EF553B'}\n",
        "\n",
        "fig = make_subplots(rows=1, \n",
        "                    cols=3, \n",
        "                    subplot_titles=(\"DS top words\", \"DE top words\", \"DA top words\"),\n",
        "                    x_title='tfidf score'\n",
        "                )\n",
        "\n",
        "fig.add_trace(go.Bar(\n",
        "    y=ds_top['word'],\n",
        "    x=ds_top['data scientist'],\n",
        "    orientation='h',\n",
        "    marker=dict(color=colours_dict['data scientist'])),\n",
        "    row=1, col=1\n",
        ")\n",
        "\n",
        "fig.add_trace(go.Bar(\n",
        "    y=de_top['word'],\n",
        "    x=de_top['data engineer'],\n",
        "    orientation='h',\n",
        "    marker=dict(color=colours_dict['data engineer'])),\n",
        "    row=1, col=2\n",
        ")\n",
        "\n",
        "fig.add_trace(go.Bar(\n",
        "    y=da_top['word'],\n",
        "    x=da_top['data analyst'],\n",
        "    orientation='h',\n",
        "    marker=dict(color=colours_dict['data analyst'])),\n",
        "    row=1, col=3\n",
        ")\n",
        "\n",
        "fig.update_layout(\n",
        "    yaxis1=dict(autorange=\"reversed\"),\n",
        "    yaxis2=dict(autorange=\"reversed\"),\n",
        "    yaxis3=dict(autorange=\"reversed\"),\n",
        "    height=600, width=1050,\n",
        "    showlegend=False\n",
        ")\n",
        "fig.show()"
      ],
      "execution_count": 30,
      "outputs": [
        {
          "output_type": "display_data",
          "data": {
            "text/html": [
              "<html>\n",
              "<head><meta charset=\"utf-8\" /></head>\n",
              "<body>\n",
              "    <div>\n",
              "            <script src=\"https://cdnjs.cloudflare.com/ajax/libs/mathjax/2.7.5/MathJax.js?config=TeX-AMS-MML_SVG\"></script><script type=\"text/javascript\">if (window.MathJax) {MathJax.Hub.Config({SVG: {font: \"STIX-Web\"}});}</script>\n",
              "                <script type=\"text/javascript\">window.PlotlyConfig = {MathJaxConfig: 'local'};</script>\n",
              "        <script src=\"https://cdn.plot.ly/plotly-latest.min.js\"></script>    \n",
              "            <div id=\"959b313f-f090-4998-bff1-c312622a3bb1\" class=\"plotly-graph-div\" style=\"height:600px; width:1050px;\"></div>\n",
              "            <script type=\"text/javascript\">\n",
              "                \n",
              "                    window.PLOTLYENV=window.PLOTLYENV || {};\n",
              "                    \n",
              "                if (document.getElementById(\"959b313f-f090-4998-bff1-c312622a3bb1\")) {\n",
              "                    Plotly.newPlot(\n",
              "                        '959b313f-f090-4998-bff1-c312622a3bb1',\n",
              "                        [{\"marker\": {\"color\": \"#00cc96\"}, \"orientation\": \"h\", \"type\": \"bar\", \"x\": [5.692211277842326, 3.2599155189749625, 3.1062369318468077, 2.788227688668581, 2.5166072403004964, 1.9167432856141906, 1.8420724938558666, 1.5307825546368152, 1.5040550940461963, 1.4215827935424137, 1.307648034061844, 1.293933724266684, 1.2817604069380093, 1.2799607613418895, 1.2782363868988325, 1.275312423038657, 1.266266303788964, 1.2560380745071733, 1.2511022925278747, 1.215781762127273], \"xaxis\": \"x\", \"y\": [\"scientist\", \"learning\", \"machine\", \"science\", \"models\", \"python\", \"company\", \"rstudio\", \"solutions\", \"statistical\", \"algorithms\", \"join\", \"new\", \"advanced\", \"analytics\", \"phd\", \"computer\", \"using\", \"based\", \"apply\"], \"yaxis\": \"y\"}, {\"marker\": {\"color\": \"#EF553B\"}, \"orientation\": \"h\", \"type\": \"bar\", \"x\": [5.973610606155451, 2.338475697382591, 2.147709559426188, 2.0181106938424276, 1.9915009487304745, 1.9623316764160428, 1.671798987179967, 1.551104095245831, 1.5500674218358592, 1.5234638649905068, 1.4618746520124704, 1.438850735823384, 1.4276522575451187, 1.3733992996949551, 1.358058791659846, 1.343978400455038, 1.3355832930170213, 1.33535650643492, 1.3142821155170805, 1.2455389687928278], \"xaxis\": \"x2\", \"y\": [\"engineer\", \"aws\", \"etl\", \"technologies\", \"cloud\", \"azure\", \"python\", \"development\", \"database\", \"pipelines\", \"design\", \"new\", \"solutions\", \"spark\", \"strong\", \"opportunity\", \"build\", \"sql\", \"apply\", \"successful\"], \"yaxis\": \"y2\"}, {\"marker\": {\"color\": \"#636efa\"}, \"orientation\": \"h\", \"type\": \"bar\", \"x\": [5.92035411065, 2.5748943022922672, 2.51932623739495, 2.3238880509190487, 2.1882139166123067, 2.1849984093108623, 2.0688195940074627, 2.0498652689250108, 2.046124679409775, 1.9882950325225863, 1.9449294405584923, 1.9080700775146744, 1.8865793044365222, 1.8802906662388523, 1.8478074212954199, 1.7094812053818325, 1.6984017345427112, 1.6205932839598163, 1.6124699503167754, 1.5906006372512085], \"xaxis\": \"x3\", \"y\": [\"analyst\", \"reports\", \"analysis\", \"reporting\", \"sql\", \"support\", \"excel\", \"ability\", \"analytical\", \"excellent\", \"quality\", \"information\", \"analyse\", \"client\", \"using\", \"management\", \"processes\", \"provide\", \"tools\", \"identify\"], \"yaxis\": \"y3\"}],\n",
              "                        {\"annotations\": [{\"font\": {\"size\": 16}, \"showarrow\": false, \"text\": \"DS top words\", \"x\": 0.14444444444444446, \"xanchor\": \"center\", \"xref\": \"paper\", \"y\": 1.0, \"yanchor\": \"bottom\", \"yref\": \"paper\"}, {\"font\": {\"size\": 16}, \"showarrow\": false, \"text\": \"DE top words\", \"x\": 0.5, \"xanchor\": \"center\", \"xref\": \"paper\", \"y\": 1.0, \"yanchor\": \"bottom\", \"yref\": \"paper\"}, {\"font\": {\"size\": 16}, \"showarrow\": false, \"text\": \"DA top words\", \"x\": 0.8555555555555556, \"xanchor\": \"center\", \"xref\": \"paper\", \"y\": 1.0, \"yanchor\": \"bottom\", \"yref\": \"paper\"}, {\"font\": {\"size\": 16}, \"showarrow\": false, \"text\": \"tfidf score\", \"x\": 0.5, \"xanchor\": \"center\", \"xref\": \"paper\", \"y\": 0, \"yanchor\": \"top\", \"yref\": \"paper\", \"yshift\": -30}], \"height\": 600, \"showlegend\": false, \"template\": {\"data\": {\"bar\": [{\"error_x\": {\"color\": \"#2a3f5f\"}, \"error_y\": {\"color\": \"#2a3f5f\"}, \"marker\": {\"line\": {\"color\": \"#E5ECF6\", \"width\": 0.5}}, \"type\": \"bar\"}], \"barpolar\": [{\"marker\": {\"line\": {\"color\": \"#E5ECF6\", \"width\": 0.5}}, \"type\": \"barpolar\"}], \"carpet\": [{\"aaxis\": {\"endlinecolor\": \"#2a3f5f\", \"gridcolor\": \"white\", \"linecolor\": \"white\", \"minorgridcolor\": \"white\", \"startlinecolor\": \"#2a3f5f\"}, \"baxis\": {\"endlinecolor\": \"#2a3f5f\", \"gridcolor\": \"white\", \"linecolor\": \"white\", \"minorgridcolor\": \"white\", \"startlinecolor\": \"#2a3f5f\"}, \"type\": \"carpet\"}], \"choropleth\": [{\"colorbar\": {\"outlinewidth\": 0, \"ticks\": \"\"}, \"type\": \"choropleth\"}], \"contour\": [{\"colorbar\": {\"outlinewidth\": 0, \"ticks\": \"\"}, \"colorscale\": [[0.0, \"#0d0887\"], [0.1111111111111111, \"#46039f\"], [0.2222222222222222, \"#7201a8\"], [0.3333333333333333, \"#9c179e\"], [0.4444444444444444, \"#bd3786\"], [0.5555555555555556, \"#d8576b\"], [0.6666666666666666, \"#ed7953\"], [0.7777777777777778, \"#fb9f3a\"], [0.8888888888888888, \"#fdca26\"], [1.0, \"#f0f921\"]], \"type\": \"contour\"}], \"contourcarpet\": [{\"colorbar\": {\"outlinewidth\": 0, \"ticks\": \"\"}, \"type\": \"contourcarpet\"}], \"heatmap\": [{\"colorbar\": {\"outlinewidth\": 0, \"ticks\": \"\"}, \"colorscale\": [[0.0, \"#0d0887\"], [0.1111111111111111, \"#46039f\"], [0.2222222222222222, \"#7201a8\"], [0.3333333333333333, \"#9c179e\"], [0.4444444444444444, \"#bd3786\"], [0.5555555555555556, \"#d8576b\"], [0.6666666666666666, \"#ed7953\"], [0.7777777777777778, \"#fb9f3a\"], [0.8888888888888888, \"#fdca26\"], [1.0, \"#f0f921\"]], \"type\": \"heatmap\"}], \"heatmapgl\": [{\"colorbar\": {\"outlinewidth\": 0, \"ticks\": \"\"}, \"colorscale\": [[0.0, \"#0d0887\"], [0.1111111111111111, \"#46039f\"], [0.2222222222222222, \"#7201a8\"], [0.3333333333333333, \"#9c179e\"], [0.4444444444444444, \"#bd3786\"], [0.5555555555555556, \"#d8576b\"], [0.6666666666666666, \"#ed7953\"], [0.7777777777777778, \"#fb9f3a\"], [0.8888888888888888, \"#fdca26\"], [1.0, \"#f0f921\"]], \"type\": \"heatmapgl\"}], \"histogram\": [{\"marker\": {\"colorbar\": {\"outlinewidth\": 0, \"ticks\": \"\"}}, \"type\": \"histogram\"}], \"histogram2d\": [{\"colorbar\": {\"outlinewidth\": 0, \"ticks\": \"\"}, \"colorscale\": [[0.0, \"#0d0887\"], [0.1111111111111111, \"#46039f\"], [0.2222222222222222, \"#7201a8\"], [0.3333333333333333, \"#9c179e\"], [0.4444444444444444, \"#bd3786\"], [0.5555555555555556, \"#d8576b\"], [0.6666666666666666, \"#ed7953\"], [0.7777777777777778, \"#fb9f3a\"], [0.8888888888888888, \"#fdca26\"], [1.0, \"#f0f921\"]], \"type\": \"histogram2d\"}], \"histogram2dcontour\": [{\"colorbar\": {\"outlinewidth\": 0, \"ticks\": \"\"}, \"colorscale\": [[0.0, \"#0d0887\"], [0.1111111111111111, \"#46039f\"], [0.2222222222222222, \"#7201a8\"], [0.3333333333333333, \"#9c179e\"], [0.4444444444444444, \"#bd3786\"], [0.5555555555555556, \"#d8576b\"], [0.6666666666666666, \"#ed7953\"], [0.7777777777777778, \"#fb9f3a\"], [0.8888888888888888, \"#fdca26\"], [1.0, \"#f0f921\"]], \"type\": \"histogram2dcontour\"}], \"mesh3d\": [{\"colorbar\": {\"outlinewidth\": 0, \"ticks\": \"\"}, \"type\": \"mesh3d\"}], \"parcoords\": [{\"line\": {\"colorbar\": {\"outlinewidth\": 0, \"ticks\": \"\"}}, \"type\": \"parcoords\"}], \"pie\": [{\"automargin\": true, \"type\": \"pie\"}], \"scatter\": [{\"marker\": {\"colorbar\": {\"outlinewidth\": 0, \"ticks\": \"\"}}, \"type\": \"scatter\"}], \"scatter3d\": [{\"line\": {\"colorbar\": {\"outlinewidth\": 0, \"ticks\": \"\"}}, \"marker\": {\"colorbar\": {\"outlinewidth\": 0, \"ticks\": \"\"}}, \"type\": \"scatter3d\"}], \"scattercarpet\": [{\"marker\": {\"colorbar\": {\"outlinewidth\": 0, \"ticks\": \"\"}}, \"type\": \"scattercarpet\"}], \"scattergeo\": [{\"marker\": {\"colorbar\": {\"outlinewidth\": 0, \"ticks\": \"\"}}, \"type\": \"scattergeo\"}], \"scattergl\": [{\"marker\": {\"colorbar\": {\"outlinewidth\": 0, \"ticks\": \"\"}}, \"type\": \"scattergl\"}], \"scattermapbox\": [{\"marker\": {\"colorbar\": {\"outlinewidth\": 0, \"ticks\": \"\"}}, \"type\": \"scattermapbox\"}], \"scatterpolar\": [{\"marker\": {\"colorbar\": {\"outlinewidth\": 0, \"ticks\": \"\"}}, \"type\": \"scatterpolar\"}], \"scatterpolargl\": [{\"marker\": {\"colorbar\": {\"outlinewidth\": 0, \"ticks\": \"\"}}, \"type\": \"scatterpolargl\"}], \"scatterternary\": [{\"marker\": {\"colorbar\": {\"outlinewidth\": 0, \"ticks\": \"\"}}, \"type\": \"scatterternary\"}], \"surface\": [{\"colorbar\": {\"outlinewidth\": 0, \"ticks\": \"\"}, \"colorscale\": [[0.0, \"#0d0887\"], [0.1111111111111111, \"#46039f\"], [0.2222222222222222, \"#7201a8\"], [0.3333333333333333, \"#9c179e\"], [0.4444444444444444, \"#bd3786\"], [0.5555555555555556, \"#d8576b\"], [0.6666666666666666, \"#ed7953\"], [0.7777777777777778, \"#fb9f3a\"], [0.8888888888888888, \"#fdca26\"], [1.0, \"#f0f921\"]], \"type\": \"surface\"}], \"table\": [{\"cells\": {\"fill\": {\"color\": \"#EBF0F8\"}, \"line\": {\"color\": \"white\"}}, \"header\": {\"fill\": {\"color\": \"#C8D4E3\"}, \"line\": {\"color\": \"white\"}}, \"type\": \"table\"}]}, \"layout\": {\"annotationdefaults\": {\"arrowcolor\": \"#2a3f5f\", \"arrowhead\": 0, \"arrowwidth\": 1}, \"coloraxis\": {\"colorbar\": {\"outlinewidth\": 0, \"ticks\": \"\"}}, \"colorscale\": {\"diverging\": [[0, \"#8e0152\"], [0.1, \"#c51b7d\"], [0.2, \"#de77ae\"], [0.3, \"#f1b6da\"], [0.4, \"#fde0ef\"], [0.5, \"#f7f7f7\"], [0.6, \"#e6f5d0\"], [0.7, \"#b8e186\"], [0.8, \"#7fbc41\"], [0.9, \"#4d9221\"], [1, \"#276419\"]], \"sequential\": [[0.0, \"#0d0887\"], [0.1111111111111111, \"#46039f\"], [0.2222222222222222, \"#7201a8\"], [0.3333333333333333, \"#9c179e\"], [0.4444444444444444, \"#bd3786\"], [0.5555555555555556, \"#d8576b\"], [0.6666666666666666, \"#ed7953\"], [0.7777777777777778, \"#fb9f3a\"], [0.8888888888888888, \"#fdca26\"], [1.0, \"#f0f921\"]], \"sequentialminus\": [[0.0, \"#0d0887\"], [0.1111111111111111, \"#46039f\"], [0.2222222222222222, \"#7201a8\"], [0.3333333333333333, \"#9c179e\"], [0.4444444444444444, \"#bd3786\"], [0.5555555555555556, \"#d8576b\"], [0.6666666666666666, \"#ed7953\"], [0.7777777777777778, \"#fb9f3a\"], [0.8888888888888888, \"#fdca26\"], [1.0, \"#f0f921\"]]}, \"colorway\": [\"#636efa\", \"#EF553B\", \"#00cc96\", \"#ab63fa\", \"#FFA15A\", \"#19d3f3\", \"#FF6692\", \"#B6E880\", \"#FF97FF\", \"#FECB52\"], \"font\": {\"color\": \"#2a3f5f\"}, \"geo\": {\"bgcolor\": \"white\", \"lakecolor\": \"white\", \"landcolor\": \"#E5ECF6\", \"showlakes\": true, \"showland\": true, \"subunitcolor\": \"white\"}, \"hoverlabel\": {\"align\": \"left\"}, \"hovermode\": \"closest\", \"mapbox\": {\"style\": \"light\"}, \"paper_bgcolor\": \"white\", \"plot_bgcolor\": \"#E5ECF6\", \"polar\": {\"angularaxis\": {\"gridcolor\": \"white\", \"linecolor\": \"white\", \"ticks\": \"\"}, \"bgcolor\": \"#E5ECF6\", \"radialaxis\": {\"gridcolor\": \"white\", \"linecolor\": \"white\", \"ticks\": \"\"}}, \"scene\": {\"xaxis\": {\"backgroundcolor\": \"#E5ECF6\", \"gridcolor\": \"white\", \"gridwidth\": 2, \"linecolor\": \"white\", \"showbackground\": true, \"ticks\": \"\", \"zerolinecolor\": \"white\"}, \"yaxis\": {\"backgroundcolor\": \"#E5ECF6\", \"gridcolor\": \"white\", \"gridwidth\": 2, \"linecolor\": \"white\", \"showbackground\": true, \"ticks\": \"\", \"zerolinecolor\": \"white\"}, \"zaxis\": {\"backgroundcolor\": \"#E5ECF6\", \"gridcolor\": \"white\", \"gridwidth\": 2, \"linecolor\": \"white\", \"showbackground\": true, \"ticks\": \"\", \"zerolinecolor\": \"white\"}}, \"shapedefaults\": {\"line\": {\"color\": \"#2a3f5f\"}}, \"ternary\": {\"aaxis\": {\"gridcolor\": \"white\", \"linecolor\": \"white\", \"ticks\": \"\"}, \"baxis\": {\"gridcolor\": \"white\", \"linecolor\": \"white\", \"ticks\": \"\"}, \"bgcolor\": \"#E5ECF6\", \"caxis\": {\"gridcolor\": \"white\", \"linecolor\": \"white\", \"ticks\": \"\"}}, \"title\": {\"x\": 0.05}, \"xaxis\": {\"automargin\": true, \"gridcolor\": \"white\", \"linecolor\": \"white\", \"ticks\": \"\", \"title\": {\"standoff\": 15}, \"zerolinecolor\": \"white\", \"zerolinewidth\": 2}, \"yaxis\": {\"automargin\": true, \"gridcolor\": \"white\", \"linecolor\": \"white\", \"ticks\": \"\", \"title\": {\"standoff\": 15}, \"zerolinecolor\": \"white\", \"zerolinewidth\": 2}}}, \"width\": 1050, \"xaxis\": {\"anchor\": \"y\", \"domain\": [0.0, 0.2888888888888889]}, \"xaxis2\": {\"anchor\": \"y2\", \"domain\": [0.35555555555555557, 0.6444444444444445]}, \"xaxis3\": {\"anchor\": \"y3\", \"domain\": [0.7111111111111111, 1.0]}, \"yaxis\": {\"anchor\": \"x\", \"autorange\": \"reversed\", \"domain\": [0.0, 1.0]}, \"yaxis2\": {\"anchor\": \"x2\", \"autorange\": \"reversed\", \"domain\": [0.0, 1.0]}, \"yaxis3\": {\"anchor\": \"x3\", \"autorange\": \"reversed\", \"domain\": [0.0, 1.0]}},\n",
              "                        {\"responsive\": true}\n",
              "                    ).then(function(){\n",
              "                            \n",
              "var gd = document.getElementById('959b313f-f090-4998-bff1-c312622a3bb1');\n",
              "var x = new MutationObserver(function (mutations, observer) {{\n",
              "        var display = window.getComputedStyle(gd).display;\n",
              "        if (!display || display === 'none') {{\n",
              "            console.log([gd, 'removed!']);\n",
              "            Plotly.purge(gd);\n",
              "            observer.disconnect();\n",
              "        }}\n",
              "}});\n",
              "\n",
              "// Listen for the removal of the full notebook cells\n",
              "var notebookContainer = gd.closest('#notebook-container');\n",
              "if (notebookContainer) {{\n",
              "    x.observe(notebookContainer, {childList: true});\n",
              "}}\n",
              "\n",
              "// Listen for the clearing of the current output cell\n",
              "var outputEl = gd.closest('.output');\n",
              "if (outputEl) {{\n",
              "    x.observe(outputEl, {childList: true});\n",
              "}}\n",
              "\n",
              "                        })\n",
              "                };\n",
              "                \n",
              "            </script>\n",
              "        </div>\n",
              "</body>\n",
              "</html>"
            ]
          },
          "metadata": {
            "tags": []
          }
        }
      ]
    },
    {
      "cell_type": "markdown",
      "metadata": {
        "id": "vY10ahgCVGDl",
        "colab_type": "text"
      },
      "source": [
        "This is a big improvement over our first attempt. There are far fewer generic terms because of the introduction of the inverse-document weighting and the document frequency constraints. The data engineering terms are also closer to our expectations than they were before. \n",
        "\n",
        "What are the key insights we can take from these plots? For data scientists machine learning is the most distinguishing feature. R and Python both appear with the latter ranked slightly higher, at least in this sample. We can also see that masters degrees and doctorates are important in data scientist posts but not in the other two roles. This makes a certain degree of sense as data science typically relies on a more theoretical foundation than the other two fields. While data engineering is a technical field, it is centered on a deep understanding of specific technologies, an understanding which is more typically gained from extensive working experience than time spent in academia.\n",
        "\n",
        "Speaking of data engineering, our picture of the field is clearer from this version of the plot. Cloud technologies and databases dominate and python seems to be the scripting language of choice within this sample of posts. The impression given by this visual is that tools and technologies are to data engineering what algorithms and models are to data science. \n",
        "\n",
        "Finally, data analyst positions appear to be characterised by aptitudes and skills than by specific technologies or technical backgrounds. SQL and excel feature heavily but apart from these tools the key terms seem to describe an general analytical mindset and an ability to support other business functions through reporting and analysis."
      ]
    },
    {
      "cell_type": "markdown",
      "metadata": {
        "id": "95YB4bb2VGDm",
        "colab_type": "text"
      },
      "source": [
        "## Plotting job descriptions via dimensionality reduction\n",
        "\n",
        "For those of you that only clicked on this post because unsupervised learning was in the title, this section is for you. Using TF-IDF we have created a 2038-dimensional representation of the job descriptions in our sample. As it is a bit of a struggle to visualise anything in more than three dimensions, it is common practice to manipulate high-dimensional data into a two or three dimensional space so that it can be visualised and structural patterns in the data can be more easily found. In this case we are going to use Principal Component Analysis, or PCA for short, to project our data onto the two dimensions which retain the highest variability. "
      ]
    },
    {
      "cell_type": "code",
      "metadata": {
        "colab_type": "code",
        "id": "ItOPuXeWBRZ4",
        "colab": {
          "base_uri": "https://localhost:8080/",
          "height": 206
        },
        "outputId": "f6acafef-ceb6-4c39-f056-1b11812ba4ae"
      },
      "source": [
        "from sklearn.decomposition import PCA\n",
        "pca = PCA(n_components=2)\n",
        "X = pca.fit_transform(tfidf)\n",
        "X_df = pd.DataFrame(X)\n",
        "X_df['job'] = df.job.values\n",
        "X_df = X_df.rename(columns={0: 'pc_0', 1: 'pc_1'})\n",
        "X_df.sample(5)"
      ],
      "execution_count": 31,
      "outputs": [
        {
          "output_type": "execute_result",
          "data": {
            "text/html": [
              "<div>\n",
              "<style scoped>\n",
              "    .dataframe tbody tr th:only-of-type {\n",
              "        vertical-align: middle;\n",
              "    }\n",
              "\n",
              "    .dataframe tbody tr th {\n",
              "        vertical-align: top;\n",
              "    }\n",
              "\n",
              "    .dataframe thead th {\n",
              "        text-align: right;\n",
              "    }\n",
              "</style>\n",
              "<table border=\"1\" class=\"dataframe\">\n",
              "  <thead>\n",
              "    <tr style=\"text-align: right;\">\n",
              "      <th></th>\n",
              "      <th>pc_0</th>\n",
              "      <th>pc_1</th>\n",
              "      <th>job</th>\n",
              "    </tr>\n",
              "  </thead>\n",
              "  <tbody>\n",
              "    <tr>\n",
              "      <th>118</th>\n",
              "      <td>0.141499</td>\n",
              "      <td>-0.074878</td>\n",
              "      <td>data scientist</td>\n",
              "    </tr>\n",
              "    <tr>\n",
              "      <th>126</th>\n",
              "      <td>0.258670</td>\n",
              "      <td>-0.064206</td>\n",
              "      <td>data scientist</td>\n",
              "    </tr>\n",
              "    <tr>\n",
              "      <th>59</th>\n",
              "      <td>0.201758</td>\n",
              "      <td>0.178582</td>\n",
              "      <td>data engineer</td>\n",
              "    </tr>\n",
              "    <tr>\n",
              "      <th>47</th>\n",
              "      <td>-0.135064</td>\n",
              "      <td>-0.067287</td>\n",
              "      <td>data analyst</td>\n",
              "    </tr>\n",
              "    <tr>\n",
              "      <th>101</th>\n",
              "      <td>0.109410</td>\n",
              "      <td>-0.154911</td>\n",
              "      <td>data scientist</td>\n",
              "    </tr>\n",
              "  </tbody>\n",
              "</table>\n",
              "</div>"
            ],
            "text/plain": [
              "         pc_0      pc_1             job\n",
              "118  0.141499 -0.074878  data scientist\n",
              "126  0.258670 -0.064206  data scientist\n",
              "59   0.201758  0.178582   data engineer\n",
              "47  -0.135064 -0.067287    data analyst\n",
              "101  0.109410 -0.154911  data scientist"
            ]
          },
          "metadata": {
            "tags": []
          },
          "execution_count": 31
        }
      ]
    },
    {
      "cell_type": "code",
      "metadata": {
        "colab_type": "code",
        "id": "mw_XoNO4BRZ9",
        "colab": {
          "base_uri": "https://localhost:8080/",
          "height": 35
        },
        "outputId": "aa33a052-6e04-457e-e033-504463cfab3a"
      },
      "source": [
        "pca.explained_variance_"
      ],
      "execution_count": 32,
      "outputs": [
        {
          "output_type": "execute_result",
          "data": {
            "text/plain": [
              "array([0.03001151, 0.02439229])"
            ]
          },
          "metadata": {
            "tags": []
          },
          "execution_count": 32
        }
      ]
    },
    {
      "cell_type": "markdown",
      "metadata": {
        "id": "i-zByIpUVGDv",
        "colab_type": "text"
      },
      "source": [
        "Using only a two dimensional representation of the tfidf vectors we retain just over half of the variance in our data. The following is a scatterplot of the first two principle component scores; each point is a job description. "
      ]
    },
    {
      "cell_type": "code",
      "metadata": {
        "colab_type": "code",
        "id": "D4EkHQ6KBRaC",
        "colab": {
          "base_uri": "https://localhost:8080/",
          "height": 542
        },
        "outputId": "753dc32e-8a51-408b-a0c8-8f76c8fa4690"
      },
      "source": [
        "import plotly.express as px\n",
        "fig = px.scatter(X_df, x=\"pc_0\", y=\"pc_1\", color=\"job\", hover_data=[\"pc_0\", \"pc_1\", X_df.index])\n",
        "fig.update_layout(title='first two PC scores of tfidf matrix')\n",
        "fig.show()"
      ],
      "execution_count": 33,
      "outputs": [
        {
          "output_type": "display_data",
          "data": {
            "text/html": [
              "<html>\n",
              "<head><meta charset=\"utf-8\" /></head>\n",
              "<body>\n",
              "    <div>\n",
              "            <script src=\"https://cdnjs.cloudflare.com/ajax/libs/mathjax/2.7.5/MathJax.js?config=TeX-AMS-MML_SVG\"></script><script type=\"text/javascript\">if (window.MathJax) {MathJax.Hub.Config({SVG: {font: \"STIX-Web\"}});}</script>\n",
              "                <script type=\"text/javascript\">window.PlotlyConfig = {MathJaxConfig: 'local'};</script>\n",
              "        <script src=\"https://cdn.plot.ly/plotly-latest.min.js\"></script>    \n",
              "            <div id=\"bb73bf02-ea4e-48fe-9d72-5f2e10f92564\" class=\"plotly-graph-div\" style=\"height:525px; width:100%;\"></div>\n",
              "            <script type=\"text/javascript\">\n",
              "                \n",
              "                    window.PLOTLYENV=window.PLOTLYENV || {};\n",
              "                    \n",
              "                if (document.getElementById(\"bb73bf02-ea4e-48fe-9d72-5f2e10f92564\")) {\n",
              "                    Plotly.newPlot(\n",
              "                        'bb73bf02-ea4e-48fe-9d72-5f2e10f92564',\n",
              "                        [{\"customdata\": [[-0.21145006792900659, -0.12185318730493351, 0.0], [-0.16683967091779014, -0.11156920543272936, 1.0], [-0.27862542143459845, -0.09006865847497555, 2.0], [-0.14193491876739628, -0.07055645266444673, 3.0], [-0.030608629854475634, -0.06385998239179516, 4.0], [-0.14354537063144304, -0.012005446875974874, 5.0], [-0.13606321589938877, -0.11006448975029054, 6.0], [-0.140398621985618, -0.030697109224993774, 7.0], [-0.044124619866954484, 0.025278167869896513, 8.0], [-0.2044358842814101, -0.11754935180854156, 9.0], [-0.3938631265591104, -0.20699161439854505, 10.0], [-0.12001820607025773, -0.08725521217130536, 11.0], [-0.09246182595281896, -0.12983625271981145, 12.0], [-0.054240028545727986, 0.009132534863721353, 13.0], [-0.18327150903690456, -0.025502744605529877, 14.0], [-0.08679415556875554, -0.061840648528420625, 15.0], [-0.2490622931624723, -0.08594236046621628, 16.0], [-0.09566285441452747, -0.07525735183232847, 17.0], [-0.29881510225158725, -0.16730074210752385, 18.0], [-0.08252856753517292, -0.038758707531347955, 19.0], [-0.08868007763156675, -0.06814273714242429, 20.0], [-0.22157051898502064, -0.08561630466048967, 21.0], [-0.185385686538055, -0.10528843695128079, 22.0], [-0.3668915454345716, -0.11723679594585569, 23.0], [-0.12800305362512662, -0.07353027868154034, 24.0], [-0.40204870920923697, -0.2212126305694982, 25.0], [-0.015566977582156964, -0.22480912077832216, 26.0], [-0.18452610997194852, -0.06146055650332919, 27.0], [-0.2739352673311426, -0.09288566062211562, 28.0], [-0.10047995248991196, -0.027591760041876818, 29.0], [-0.16204125751096593, -0.0928696064831018, 30.0], [-0.2055520950540939, -0.05440142661190133, 31.0], [-0.17900342809712927, -0.08207320228465854, 32.0], [-0.03807336061515037, 0.013721812014166454, 33.0], [-0.11615602308399207, -0.0631285546605246, 34.0], [-0.003124759971802385, -0.005565077702717927, 35.0], [-0.2227640755212095, -0.05889046586186163, 36.0], [-0.15498162722844327, -0.03310809295576241, 37.0], [-0.16153982236494083, -0.09298826751814758, 38.0], [-0.1525498887483699, -0.09574547287217075, 39.0], [-0.2997558284913412, -0.14935827741941002, 40.0], [-0.12623637036854773, -0.05867413451273885, 41.0], [-0.14950598201904508, -0.03938921341150731, 42.0], [-0.19076659478402216, -0.03837340448029389, 43.0], [-0.18122190986605302, -0.03846545208989504, 44.0], [-0.30953062950965954, -0.15254364131306328, 45.0], [-0.09531091221910017, -0.09612514747660714, 46.0], [-0.13506441719328768, -0.0672869845644291, 47.0], [-0.14798186195398305, 0.011862205595367386, 48.0], [-0.014667052279200262, -0.044175650883901026, 49.0], [-0.1430770204479104, -0.014754629276948417, 50.0]], \"hoverlabel\": {\"namelength\": 0}, \"hovertemplate\": \"job=data analyst<br>pc_0=%{customdata[0]}<br>pc_1=%{customdata[1]}<br>index=%{customdata[2]}\", \"legendgroup\": \"job=data analyst\", \"marker\": {\"color\": \"#636efa\", \"symbol\": \"circle\"}, \"mode\": \"markers\", \"name\": \"job=data analyst\", \"showlegend\": true, \"type\": \"scatter\", \"x\": [-0.21145006792900659, -0.16683967091779014, -0.27862542143459845, -0.14193491876739628, -0.030608629854475634, -0.14354537063144304, -0.13606321589938877, -0.140398621985618, -0.044124619866954484, -0.2044358842814101, -0.3938631265591104, -0.12001820607025773, -0.09246182595281896, -0.054240028545727986, -0.18327150903690456, -0.08679415556875554, -0.2490622931624723, -0.09566285441452747, -0.29881510225158725, -0.08252856753517292, -0.08868007763156675, -0.22157051898502064, -0.185385686538055, -0.3668915454345716, -0.12800305362512662, -0.40204870920923697, -0.015566977582156964, -0.18452610997194852, -0.2739352673311426, -0.10047995248991196, -0.16204125751096593, -0.2055520950540939, -0.17900342809712927, -0.03807336061515037, -0.11615602308399207, -0.003124759971802385, -0.2227640755212095, -0.15498162722844327, -0.16153982236494083, -0.1525498887483699, -0.2997558284913412, -0.12623637036854773, -0.14950598201904508, -0.19076659478402216, -0.18122190986605302, -0.30953062950965954, -0.09531091221910017, -0.13506441719328768, -0.14798186195398305, -0.014667052279200262, -0.1430770204479104], \"xaxis\": \"x\", \"y\": [-0.12185318730493351, -0.11156920543272936, -0.09006865847497555, -0.07055645266444673, -0.06385998239179516, -0.012005446875974874, -0.11006448975029054, -0.030697109224993774, 0.025278167869896513, -0.11754935180854156, -0.20699161439854505, -0.08725521217130536, -0.12983625271981145, 0.009132534863721353, -0.025502744605529877, -0.061840648528420625, -0.08594236046621628, -0.07525735183232847, -0.16730074210752385, -0.038758707531347955, -0.06814273714242429, -0.08561630466048967, -0.10528843695128079, -0.11723679594585569, -0.07353027868154034, -0.2212126305694982, -0.22480912077832216, -0.06146055650332919, -0.09288566062211562, -0.027591760041876818, -0.0928696064831018, -0.05440142661190133, -0.08207320228465854, 0.013721812014166454, -0.0631285546605246, -0.005565077702717927, -0.05889046586186163, -0.03310809295576241, -0.09298826751814758, -0.09574547287217075, -0.14935827741941002, -0.05867413451273885, -0.03938921341150731, -0.03837340448029389, -0.03846545208989504, -0.15254364131306328, -0.09612514747660714, -0.0672869845644291, 0.011862205595367386, -0.044175650883901026, -0.014754629276948417], \"yaxis\": \"y\"}, {\"customdata\": [[-0.02872719318607715, 0.271618744454219, 51.0], [0.15167433023494964, 0.12314691398232976, 52.0], [0.11180641703067865, 0.21346024546879735, 53.0], [0.10240313046225258, 0.13737441429907293, 54.0], [0.11191619815240485, 0.3284911500964287, 55.0], [0.13700426752280642, 0.16839486384961955, 56.0], [0.09687494741949679, 0.28361006967674335, 57.0], [-0.016222862812269513, 0.1412149773569029, 58.0], [0.20175766800021355, 0.17858180984257305, 59.0], [0.16994785301320478, 0.1820513989546444, 60.0], [0.15932985552361517, 0.14498064916078734, 61.0], [0.07695058848831504, 0.232065847844593, 62.0], [0.0009201042212791081, 0.2814111677038297, 63.0], [0.05439282021636251, 0.2877485161663901, 64.0], [-0.0062890595094298755, 0.10373959153567855, 65.0], [0.05063205990124849, 0.07683533982350309, 66.0], [0.0027283646382662186, 0.1787839074704619, 67.0], [0.1326744279795696, 0.30776338301698886, 68.0], [-0.0387091460275404, 0.13061668680669272, 69.0], [-0.08874365153157744, 0.06047178936787984, 70.0], [-0.06528084092978487, 0.22128245418901105, 71.0], [-0.08697718271905974, 0.12914856283016915, 72.0], [0.057606572629207396, 0.17878419885963123, 73.0], [0.05096119250184844, 0.2955894543858217, 74.0], [0.06969529052128698, 0.29746361495917, 75.0], [-0.021396113338027063, 0.27038391031124714, 76.0], [0.04975430326692329, 0.3952609651355296, 77.0], [0.008720553229954634, 0.28675890809623417, 78.0], [0.039554191520020765, 0.17726006283059198, 79.0], [-0.03896049154770973, 0.2843145437939577, 80.0], [-0.06873043765021734, 0.12764923830757385, 81.0], [0.057006373802390695, 0.21287247899522224, 82.0], [-0.02476542043275626, 0.22898474720681072, 83.0], [0.10666212047844294, 0.1854587676084772, 84.0], [0.04164457369964903, 0.28991898671390587, 85.0], [-0.021738263171589854, 0.11721110856266098, 86.0], [0.009816761941835029, 0.11841261380050688, 87.0], [-0.0034036771009467648, 0.16787062337524455, 88.0], [0.07581200840725448, 0.10268504454286695, 89.0], [-0.015173425842192017, 0.01448760355328889, 90.0], [0.034543473163777746, 0.1270338397982473, 91.0], [-0.024925916774221332, 0.14713174165006226, 92.0], [-0.014666307427553992, 0.08421932521066526, 93.0]], \"hoverlabel\": {\"namelength\": 0}, \"hovertemplate\": \"job=data engineer<br>pc_0=%{customdata[0]}<br>pc_1=%{customdata[1]}<br>index=%{customdata[2]}\", \"legendgroup\": \"job=data engineer\", \"marker\": {\"color\": \"#EF553B\", \"symbol\": \"circle\"}, \"mode\": \"markers\", \"name\": \"job=data engineer\", \"showlegend\": true, \"type\": \"scatter\", \"x\": [-0.02872719318607715, 0.15167433023494964, 0.11180641703067865, 0.10240313046225258, 0.11191619815240485, 0.13700426752280642, 0.09687494741949679, -0.016222862812269513, 0.20175766800021355, 0.16994785301320478, 0.15932985552361517, 0.07695058848831504, 0.0009201042212791081, 0.05439282021636251, -0.0062890595094298755, 0.05063205990124849, 0.0027283646382662186, 0.1326744279795696, -0.0387091460275404, -0.08874365153157744, -0.06528084092978487, -0.08697718271905974, 0.057606572629207396, 0.05096119250184844, 0.06969529052128698, -0.021396113338027063, 0.04975430326692329, 0.008720553229954634, 0.039554191520020765, -0.03896049154770973, -0.06873043765021734, 0.057006373802390695, -0.02476542043275626, 0.10666212047844294, 0.04164457369964903, -0.021738263171589854, 0.009816761941835029, -0.0034036771009467648, 0.07581200840725448, -0.015173425842192017, 0.034543473163777746, -0.024925916774221332, -0.014666307427553992], \"xaxis\": \"x\", \"y\": [0.271618744454219, 0.12314691398232976, 0.21346024546879735, 0.13737441429907293, 0.3284911500964287, 0.16839486384961955, 0.28361006967674335, 0.1412149773569029, 0.17858180984257305, 0.1820513989546444, 0.14498064916078734, 0.232065847844593, 0.2814111677038297, 0.2877485161663901, 0.10373959153567855, 0.07683533982350309, 0.1787839074704619, 0.30776338301698886, 0.13061668680669272, 0.06047178936787984, 0.22128245418901105, 0.12914856283016915, 0.17878419885963123, 0.2955894543858217, 0.29746361495917, 0.27038391031124714, 0.3952609651355296, 0.28675890809623417, 0.17726006283059198, 0.2843145437939577, 0.12764923830757385, 0.21287247899522224, 0.22898474720681072, 0.1854587676084772, 0.28991898671390587, 0.11721110856266098, 0.11841261380050688, 0.16787062337524455, 0.10268504454286695, 0.01448760355328889, 0.1270338397982473, 0.14713174165006226, 0.08421932521066526], \"yaxis\": \"y\"}, {\"customdata\": [[0.19692554793962166, -0.15901277312142936, 94.0], [0.20153026724034817, -0.10408451654295289, 95.0], [0.14137821959579328, -0.09962100828472131, 96.0], [0.28369749363968094, -0.0030108401375814327, 97.0], [0.054335871720101764, -0.09419370017487987, 98.0], [0.09031051222905404, -0.06650477175152614, 99.0], [0.19068129116176546, -0.1891637557078407, 100.0], [0.10941042656003605, -0.15491135606345072, 101.0], [0.2106576732310613, -0.11913003099877621, 102.0], [0.23444343277641225, -0.19035050582255042, 103.0], [0.08965895799582231, 0.07237417049803174, 104.0], [0.013161097667034678, 0.0024553247504132503, 105.0], [0.044912702495107544, -0.13171243455702844, 106.0], [0.04465906853779544, -0.13193199226700117, 107.0], [0.1861865855734932, -0.06348603196158983, 108.0], [0.016978178959455793, -0.0654774826269693, 109.0], [0.11160796318060057, 0.036717358175275265, 110.0], [0.09743283519343453, -0.0937806688625737, 111.0], [0.10455417202000318, -0.08816894772259445, 112.0], [0.46378334020875833, -0.357220168684523, 113.0], [0.5172868798664226, -0.38803928246681274, 114.0], [0.49269836723439875, -0.362692085497734, 115.0], [-0.023957957145676435, -0.12320576366937981, 116.0], [0.22254799460212452, -0.08249872231439102, 117.0], [0.1414994495813728, -0.07487819582757499, 118.0], [0.0799497330569359, -0.07703352294476694, 119.0], [0.3840559317537946, -0.21880728408668776, 120.0], [0.024476046265303256, 0.025617673446202246, 121.0], [0.10002878154929778, -0.10547403512398457, 122.0], [0.1419576420493976, -0.11046069790231455, 123.0], [0.14092907925824263, -0.031090121099980748, 124.0], [0.4196190814410513, -0.1747932541701634, 125.0], [0.25867044955103224, -0.06420643558933713, 126.0], [0.35407641382804605, -0.20692576506552518, 127.0], [0.11725851779514203, -0.05634471208030039, 128.0], [0.18429859396096268, -0.07534249611493252, 129.0], [0.1728077758519859, -0.08682813633159078, 130.0], [-0.059448560784721965, -0.03743922749465833, 131.0], [0.15759659118560537, -0.13928228317390168, 132.0]], \"hoverlabel\": {\"namelength\": 0}, \"hovertemplate\": \"job=data scientist<br>pc_0=%{customdata[0]}<br>pc_1=%{customdata[1]}<br>index=%{customdata[2]}\", \"legendgroup\": \"job=data scientist\", \"marker\": {\"color\": \"#00cc96\", \"symbol\": \"circle\"}, \"mode\": \"markers\", \"name\": \"job=data scientist\", \"showlegend\": true, \"type\": \"scatter\", \"x\": [0.19692554793962166, 0.20153026724034817, 0.14137821959579328, 0.28369749363968094, 0.054335871720101764, 0.09031051222905404, 0.19068129116176546, 0.10941042656003605, 0.2106576732310613, 0.23444343277641225, 0.08965895799582231, 0.013161097667034678, 0.044912702495107544, 0.04465906853779544, 0.1861865855734932, 0.016978178959455793, 0.11160796318060057, 0.09743283519343453, 0.10455417202000318, 0.46378334020875833, 0.5172868798664226, 0.49269836723439875, -0.023957957145676435, 0.22254799460212452, 0.1414994495813728, 0.0799497330569359, 0.3840559317537946, 0.024476046265303256, 0.10002878154929778, 0.1419576420493976, 0.14092907925824263, 0.4196190814410513, 0.25867044955103224, 0.35407641382804605, 0.11725851779514203, 0.18429859396096268, 0.1728077758519859, -0.059448560784721965, 0.15759659118560537], \"xaxis\": \"x\", \"y\": [-0.15901277312142936, -0.10408451654295289, -0.09962100828472131, -0.0030108401375814327, -0.09419370017487987, -0.06650477175152614, -0.1891637557078407, -0.15491135606345072, -0.11913003099877621, -0.19035050582255042, 0.07237417049803174, 0.0024553247504132503, -0.13171243455702844, -0.13193199226700117, -0.06348603196158983, -0.0654774826269693, 0.036717358175275265, -0.0937806688625737, -0.08816894772259445, -0.357220168684523, -0.38803928246681274, -0.362692085497734, -0.12320576366937981, -0.08249872231439102, -0.07487819582757499, -0.07703352294476694, -0.21880728408668776, 0.025617673446202246, -0.10547403512398457, -0.11046069790231455, -0.031090121099980748, -0.1747932541701634, -0.06420643558933713, -0.20692576506552518, -0.05634471208030039, -0.07534249611493252, -0.08682813633159078, -0.03743922749465833, -0.13928228317390168], \"yaxis\": \"y\"}],\n",
              "                        {\"legend\": {\"tracegroupgap\": 0}, \"margin\": {\"t\": 60}, \"template\": {\"data\": {\"bar\": [{\"error_x\": {\"color\": \"#2a3f5f\"}, \"error_y\": {\"color\": \"#2a3f5f\"}, \"marker\": {\"line\": {\"color\": \"#E5ECF6\", \"width\": 0.5}}, \"type\": \"bar\"}], \"barpolar\": [{\"marker\": {\"line\": {\"color\": \"#E5ECF6\", \"width\": 0.5}}, \"type\": \"barpolar\"}], \"carpet\": [{\"aaxis\": {\"endlinecolor\": \"#2a3f5f\", \"gridcolor\": \"white\", \"linecolor\": \"white\", \"minorgridcolor\": \"white\", \"startlinecolor\": \"#2a3f5f\"}, \"baxis\": {\"endlinecolor\": \"#2a3f5f\", \"gridcolor\": \"white\", \"linecolor\": \"white\", \"minorgridcolor\": \"white\", \"startlinecolor\": \"#2a3f5f\"}, \"type\": \"carpet\"}], \"choropleth\": [{\"colorbar\": {\"outlinewidth\": 0, \"ticks\": \"\"}, \"type\": \"choropleth\"}], \"contour\": [{\"colorbar\": {\"outlinewidth\": 0, \"ticks\": \"\"}, \"colorscale\": [[0.0, \"#0d0887\"], [0.1111111111111111, \"#46039f\"], [0.2222222222222222, \"#7201a8\"], [0.3333333333333333, \"#9c179e\"], [0.4444444444444444, \"#bd3786\"], [0.5555555555555556, \"#d8576b\"], [0.6666666666666666, \"#ed7953\"], [0.7777777777777778, \"#fb9f3a\"], [0.8888888888888888, \"#fdca26\"], [1.0, \"#f0f921\"]], \"type\": \"contour\"}], \"contourcarpet\": [{\"colorbar\": {\"outlinewidth\": 0, \"ticks\": \"\"}, \"type\": \"contourcarpet\"}], \"heatmap\": [{\"colorbar\": {\"outlinewidth\": 0, \"ticks\": \"\"}, \"colorscale\": [[0.0, \"#0d0887\"], [0.1111111111111111, \"#46039f\"], [0.2222222222222222, \"#7201a8\"], [0.3333333333333333, \"#9c179e\"], [0.4444444444444444, \"#bd3786\"], [0.5555555555555556, \"#d8576b\"], [0.6666666666666666, \"#ed7953\"], [0.7777777777777778, \"#fb9f3a\"], [0.8888888888888888, \"#fdca26\"], [1.0, \"#f0f921\"]], \"type\": \"heatmap\"}], \"heatmapgl\": [{\"colorbar\": {\"outlinewidth\": 0, \"ticks\": \"\"}, \"colorscale\": [[0.0, \"#0d0887\"], [0.1111111111111111, \"#46039f\"], [0.2222222222222222, \"#7201a8\"], [0.3333333333333333, \"#9c179e\"], [0.4444444444444444, \"#bd3786\"], [0.5555555555555556, \"#d8576b\"], [0.6666666666666666, \"#ed7953\"], [0.7777777777777778, \"#fb9f3a\"], [0.8888888888888888, \"#fdca26\"], [1.0, \"#f0f921\"]], \"type\": \"heatmapgl\"}], \"histogram\": [{\"marker\": {\"colorbar\": {\"outlinewidth\": 0, \"ticks\": \"\"}}, \"type\": \"histogram\"}], \"histogram2d\": [{\"colorbar\": {\"outlinewidth\": 0, \"ticks\": \"\"}, \"colorscale\": [[0.0, \"#0d0887\"], [0.1111111111111111, \"#46039f\"], [0.2222222222222222, \"#7201a8\"], [0.3333333333333333, \"#9c179e\"], [0.4444444444444444, \"#bd3786\"], [0.5555555555555556, \"#d8576b\"], [0.6666666666666666, \"#ed7953\"], [0.7777777777777778, \"#fb9f3a\"], [0.8888888888888888, \"#fdca26\"], [1.0, \"#f0f921\"]], \"type\": \"histogram2d\"}], \"histogram2dcontour\": [{\"colorbar\": {\"outlinewidth\": 0, \"ticks\": \"\"}, \"colorscale\": [[0.0, \"#0d0887\"], [0.1111111111111111, \"#46039f\"], [0.2222222222222222, \"#7201a8\"], [0.3333333333333333, \"#9c179e\"], [0.4444444444444444, \"#bd3786\"], [0.5555555555555556, \"#d8576b\"], [0.6666666666666666, \"#ed7953\"], [0.7777777777777778, \"#fb9f3a\"], [0.8888888888888888, \"#fdca26\"], [1.0, \"#f0f921\"]], \"type\": \"histogram2dcontour\"}], \"mesh3d\": [{\"colorbar\": {\"outlinewidth\": 0, \"ticks\": \"\"}, \"type\": \"mesh3d\"}], \"parcoords\": [{\"line\": {\"colorbar\": {\"outlinewidth\": 0, \"ticks\": \"\"}}, \"type\": \"parcoords\"}], \"pie\": [{\"automargin\": true, \"type\": \"pie\"}], \"scatter\": [{\"marker\": {\"colorbar\": {\"outlinewidth\": 0, \"ticks\": \"\"}}, \"type\": \"scatter\"}], \"scatter3d\": [{\"line\": {\"colorbar\": {\"outlinewidth\": 0, \"ticks\": \"\"}}, \"marker\": {\"colorbar\": {\"outlinewidth\": 0, \"ticks\": \"\"}}, \"type\": \"scatter3d\"}], \"scattercarpet\": [{\"marker\": {\"colorbar\": {\"outlinewidth\": 0, \"ticks\": \"\"}}, \"type\": \"scattercarpet\"}], \"scattergeo\": [{\"marker\": {\"colorbar\": {\"outlinewidth\": 0, \"ticks\": \"\"}}, \"type\": \"scattergeo\"}], \"scattergl\": [{\"marker\": {\"colorbar\": {\"outlinewidth\": 0, \"ticks\": \"\"}}, \"type\": \"scattergl\"}], \"scattermapbox\": [{\"marker\": {\"colorbar\": {\"outlinewidth\": 0, \"ticks\": \"\"}}, \"type\": \"scattermapbox\"}], \"scatterpolar\": [{\"marker\": {\"colorbar\": {\"outlinewidth\": 0, \"ticks\": \"\"}}, \"type\": \"scatterpolar\"}], \"scatterpolargl\": [{\"marker\": {\"colorbar\": {\"outlinewidth\": 0, \"ticks\": \"\"}}, \"type\": \"scatterpolargl\"}], \"scatterternary\": [{\"marker\": {\"colorbar\": {\"outlinewidth\": 0, \"ticks\": \"\"}}, \"type\": \"scatterternary\"}], \"surface\": [{\"colorbar\": {\"outlinewidth\": 0, \"ticks\": \"\"}, \"colorscale\": [[0.0, \"#0d0887\"], [0.1111111111111111, \"#46039f\"], [0.2222222222222222, \"#7201a8\"], [0.3333333333333333, \"#9c179e\"], [0.4444444444444444, \"#bd3786\"], [0.5555555555555556, \"#d8576b\"], [0.6666666666666666, \"#ed7953\"], [0.7777777777777778, \"#fb9f3a\"], [0.8888888888888888, \"#fdca26\"], [1.0, \"#f0f921\"]], \"type\": \"surface\"}], \"table\": [{\"cells\": {\"fill\": {\"color\": \"#EBF0F8\"}, \"line\": {\"color\": \"white\"}}, \"header\": {\"fill\": {\"color\": \"#C8D4E3\"}, \"line\": {\"color\": \"white\"}}, \"type\": \"table\"}]}, \"layout\": {\"annotationdefaults\": {\"arrowcolor\": \"#2a3f5f\", \"arrowhead\": 0, \"arrowwidth\": 1}, \"coloraxis\": {\"colorbar\": {\"outlinewidth\": 0, \"ticks\": \"\"}}, \"colorscale\": {\"diverging\": [[0, \"#8e0152\"], [0.1, \"#c51b7d\"], [0.2, \"#de77ae\"], [0.3, \"#f1b6da\"], [0.4, \"#fde0ef\"], [0.5, \"#f7f7f7\"], [0.6, \"#e6f5d0\"], [0.7, \"#b8e186\"], [0.8, \"#7fbc41\"], [0.9, \"#4d9221\"], [1, \"#276419\"]], \"sequential\": [[0.0, \"#0d0887\"], [0.1111111111111111, \"#46039f\"], [0.2222222222222222, \"#7201a8\"], [0.3333333333333333, \"#9c179e\"], [0.4444444444444444, \"#bd3786\"], [0.5555555555555556, \"#d8576b\"], [0.6666666666666666, \"#ed7953\"], [0.7777777777777778, \"#fb9f3a\"], [0.8888888888888888, \"#fdca26\"], [1.0, \"#f0f921\"]], \"sequentialminus\": [[0.0, \"#0d0887\"], [0.1111111111111111, \"#46039f\"], [0.2222222222222222, \"#7201a8\"], [0.3333333333333333, \"#9c179e\"], [0.4444444444444444, \"#bd3786\"], [0.5555555555555556, \"#d8576b\"], [0.6666666666666666, \"#ed7953\"], [0.7777777777777778, \"#fb9f3a\"], [0.8888888888888888, \"#fdca26\"], [1.0, \"#f0f921\"]]}, \"colorway\": [\"#636efa\", \"#EF553B\", \"#00cc96\", \"#ab63fa\", \"#FFA15A\", \"#19d3f3\", \"#FF6692\", \"#B6E880\", \"#FF97FF\", \"#FECB52\"], \"font\": {\"color\": \"#2a3f5f\"}, \"geo\": {\"bgcolor\": \"white\", \"lakecolor\": \"white\", \"landcolor\": \"#E5ECF6\", \"showlakes\": true, \"showland\": true, \"subunitcolor\": \"white\"}, \"hoverlabel\": {\"align\": \"left\"}, \"hovermode\": \"closest\", \"mapbox\": {\"style\": \"light\"}, \"paper_bgcolor\": \"white\", \"plot_bgcolor\": \"#E5ECF6\", \"polar\": {\"angularaxis\": {\"gridcolor\": \"white\", \"linecolor\": \"white\", \"ticks\": \"\"}, \"bgcolor\": \"#E5ECF6\", \"radialaxis\": {\"gridcolor\": \"white\", \"linecolor\": \"white\", \"ticks\": \"\"}}, \"scene\": {\"xaxis\": {\"backgroundcolor\": \"#E5ECF6\", \"gridcolor\": \"white\", \"gridwidth\": 2, \"linecolor\": \"white\", \"showbackground\": true, \"ticks\": \"\", \"zerolinecolor\": \"white\"}, \"yaxis\": {\"backgroundcolor\": \"#E5ECF6\", \"gridcolor\": \"white\", \"gridwidth\": 2, \"linecolor\": \"white\", \"showbackground\": true, \"ticks\": \"\", \"zerolinecolor\": \"white\"}, \"zaxis\": {\"backgroundcolor\": \"#E5ECF6\", \"gridcolor\": \"white\", \"gridwidth\": 2, \"linecolor\": \"white\", \"showbackground\": true, \"ticks\": \"\", \"zerolinecolor\": \"white\"}}, \"shapedefaults\": {\"line\": {\"color\": \"#2a3f5f\"}}, \"ternary\": {\"aaxis\": {\"gridcolor\": \"white\", \"linecolor\": \"white\", \"ticks\": \"\"}, \"baxis\": {\"gridcolor\": \"white\", \"linecolor\": \"white\", \"ticks\": \"\"}, \"bgcolor\": \"#E5ECF6\", \"caxis\": {\"gridcolor\": \"white\", \"linecolor\": \"white\", \"ticks\": \"\"}}, \"title\": {\"x\": 0.05}, \"xaxis\": {\"automargin\": true, \"gridcolor\": \"white\", \"linecolor\": \"white\", \"ticks\": \"\", \"title\": {\"standoff\": 15}, \"zerolinecolor\": \"white\", \"zerolinewidth\": 2}, \"yaxis\": {\"automargin\": true, \"gridcolor\": \"white\", \"linecolor\": \"white\", \"ticks\": \"\", \"title\": {\"standoff\": 15}, \"zerolinecolor\": \"white\", \"zerolinewidth\": 2}}}, \"title\": {\"text\": \"first two PC scores of tfidf matrix\"}, \"xaxis\": {\"anchor\": \"y\", \"domain\": [0.0, 1.0], \"title\": {\"text\": \"pc_0\"}}, \"yaxis\": {\"anchor\": \"x\", \"domain\": [0.0, 1.0], \"title\": {\"text\": \"pc_1\"}}},\n",
              "                        {\"responsive\": true}\n",
              "                    ).then(function(){\n",
              "                            \n",
              "var gd = document.getElementById('bb73bf02-ea4e-48fe-9d72-5f2e10f92564');\n",
              "var x = new MutationObserver(function (mutations, observer) {{\n",
              "        var display = window.getComputedStyle(gd).display;\n",
              "        if (!display || display === 'none') {{\n",
              "            console.log([gd, 'removed!']);\n",
              "            Plotly.purge(gd);\n",
              "            observer.disconnect();\n",
              "        }}\n",
              "}});\n",
              "\n",
              "// Listen for the removal of the full notebook cells\n",
              "var notebookContainer = gd.closest('#notebook-container');\n",
              "if (notebookContainer) {{\n",
              "    x.observe(notebookContainer, {childList: true});\n",
              "}}\n",
              "\n",
              "// Listen for the clearing of the current output cell\n",
              "var outputEl = gd.closest('.output');\n",
              "if (outputEl) {{\n",
              "    x.observe(outputEl, {childList: true});\n",
              "}}\n",
              "\n",
              "                        })\n",
              "                };\n",
              "                \n",
              "            </script>\n",
              "        </div>\n",
              "</body>\n",
              "</html>"
            ]
          },
          "metadata": {
            "tags": []
          }
        }
      ]
    },
    {
      "cell_type": "markdown",
      "metadata": {
        "id": "YjcQXbcsVGD1",
        "colab_type": "text"
      },
      "source": [
        "Remarkably, the three different job titles are almost perfectly separated into three clusters of data points in this two dimensional representation. This is significant because the PCA algorithm has no idea that our dataset contains three distinct classes, but by simply projecting the data onto the coordinate axes retaining the most variance the algorithm has managed to almost perfectly separate them. We can go one step further and demonstrate that the three classes are well-separated by applying k-means clustering to the principle component scores. The result is the following."
      ]
    },
    {
      "cell_type": "code",
      "metadata": {
        "colab_type": "code",
        "id": "PvCUZoJsBRaF",
        "colab": {}
      },
      "source": [
        "from sklearn.cluster import KMeans\n",
        "kmeans = KMeans(n_clusters=3)\n",
        "kmeans.fit(X)\n",
        "y_kmeans = kmeans.predict(X)\n",
        "centers = kmeans.cluster_centers_"
      ],
      "execution_count": 34,
      "outputs": []
    },
    {
      "cell_type": "code",
      "metadata": {
        "colab_type": "code",
        "id": "KK4QBlnWBRaP",
        "colab": {
          "base_uri": "https://localhost:8080/",
          "height": 817
        },
        "outputId": "2c174dd0-76a8-48b9-8ec4-5e7e89d9f8bf"
      },
      "source": [
        "# hide_input\n",
        "fig = make_subplots(rows=2, cols=1, shared_xaxes=False, vertical_spacing=0.15,\n",
        "                   subplot_titles=(\"actual job titles\",\"k means clustered job titles\"))\n",
        "\n",
        "fig1 = px.scatter(X_df, x=\"pc_0\", y=\"pc_1\", color=\"job\", hover_data=[\"pc_0\", \"pc_1\", X_df.index])\n",
        "trace1, trace2, trace3 = fig1['data'][0], fig1['data'][1], fig1['data'][2]\n",
        "trace1['name'] = 'data analyst'\n",
        "trace2['name'] = 'data engineer'\n",
        "trace3['name'] = 'data scientist'\n",
        "\n",
        "plotly_colours = px.colors.qualitative.Plotly\n",
        "c = [plotly_colours[x] for x in y_kmeans]\n",
        "\n",
        "fig2 = px.scatter(X_df, x='pc_0', y='pc_1', color=c, hover_data=['job', 'pc_0', 'pc_1', X_df.index])\n",
        "trace4, trace5, trace6 = fig2['data'][0], fig2['data'][1], fig2['data'][2]\n",
        "trace4['name'] = 'data analyst'\n",
        "trace5['name'] = 'data engineer'\n",
        "trace6['name'] = 'data scientist'\n",
        "\n",
        "temp_str = '<br>job=%{customdata[0]}' + \\\n",
        "            '<br>pc_0=%{customdata[1]}' + \\\n",
        "            '<br>pc_1=%{customdata[2]}' + \\\n",
        "            '<br>index=%{customdata[3]}' + \\\n",
        "            '<extra></extra>'\n",
        "\n",
        "trace4['hovertemplate'] = temp_str\n",
        "trace5['hovertemplate'] = temp_str\n",
        "trace6['hovertemplate'] = temp_str\n",
        "\n",
        "trace4['legendgroup'] = 'job=data analyst'\n",
        "trace4['showlegend'] = False\n",
        "trace5['legendgroup'] = 'job=data engineer'\n",
        "trace5['showlegend'] = False\n",
        "trace6['legendgroup'] = 'job=data scientist'\n",
        "trace6['showlegend'] = False\n",
        "\n",
        "fig.add_trace(trace1, row=1, col=1)\n",
        "fig.add_trace(trace2, row=1, col=1)\n",
        "fig.add_trace(trace3, row=1, col=1)\n",
        "fig.add_trace(trace4, row=2, col=1)\n",
        "fig.add_trace(trace5, row=2, col=1)\n",
        "fig.add_trace(trace6, row=2, col=1)\n",
        "\n",
        "fig.add_trace(go.Scatter(\n",
        "    x=centers[:, 0],\n",
        "    y=centers[:, 1],\n",
        "    name='cluster centers',\n",
        "    mode='markers',\n",
        "    marker=dict(size=[15, 15, 15],\n",
        "                color=[2, 2, 2],\n",
        "                opacity=0.7)),\n",
        "    row=2, col=1\n",
        ")\n",
        "\n",
        "# fig['data'][6]['showlegend'] = False\n",
        "\n",
        "fig.update_layout(height=800, legend=dict(x=1, y=0.5))\n",
        "fig.layout['xaxis']['title'] = 'pc_0'\n",
        "fig.layout['xaxis2']['title'] = 'pc_0'\n",
        "fig.layout['yaxis']['title'] = 'pc_1'\n",
        "fig.layout['yaxis2']['title'] = 'pc_1'\n",
        "fig.show()"
      ],
      "execution_count": 36,
      "outputs": [
        {
          "output_type": "display_data",
          "data": {
            "text/html": [
              "<html>\n",
              "<head><meta charset=\"utf-8\" /></head>\n",
              "<body>\n",
              "    <div>\n",
              "            <script src=\"https://cdnjs.cloudflare.com/ajax/libs/mathjax/2.7.5/MathJax.js?config=TeX-AMS-MML_SVG\"></script><script type=\"text/javascript\">if (window.MathJax) {MathJax.Hub.Config({SVG: {font: \"STIX-Web\"}});}</script>\n",
              "                <script type=\"text/javascript\">window.PlotlyConfig = {MathJaxConfig: 'local'};</script>\n",
              "        <script src=\"https://cdn.plot.ly/plotly-latest.min.js\"></script>    \n",
              "            <div id=\"25781139-d5a9-4ec3-85b9-be2353766944\" class=\"plotly-graph-div\" style=\"height:800px; width:100%;\"></div>\n",
              "            <script type=\"text/javascript\">\n",
              "                \n",
              "                    window.PLOTLYENV=window.PLOTLYENV || {};\n",
              "                    \n",
              "                if (document.getElementById(\"25781139-d5a9-4ec3-85b9-be2353766944\")) {\n",
              "                    Plotly.newPlot(\n",
              "                        '25781139-d5a9-4ec3-85b9-be2353766944',\n",
              "                        [{\"customdata\": [[-0.21145006792900659, -0.12185318730493351, 0.0], [-0.16683967091779014, -0.11156920543272936, 1.0], [-0.27862542143459845, -0.09006865847497555, 2.0], [-0.14193491876739628, -0.07055645266444673, 3.0], [-0.030608629854475634, -0.06385998239179516, 4.0], [-0.14354537063144304, -0.012005446875974874, 5.0], [-0.13606321589938877, -0.11006448975029054, 6.0], [-0.140398621985618, -0.030697109224993774, 7.0], [-0.044124619866954484, 0.025278167869896513, 8.0], [-0.2044358842814101, -0.11754935180854156, 9.0], [-0.3938631265591104, -0.20699161439854505, 10.0], [-0.12001820607025773, -0.08725521217130536, 11.0], [-0.09246182595281896, -0.12983625271981145, 12.0], [-0.054240028545727986, 0.009132534863721353, 13.0], [-0.18327150903690456, -0.025502744605529877, 14.0], [-0.08679415556875554, -0.061840648528420625, 15.0], [-0.2490622931624723, -0.08594236046621628, 16.0], [-0.09566285441452747, -0.07525735183232847, 17.0], [-0.29881510225158725, -0.16730074210752385, 18.0], [-0.08252856753517292, -0.038758707531347955, 19.0], [-0.08868007763156675, -0.06814273714242429, 20.0], [-0.22157051898502064, -0.08561630466048967, 21.0], [-0.185385686538055, -0.10528843695128079, 22.0], [-0.3668915454345716, -0.11723679594585569, 23.0], [-0.12800305362512662, -0.07353027868154034, 24.0], [-0.40204870920923697, -0.2212126305694982, 25.0], [-0.015566977582156964, -0.22480912077832216, 26.0], [-0.18452610997194852, -0.06146055650332919, 27.0], [-0.2739352673311426, -0.09288566062211562, 28.0], [-0.10047995248991196, -0.027591760041876818, 29.0], [-0.16204125751096593, -0.0928696064831018, 30.0], [-0.2055520950540939, -0.05440142661190133, 31.0], [-0.17900342809712927, -0.08207320228465854, 32.0], [-0.03807336061515037, 0.013721812014166454, 33.0], [-0.11615602308399207, -0.0631285546605246, 34.0], [-0.003124759971802385, -0.005565077702717927, 35.0], [-0.2227640755212095, -0.05889046586186163, 36.0], [-0.15498162722844327, -0.03310809295576241, 37.0], [-0.16153982236494083, -0.09298826751814758, 38.0], [-0.1525498887483699, -0.09574547287217075, 39.0], [-0.2997558284913412, -0.14935827741941002, 40.0], [-0.12623637036854773, -0.05867413451273885, 41.0], [-0.14950598201904508, -0.03938921341150731, 42.0], [-0.19076659478402216, -0.03837340448029389, 43.0], [-0.18122190986605302, -0.03846545208989504, 44.0], [-0.30953062950965954, -0.15254364131306328, 45.0], [-0.09531091221910017, -0.09612514747660714, 46.0], [-0.13506441719328768, -0.0672869845644291, 47.0], [-0.14798186195398305, 0.011862205595367386, 48.0], [-0.014667052279200262, -0.044175650883901026, 49.0], [-0.1430770204479104, -0.014754629276948417, 50.0]], \"hoverlabel\": {\"namelength\": 0}, \"hovertemplate\": \"job=data analyst<br>pc_0=%{customdata[0]}<br>pc_1=%{customdata[1]}<br>index=%{customdata[2]}\", \"legendgroup\": \"job=data analyst\", \"marker\": {\"color\": \"#636efa\", \"symbol\": \"circle\"}, \"mode\": \"markers\", \"name\": \"data analyst\", \"showlegend\": true, \"type\": \"scatter\", \"x\": [-0.21145006792900659, -0.16683967091779014, -0.27862542143459845, -0.14193491876739628, -0.030608629854475634, -0.14354537063144304, -0.13606321589938877, -0.140398621985618, -0.044124619866954484, -0.2044358842814101, -0.3938631265591104, -0.12001820607025773, -0.09246182595281896, -0.054240028545727986, -0.18327150903690456, -0.08679415556875554, -0.2490622931624723, -0.09566285441452747, -0.29881510225158725, -0.08252856753517292, -0.08868007763156675, -0.22157051898502064, -0.185385686538055, -0.3668915454345716, -0.12800305362512662, -0.40204870920923697, -0.015566977582156964, -0.18452610997194852, -0.2739352673311426, -0.10047995248991196, -0.16204125751096593, -0.2055520950540939, -0.17900342809712927, -0.03807336061515037, -0.11615602308399207, -0.003124759971802385, -0.2227640755212095, -0.15498162722844327, -0.16153982236494083, -0.1525498887483699, -0.2997558284913412, -0.12623637036854773, -0.14950598201904508, -0.19076659478402216, -0.18122190986605302, -0.30953062950965954, -0.09531091221910017, -0.13506441719328768, -0.14798186195398305, -0.014667052279200262, -0.1430770204479104], \"xaxis\": \"x\", \"y\": [-0.12185318730493351, -0.11156920543272936, -0.09006865847497555, -0.07055645266444673, -0.06385998239179516, -0.012005446875974874, -0.11006448975029054, -0.030697109224993774, 0.025278167869896513, -0.11754935180854156, -0.20699161439854505, -0.08725521217130536, -0.12983625271981145, 0.009132534863721353, -0.025502744605529877, -0.061840648528420625, -0.08594236046621628, -0.07525735183232847, -0.16730074210752385, -0.038758707531347955, -0.06814273714242429, -0.08561630466048967, -0.10528843695128079, -0.11723679594585569, -0.07353027868154034, -0.2212126305694982, -0.22480912077832216, -0.06146055650332919, -0.09288566062211562, -0.027591760041876818, -0.0928696064831018, -0.05440142661190133, -0.08207320228465854, 0.013721812014166454, -0.0631285546605246, -0.005565077702717927, -0.05889046586186163, -0.03310809295576241, -0.09298826751814758, -0.09574547287217075, -0.14935827741941002, -0.05867413451273885, -0.03938921341150731, -0.03837340448029389, -0.03846545208989504, -0.15254364131306328, -0.09612514747660714, -0.0672869845644291, 0.011862205595367386, -0.044175650883901026, -0.014754629276948417], \"yaxis\": \"y\"}, {\"customdata\": [[-0.02872719318607715, 0.271618744454219, 51.0], [0.15167433023494964, 0.12314691398232976, 52.0], [0.11180641703067865, 0.21346024546879735, 53.0], [0.10240313046225258, 0.13737441429907293, 54.0], [0.11191619815240485, 0.3284911500964287, 55.0], [0.13700426752280642, 0.16839486384961955, 56.0], [0.09687494741949679, 0.28361006967674335, 57.0], [-0.016222862812269513, 0.1412149773569029, 58.0], [0.20175766800021355, 0.17858180984257305, 59.0], [0.16994785301320478, 0.1820513989546444, 60.0], [0.15932985552361517, 0.14498064916078734, 61.0], [0.07695058848831504, 0.232065847844593, 62.0], [0.0009201042212791081, 0.2814111677038297, 63.0], [0.05439282021636251, 0.2877485161663901, 64.0], [-0.0062890595094298755, 0.10373959153567855, 65.0], [0.05063205990124849, 0.07683533982350309, 66.0], [0.0027283646382662186, 0.1787839074704619, 67.0], [0.1326744279795696, 0.30776338301698886, 68.0], [-0.0387091460275404, 0.13061668680669272, 69.0], [-0.08874365153157744, 0.06047178936787984, 70.0], [-0.06528084092978487, 0.22128245418901105, 71.0], [-0.08697718271905974, 0.12914856283016915, 72.0], [0.057606572629207396, 0.17878419885963123, 73.0], [0.05096119250184844, 0.2955894543858217, 74.0], [0.06969529052128698, 0.29746361495917, 75.0], [-0.021396113338027063, 0.27038391031124714, 76.0], [0.04975430326692329, 0.3952609651355296, 77.0], [0.008720553229954634, 0.28675890809623417, 78.0], [0.039554191520020765, 0.17726006283059198, 79.0], [-0.03896049154770973, 0.2843145437939577, 80.0], [-0.06873043765021734, 0.12764923830757385, 81.0], [0.057006373802390695, 0.21287247899522224, 82.0], [-0.02476542043275626, 0.22898474720681072, 83.0], [0.10666212047844294, 0.1854587676084772, 84.0], [0.04164457369964903, 0.28991898671390587, 85.0], [-0.021738263171589854, 0.11721110856266098, 86.0], [0.009816761941835029, 0.11841261380050688, 87.0], [-0.0034036771009467648, 0.16787062337524455, 88.0], [0.07581200840725448, 0.10268504454286695, 89.0], [-0.015173425842192017, 0.01448760355328889, 90.0], [0.034543473163777746, 0.1270338397982473, 91.0], [-0.024925916774221332, 0.14713174165006226, 92.0], [-0.014666307427553992, 0.08421932521066526, 93.0]], \"hoverlabel\": {\"namelength\": 0}, \"hovertemplate\": \"job=data engineer<br>pc_0=%{customdata[0]}<br>pc_1=%{customdata[1]}<br>index=%{customdata[2]}\", \"legendgroup\": \"job=data engineer\", \"marker\": {\"color\": \"#EF553B\", \"symbol\": \"circle\"}, \"mode\": \"markers\", \"name\": \"data engineer\", \"showlegend\": true, \"type\": \"scatter\", \"x\": [-0.02872719318607715, 0.15167433023494964, 0.11180641703067865, 0.10240313046225258, 0.11191619815240485, 0.13700426752280642, 0.09687494741949679, -0.016222862812269513, 0.20175766800021355, 0.16994785301320478, 0.15932985552361517, 0.07695058848831504, 0.0009201042212791081, 0.05439282021636251, -0.0062890595094298755, 0.05063205990124849, 0.0027283646382662186, 0.1326744279795696, -0.0387091460275404, -0.08874365153157744, -0.06528084092978487, -0.08697718271905974, 0.057606572629207396, 0.05096119250184844, 0.06969529052128698, -0.021396113338027063, 0.04975430326692329, 0.008720553229954634, 0.039554191520020765, -0.03896049154770973, -0.06873043765021734, 0.057006373802390695, -0.02476542043275626, 0.10666212047844294, 0.04164457369964903, -0.021738263171589854, 0.009816761941835029, -0.0034036771009467648, 0.07581200840725448, -0.015173425842192017, 0.034543473163777746, -0.024925916774221332, -0.014666307427553992], \"xaxis\": \"x\", \"y\": [0.271618744454219, 0.12314691398232976, 0.21346024546879735, 0.13737441429907293, 0.3284911500964287, 0.16839486384961955, 0.28361006967674335, 0.1412149773569029, 0.17858180984257305, 0.1820513989546444, 0.14498064916078734, 0.232065847844593, 0.2814111677038297, 0.2877485161663901, 0.10373959153567855, 0.07683533982350309, 0.1787839074704619, 0.30776338301698886, 0.13061668680669272, 0.06047178936787984, 0.22128245418901105, 0.12914856283016915, 0.17878419885963123, 0.2955894543858217, 0.29746361495917, 0.27038391031124714, 0.3952609651355296, 0.28675890809623417, 0.17726006283059198, 0.2843145437939577, 0.12764923830757385, 0.21287247899522224, 0.22898474720681072, 0.1854587676084772, 0.28991898671390587, 0.11721110856266098, 0.11841261380050688, 0.16787062337524455, 0.10268504454286695, 0.01448760355328889, 0.1270338397982473, 0.14713174165006226, 0.08421932521066526], \"yaxis\": \"y\"}, {\"customdata\": [[0.19692554793962166, -0.15901277312142936, 94.0], [0.20153026724034817, -0.10408451654295289, 95.0], [0.14137821959579328, -0.09962100828472131, 96.0], [0.28369749363968094, -0.0030108401375814327, 97.0], [0.054335871720101764, -0.09419370017487987, 98.0], [0.09031051222905404, -0.06650477175152614, 99.0], [0.19068129116176546, -0.1891637557078407, 100.0], [0.10941042656003605, -0.15491135606345072, 101.0], [0.2106576732310613, -0.11913003099877621, 102.0], [0.23444343277641225, -0.19035050582255042, 103.0], [0.08965895799582231, 0.07237417049803174, 104.0], [0.013161097667034678, 0.0024553247504132503, 105.0], [0.044912702495107544, -0.13171243455702844, 106.0], [0.04465906853779544, -0.13193199226700117, 107.0], [0.1861865855734932, -0.06348603196158983, 108.0], [0.016978178959455793, -0.0654774826269693, 109.0], [0.11160796318060057, 0.036717358175275265, 110.0], [0.09743283519343453, -0.0937806688625737, 111.0], [0.10455417202000318, -0.08816894772259445, 112.0], [0.46378334020875833, -0.357220168684523, 113.0], [0.5172868798664226, -0.38803928246681274, 114.0], [0.49269836723439875, -0.362692085497734, 115.0], [-0.023957957145676435, -0.12320576366937981, 116.0], [0.22254799460212452, -0.08249872231439102, 117.0], [0.1414994495813728, -0.07487819582757499, 118.0], [0.0799497330569359, -0.07703352294476694, 119.0], [0.3840559317537946, -0.21880728408668776, 120.0], [0.024476046265303256, 0.025617673446202246, 121.0], [0.10002878154929778, -0.10547403512398457, 122.0], [0.1419576420493976, -0.11046069790231455, 123.0], [0.14092907925824263, -0.031090121099980748, 124.0], [0.4196190814410513, -0.1747932541701634, 125.0], [0.25867044955103224, -0.06420643558933713, 126.0], [0.35407641382804605, -0.20692576506552518, 127.0], [0.11725851779514203, -0.05634471208030039, 128.0], [0.18429859396096268, -0.07534249611493252, 129.0], [0.1728077758519859, -0.08682813633159078, 130.0], [-0.059448560784721965, -0.03743922749465833, 131.0], [0.15759659118560537, -0.13928228317390168, 132.0]], \"hoverlabel\": {\"namelength\": 0}, \"hovertemplate\": \"job=data scientist<br>pc_0=%{customdata[0]}<br>pc_1=%{customdata[1]}<br>index=%{customdata[2]}\", \"legendgroup\": \"job=data scientist\", \"marker\": {\"color\": \"#00cc96\", \"symbol\": \"circle\"}, \"mode\": \"markers\", \"name\": \"data scientist\", \"showlegend\": true, \"type\": \"scatter\", \"x\": [0.19692554793962166, 0.20153026724034817, 0.14137821959579328, 0.28369749363968094, 0.054335871720101764, 0.09031051222905404, 0.19068129116176546, 0.10941042656003605, 0.2106576732310613, 0.23444343277641225, 0.08965895799582231, 0.013161097667034678, 0.044912702495107544, 0.04465906853779544, 0.1861865855734932, 0.016978178959455793, 0.11160796318060057, 0.09743283519343453, 0.10455417202000318, 0.46378334020875833, 0.5172868798664226, 0.49269836723439875, -0.023957957145676435, 0.22254799460212452, 0.1414994495813728, 0.0799497330569359, 0.3840559317537946, 0.024476046265303256, 0.10002878154929778, 0.1419576420493976, 0.14092907925824263, 0.4196190814410513, 0.25867044955103224, 0.35407641382804605, 0.11725851779514203, 0.18429859396096268, 0.1728077758519859, -0.059448560784721965, 0.15759659118560537], \"xaxis\": \"x\", \"y\": [-0.15901277312142936, -0.10408451654295289, -0.09962100828472131, -0.0030108401375814327, -0.09419370017487987, -0.06650477175152614, -0.1891637557078407, -0.15491135606345072, -0.11913003099877621, -0.19035050582255042, 0.07237417049803174, 0.0024553247504132503, -0.13171243455702844, -0.13193199226700117, -0.06348603196158983, -0.0654774826269693, 0.036717358175275265, -0.0937806688625737, -0.08816894772259445, -0.357220168684523, -0.38803928246681274, -0.362692085497734, -0.12320576366937981, -0.08249872231439102, -0.07487819582757499, -0.07703352294476694, -0.21880728408668776, 0.025617673446202246, -0.10547403512398457, -0.11046069790231455, -0.031090121099980748, -0.1747932541701634, -0.06420643558933713, -0.20692576506552518, -0.05634471208030039, -0.07534249611493252, -0.08682813633159078, -0.03743922749465833, -0.13928228317390168], \"yaxis\": \"y\"}, {\"customdata\": [[\"data analyst\", -0.21145006792900659, -0.12185318730493351, 0], [\"data analyst\", -0.16683967091779014, -0.11156920543272936, 1], [\"data analyst\", -0.27862542143459845, -0.09006865847497555, 2], [\"data analyst\", -0.14193491876739628, -0.07055645266444673, 3], [\"data analyst\", -0.030608629854475634, -0.06385998239179516, 4], [\"data analyst\", -0.14354537063144304, -0.012005446875974874, 5], [\"data analyst\", -0.13606321589938877, -0.11006448975029054, 6], [\"data analyst\", -0.140398621985618, -0.030697109224993774, 7], [\"data analyst\", -0.044124619866954484, 0.025278167869896513, 8], [\"data analyst\", -0.2044358842814101, -0.11754935180854156, 9], [\"data analyst\", -0.3938631265591104, -0.20699161439854505, 10], [\"data analyst\", -0.12001820607025773, -0.08725521217130536, 11], [\"data analyst\", -0.09246182595281896, -0.12983625271981145, 12], [\"data analyst\", -0.054240028545727986, 0.009132534863721353, 13], [\"data analyst\", -0.18327150903690456, -0.025502744605529877, 14], [\"data analyst\", -0.08679415556875554, -0.061840648528420625, 15], [\"data analyst\", -0.2490622931624723, -0.08594236046621628, 16], [\"data analyst\", -0.09566285441452747, -0.07525735183232847, 17], [\"data analyst\", -0.29881510225158725, -0.16730074210752385, 18], [\"data analyst\", -0.08252856753517292, -0.038758707531347955, 19], [\"data analyst\", -0.08868007763156675, -0.06814273714242429, 20], [\"data analyst\", -0.22157051898502064, -0.08561630466048967, 21], [\"data analyst\", -0.185385686538055, -0.10528843695128079, 22], [\"data analyst\", -0.3668915454345716, -0.11723679594585569, 23], [\"data analyst\", -0.12800305362512662, -0.07353027868154034, 24], [\"data analyst\", -0.40204870920923697, -0.2212126305694982, 25], [\"data analyst\", -0.015566977582156964, -0.22480912077832216, 26], [\"data analyst\", -0.18452610997194852, -0.06146055650332919, 27], [\"data analyst\", -0.2739352673311426, -0.09288566062211562, 28], [\"data analyst\", -0.10047995248991196, -0.027591760041876818, 29], [\"data analyst\", -0.16204125751096593, -0.0928696064831018, 30], [\"data analyst\", -0.2055520950540939, -0.05440142661190133, 31], [\"data analyst\", -0.17900342809712927, -0.08207320228465854, 32], [\"data analyst\", -0.03807336061515037, 0.013721812014166454, 33], [\"data analyst\", -0.11615602308399207, -0.0631285546605246, 34], [\"data analyst\", -0.003124759971802385, -0.005565077702717927, 35], [\"data analyst\", -0.2227640755212095, -0.05889046586186163, 36], [\"data analyst\", -0.15498162722844327, -0.03310809295576241, 37], [\"data analyst\", -0.16153982236494083, -0.09298826751814758, 38], [\"data analyst\", -0.1525498887483699, -0.09574547287217075, 39], [\"data analyst\", -0.2997558284913412, -0.14935827741941002, 40], [\"data analyst\", -0.12623637036854773, -0.05867413451273885, 41], [\"data analyst\", -0.14950598201904508, -0.03938921341150731, 42], [\"data analyst\", -0.19076659478402216, -0.03837340448029389, 43], [\"data analyst\", -0.18122190986605302, -0.03846545208989504, 44], [\"data analyst\", -0.30953062950965954, -0.15254364131306328, 45], [\"data analyst\", -0.09531091221910017, -0.09612514747660714, 46], [\"data analyst\", -0.13506441719328768, -0.0672869845644291, 47], [\"data analyst\", -0.14798186195398305, 0.011862205595367386, 48], [\"data analyst\", -0.014667052279200262, -0.044175650883901026, 49], [\"data analyst\", -0.1430770204479104, -0.014754629276948417, 50], [\"data engineer\", -0.08874365153157744, 0.06047178936787984, 70], [\"data engineer\", -0.015173425842192017, 0.01448760355328889, 90], [\"data scientist\", 0.013161097667034678, 0.0024553247504132503, 105], [\"data scientist\", 0.016978178959455793, -0.0654774826269693, 109], [\"data scientist\", -0.023957957145676435, -0.12320576366937981, 116], [\"data scientist\", -0.059448560784721965, -0.03743922749465833, 131]], \"hoverlabel\": {\"namelength\": 0}, \"hovertemplate\": \"<br>job=%{customdata[0]}<br>pc_0=%{customdata[1]}<br>pc_1=%{customdata[2]}<br>index=%{customdata[3]}<extra></extra>\", \"legendgroup\": \"job=data analyst\", \"marker\": {\"color\": \"#636efa\", \"symbol\": \"circle\"}, \"mode\": \"markers\", \"name\": \"data analyst\", \"showlegend\": false, \"type\": \"scatter\", \"x\": [-0.21145006792900659, -0.16683967091779014, -0.27862542143459845, -0.14193491876739628, -0.030608629854475634, -0.14354537063144304, -0.13606321589938877, -0.140398621985618, -0.044124619866954484, -0.2044358842814101, -0.3938631265591104, -0.12001820607025773, -0.09246182595281896, -0.054240028545727986, -0.18327150903690456, -0.08679415556875554, -0.2490622931624723, -0.09566285441452747, -0.29881510225158725, -0.08252856753517292, -0.08868007763156675, -0.22157051898502064, -0.185385686538055, -0.3668915454345716, -0.12800305362512662, -0.40204870920923697, -0.015566977582156964, -0.18452610997194852, -0.2739352673311426, -0.10047995248991196, -0.16204125751096593, -0.2055520950540939, -0.17900342809712927, -0.03807336061515037, -0.11615602308399207, -0.003124759971802385, -0.2227640755212095, -0.15498162722844327, -0.16153982236494083, -0.1525498887483699, -0.2997558284913412, -0.12623637036854773, -0.14950598201904508, -0.19076659478402216, -0.18122190986605302, -0.30953062950965954, -0.09531091221910017, -0.13506441719328768, -0.14798186195398305, -0.014667052279200262, -0.1430770204479104, -0.08874365153157744, -0.015173425842192017, 0.013161097667034678, 0.016978178959455793, -0.023957957145676435, -0.059448560784721965], \"xaxis\": \"x2\", \"y\": [-0.12185318730493351, -0.11156920543272936, -0.09006865847497555, -0.07055645266444673, -0.06385998239179516, -0.012005446875974874, -0.11006448975029054, -0.030697109224993774, 0.025278167869896513, -0.11754935180854156, -0.20699161439854505, -0.08725521217130536, -0.12983625271981145, 0.009132534863721353, -0.025502744605529877, -0.061840648528420625, -0.08594236046621628, -0.07525735183232847, -0.16730074210752385, -0.038758707531347955, -0.06814273714242429, -0.08561630466048967, -0.10528843695128079, -0.11723679594585569, -0.07353027868154034, -0.2212126305694982, -0.22480912077832216, -0.06146055650332919, -0.09288566062211562, -0.027591760041876818, -0.0928696064831018, -0.05440142661190133, -0.08207320228465854, 0.013721812014166454, -0.0631285546605246, -0.005565077702717927, -0.05889046586186163, -0.03310809295576241, -0.09298826751814758, -0.09574547287217075, -0.14935827741941002, -0.05867413451273885, -0.03938921341150731, -0.03837340448029389, -0.03846545208989504, -0.15254364131306328, -0.09612514747660714, -0.0672869845644291, 0.011862205595367386, -0.044175650883901026, -0.014754629276948417, 0.06047178936787984, 0.01448760355328889, 0.0024553247504132503, -0.0654774826269693, -0.12320576366937981, -0.03743922749465833], \"yaxis\": \"y2\"}, {\"customdata\": [[\"data engineer\", -0.02872719318607715, 0.271618744454219, 51], [\"data engineer\", 0.15167433023494964, 0.12314691398232976, 52], [\"data engineer\", 0.11180641703067865, 0.21346024546879735, 53], [\"data engineer\", 0.10240313046225258, 0.13737441429907293, 54], [\"data engineer\", 0.11191619815240485, 0.3284911500964287, 55], [\"data engineer\", 0.13700426752280642, 0.16839486384961955, 56], [\"data engineer\", 0.09687494741949679, 0.28361006967674335, 57], [\"data engineer\", -0.016222862812269513, 0.1412149773569029, 58], [\"data engineer\", 0.20175766800021355, 0.17858180984257305, 59], [\"data engineer\", 0.16994785301320478, 0.1820513989546444, 60], [\"data engineer\", 0.15932985552361517, 0.14498064916078734, 61], [\"data engineer\", 0.07695058848831504, 0.232065847844593, 62], [\"data engineer\", 0.0009201042212791081, 0.2814111677038297, 63], [\"data engineer\", 0.05439282021636251, 0.2877485161663901, 64], [\"data engineer\", -0.0062890595094298755, 0.10373959153567855, 65], [\"data engineer\", 0.05063205990124849, 0.07683533982350309, 66], [\"data engineer\", 0.0027283646382662186, 0.1787839074704619, 67], [\"data engineer\", 0.1326744279795696, 0.30776338301698886, 68], [\"data engineer\", -0.0387091460275404, 0.13061668680669272, 69], [\"data engineer\", -0.06528084092978487, 0.22128245418901105, 71], [\"data engineer\", -0.08697718271905974, 0.12914856283016915, 72], [\"data engineer\", 0.057606572629207396, 0.17878419885963123, 73], [\"data engineer\", 0.05096119250184844, 0.2955894543858217, 74], [\"data engineer\", 0.06969529052128698, 0.29746361495917, 75], [\"data engineer\", -0.021396113338027063, 0.27038391031124714, 76], [\"data engineer\", 0.04975430326692329, 0.3952609651355296, 77], [\"data engineer\", 0.008720553229954634, 0.28675890809623417, 78], [\"data engineer\", 0.039554191520020765, 0.17726006283059198, 79], [\"data engineer\", -0.03896049154770973, 0.2843145437939577, 80], [\"data engineer\", -0.06873043765021734, 0.12764923830757385, 81], [\"data engineer\", 0.057006373802390695, 0.21287247899522224, 82], [\"data engineer\", -0.02476542043275626, 0.22898474720681072, 83], [\"data engineer\", 0.10666212047844294, 0.1854587676084772, 84], [\"data engineer\", 0.04164457369964903, 0.28991898671390587, 85], [\"data engineer\", -0.021738263171589854, 0.11721110856266098, 86], [\"data engineer\", 0.009816761941835029, 0.11841261380050688, 87], [\"data engineer\", -0.0034036771009467648, 0.16787062337524455, 88], [\"data engineer\", 0.07581200840725448, 0.10268504454286695, 89], [\"data engineer\", 0.034543473163777746, 0.1270338397982473, 91], [\"data engineer\", -0.024925916774221332, 0.14713174165006226, 92], [\"data engineer\", -0.014666307427553992, 0.08421932521066526, 93], [\"data scientist\", 0.08965895799582231, 0.07237417049803174, 104], [\"data scientist\", 0.11160796318060057, 0.036717358175275265, 110], [\"data scientist\", 0.024476046265303256, 0.025617673446202246, 121]], \"hoverlabel\": {\"namelength\": 0}, \"hovertemplate\": \"<br>job=%{customdata[0]}<br>pc_0=%{customdata[1]}<br>pc_1=%{customdata[2]}<br>index=%{customdata[3]}<extra></extra>\", \"legendgroup\": \"job=data engineer\", \"marker\": {\"color\": \"#EF553B\", \"symbol\": \"circle\"}, \"mode\": \"markers\", \"name\": \"data engineer\", \"showlegend\": false, \"type\": \"scatter\", \"x\": [-0.02872719318607715, 0.15167433023494964, 0.11180641703067865, 0.10240313046225258, 0.11191619815240485, 0.13700426752280642, 0.09687494741949679, -0.016222862812269513, 0.20175766800021355, 0.16994785301320478, 0.15932985552361517, 0.07695058848831504, 0.0009201042212791081, 0.05439282021636251, -0.0062890595094298755, 0.05063205990124849, 0.0027283646382662186, 0.1326744279795696, -0.0387091460275404, -0.06528084092978487, -0.08697718271905974, 0.057606572629207396, 0.05096119250184844, 0.06969529052128698, -0.021396113338027063, 0.04975430326692329, 0.008720553229954634, 0.039554191520020765, -0.03896049154770973, -0.06873043765021734, 0.057006373802390695, -0.02476542043275626, 0.10666212047844294, 0.04164457369964903, -0.021738263171589854, 0.009816761941835029, -0.0034036771009467648, 0.07581200840725448, 0.034543473163777746, -0.024925916774221332, -0.014666307427553992, 0.08965895799582231, 0.11160796318060057, 0.024476046265303256], \"xaxis\": \"x2\", \"y\": [0.271618744454219, 0.12314691398232976, 0.21346024546879735, 0.13737441429907293, 0.3284911500964287, 0.16839486384961955, 0.28361006967674335, 0.1412149773569029, 0.17858180984257305, 0.1820513989546444, 0.14498064916078734, 0.232065847844593, 0.2814111677038297, 0.2877485161663901, 0.10373959153567855, 0.07683533982350309, 0.1787839074704619, 0.30776338301698886, 0.13061668680669272, 0.22128245418901105, 0.12914856283016915, 0.17878419885963123, 0.2955894543858217, 0.29746361495917, 0.27038391031124714, 0.3952609651355296, 0.28675890809623417, 0.17726006283059198, 0.2843145437939577, 0.12764923830757385, 0.21287247899522224, 0.22898474720681072, 0.1854587676084772, 0.28991898671390587, 0.11721110856266098, 0.11841261380050688, 0.16787062337524455, 0.10268504454286695, 0.1270338397982473, 0.14713174165006226, 0.08421932521066526, 0.07237417049803174, 0.036717358175275265, 0.025617673446202246], \"yaxis\": \"y2\"}, {\"customdata\": [[\"data scientist\", 0.19692554793962166, -0.15901277312142936, 94], [\"data scientist\", 0.20153026724034817, -0.10408451654295289, 95], [\"data scientist\", 0.14137821959579328, -0.09962100828472131, 96], [\"data scientist\", 0.28369749363968094, -0.0030108401375814327, 97], [\"data scientist\", 0.054335871720101764, -0.09419370017487987, 98], [\"data scientist\", 0.09031051222905404, -0.06650477175152614, 99], [\"data scientist\", 0.19068129116176546, -0.1891637557078407, 100], [\"data scientist\", 0.10941042656003605, -0.15491135606345072, 101], [\"data scientist\", 0.2106576732310613, -0.11913003099877621, 102], [\"data scientist\", 0.23444343277641225, -0.19035050582255042, 103], [\"data scientist\", 0.044912702495107544, -0.13171243455702844, 106], [\"data scientist\", 0.04465906853779544, -0.13193199226700117, 107], [\"data scientist\", 0.1861865855734932, -0.06348603196158983, 108], [\"data scientist\", 0.09743283519343453, -0.0937806688625737, 111], [\"data scientist\", 0.10455417202000318, -0.08816894772259445, 112], [\"data scientist\", 0.46378334020875833, -0.357220168684523, 113], [\"data scientist\", 0.5172868798664226, -0.38803928246681274, 114], [\"data scientist\", 0.49269836723439875, -0.362692085497734, 115], [\"data scientist\", 0.22254799460212452, -0.08249872231439102, 117], [\"data scientist\", 0.1414994495813728, -0.07487819582757499, 118], [\"data scientist\", 0.0799497330569359, -0.07703352294476694, 119], [\"data scientist\", 0.3840559317537946, -0.21880728408668776, 120], [\"data scientist\", 0.10002878154929778, -0.10547403512398457, 122], [\"data scientist\", 0.1419576420493976, -0.11046069790231455, 123], [\"data scientist\", 0.14092907925824263, -0.031090121099980748, 124], [\"data scientist\", 0.4196190814410513, -0.1747932541701634, 125], [\"data scientist\", 0.25867044955103224, -0.06420643558933713, 126], [\"data scientist\", 0.35407641382804605, -0.20692576506552518, 127], [\"data scientist\", 0.11725851779514203, -0.05634471208030039, 128], [\"data scientist\", 0.18429859396096268, -0.07534249611493252, 129], [\"data scientist\", 0.1728077758519859, -0.08682813633159078, 130], [\"data scientist\", 0.15759659118560537, -0.13928228317390168, 132]], \"hoverlabel\": {\"namelength\": 0}, \"hovertemplate\": \"<br>job=%{customdata[0]}<br>pc_0=%{customdata[1]}<br>pc_1=%{customdata[2]}<br>index=%{customdata[3]}<extra></extra>\", \"legendgroup\": \"job=data scientist\", \"marker\": {\"color\": \"#00cc96\", \"symbol\": \"circle\"}, \"mode\": \"markers\", \"name\": \"data scientist\", \"showlegend\": false, \"type\": \"scatter\", \"x\": [0.19692554793962166, 0.20153026724034817, 0.14137821959579328, 0.28369749363968094, 0.054335871720101764, 0.09031051222905404, 0.19068129116176546, 0.10941042656003605, 0.2106576732310613, 0.23444343277641225, 0.044912702495107544, 0.04465906853779544, 0.1861865855734932, 0.09743283519343453, 0.10455417202000318, 0.46378334020875833, 0.5172868798664226, 0.49269836723439875, 0.22254799460212452, 0.1414994495813728, 0.0799497330569359, 0.3840559317537946, 0.10002878154929778, 0.1419576420493976, 0.14092907925824263, 0.4196190814410513, 0.25867044955103224, 0.35407641382804605, 0.11725851779514203, 0.18429859396096268, 0.1728077758519859, 0.15759659118560537], \"xaxis\": \"x2\", \"y\": [-0.15901277312142936, -0.10408451654295289, -0.09962100828472131, -0.0030108401375814327, -0.09419370017487987, -0.06650477175152614, -0.1891637557078407, -0.15491135606345072, -0.11913003099877621, -0.19035050582255042, -0.13171243455702844, -0.13193199226700117, -0.06348603196158983, -0.0937806688625737, -0.08816894772259445, -0.357220168684523, -0.38803928246681274, -0.362692085497734, -0.08249872231439102, -0.07487819582757499, -0.07703352294476694, -0.21880728408668776, -0.10547403512398457, -0.11046069790231455, -0.031090121099980748, -0.1747932541701634, -0.06420643558933713, -0.20692576506552518, -0.05634471208030039, -0.07534249611493252, -0.08682813633159078, -0.13928228317390168], \"yaxis\": \"y2\"}, {\"marker\": {\"color\": [2, 2, 2], \"opacity\": 0.7, \"size\": [15, 15, 15]}, \"mode\": \"markers\", \"name\": \"cluster centers\", \"type\": \"scatter\", \"x\": [0.20438064758400876, -0.14856002149947506, 0.043812284154131756], \"xaxis\": \"x2\", \"y\": [-0.1344056416390943, -0.07107567611126943, 0.18982486524530395], \"yaxis\": \"y2\"}],\n",
              "                        {\"annotations\": [{\"font\": {\"size\": 16}, \"showarrow\": false, \"text\": \"actual job titles\", \"x\": 0.5, \"xanchor\": \"center\", \"xref\": \"paper\", \"y\": 1.0, \"yanchor\": \"bottom\", \"yref\": \"paper\"}, {\"font\": {\"size\": 16}, \"showarrow\": false, \"text\": \"k means clustered job titles\", \"x\": 0.5, \"xanchor\": \"center\", \"xref\": \"paper\", \"y\": 0.425, \"yanchor\": \"bottom\", \"yref\": \"paper\"}], \"height\": 800, \"legend\": {\"x\": 1, \"y\": 0.5}, \"template\": {\"data\": {\"bar\": [{\"error_x\": {\"color\": \"#2a3f5f\"}, \"error_y\": {\"color\": \"#2a3f5f\"}, \"marker\": {\"line\": {\"color\": \"#E5ECF6\", \"width\": 0.5}}, \"type\": \"bar\"}], \"barpolar\": [{\"marker\": {\"line\": {\"color\": \"#E5ECF6\", \"width\": 0.5}}, \"type\": \"barpolar\"}], \"carpet\": [{\"aaxis\": {\"endlinecolor\": \"#2a3f5f\", \"gridcolor\": \"white\", \"linecolor\": \"white\", \"minorgridcolor\": \"white\", \"startlinecolor\": \"#2a3f5f\"}, \"baxis\": {\"endlinecolor\": \"#2a3f5f\", \"gridcolor\": \"white\", \"linecolor\": \"white\", \"minorgridcolor\": \"white\", \"startlinecolor\": \"#2a3f5f\"}, \"type\": \"carpet\"}], \"choropleth\": [{\"colorbar\": {\"outlinewidth\": 0, \"ticks\": \"\"}, \"type\": \"choropleth\"}], \"contour\": [{\"colorbar\": {\"outlinewidth\": 0, \"ticks\": \"\"}, \"colorscale\": [[0.0, \"#0d0887\"], [0.1111111111111111, \"#46039f\"], [0.2222222222222222, \"#7201a8\"], [0.3333333333333333, \"#9c179e\"], [0.4444444444444444, \"#bd3786\"], [0.5555555555555556, \"#d8576b\"], [0.6666666666666666, \"#ed7953\"], [0.7777777777777778, \"#fb9f3a\"], [0.8888888888888888, \"#fdca26\"], [1.0, \"#f0f921\"]], \"type\": \"contour\"}], \"contourcarpet\": [{\"colorbar\": {\"outlinewidth\": 0, \"ticks\": \"\"}, \"type\": \"contourcarpet\"}], \"heatmap\": [{\"colorbar\": {\"outlinewidth\": 0, \"ticks\": \"\"}, \"colorscale\": [[0.0, \"#0d0887\"], [0.1111111111111111, \"#46039f\"], [0.2222222222222222, \"#7201a8\"], [0.3333333333333333, \"#9c179e\"], [0.4444444444444444, \"#bd3786\"], [0.5555555555555556, \"#d8576b\"], [0.6666666666666666, \"#ed7953\"], [0.7777777777777778, \"#fb9f3a\"], [0.8888888888888888, \"#fdca26\"], [1.0, \"#f0f921\"]], \"type\": \"heatmap\"}], \"heatmapgl\": [{\"colorbar\": {\"outlinewidth\": 0, \"ticks\": \"\"}, \"colorscale\": [[0.0, \"#0d0887\"], [0.1111111111111111, \"#46039f\"], [0.2222222222222222, \"#7201a8\"], [0.3333333333333333, \"#9c179e\"], [0.4444444444444444, \"#bd3786\"], [0.5555555555555556, \"#d8576b\"], [0.6666666666666666, \"#ed7953\"], [0.7777777777777778, \"#fb9f3a\"], [0.8888888888888888, \"#fdca26\"], [1.0, \"#f0f921\"]], \"type\": \"heatmapgl\"}], \"histogram\": [{\"marker\": {\"colorbar\": {\"outlinewidth\": 0, \"ticks\": \"\"}}, \"type\": \"histogram\"}], \"histogram2d\": [{\"colorbar\": {\"outlinewidth\": 0, \"ticks\": \"\"}, \"colorscale\": [[0.0, \"#0d0887\"], [0.1111111111111111, \"#46039f\"], [0.2222222222222222, \"#7201a8\"], [0.3333333333333333, \"#9c179e\"], [0.4444444444444444, \"#bd3786\"], [0.5555555555555556, \"#d8576b\"], [0.6666666666666666, \"#ed7953\"], [0.7777777777777778, \"#fb9f3a\"], [0.8888888888888888, \"#fdca26\"], [1.0, \"#f0f921\"]], \"type\": \"histogram2d\"}], \"histogram2dcontour\": [{\"colorbar\": {\"outlinewidth\": 0, \"ticks\": \"\"}, \"colorscale\": [[0.0, \"#0d0887\"], [0.1111111111111111, \"#46039f\"], [0.2222222222222222, \"#7201a8\"], [0.3333333333333333, \"#9c179e\"], [0.4444444444444444, \"#bd3786\"], [0.5555555555555556, \"#d8576b\"], [0.6666666666666666, \"#ed7953\"], [0.7777777777777778, \"#fb9f3a\"], [0.8888888888888888, \"#fdca26\"], [1.0, \"#f0f921\"]], \"type\": \"histogram2dcontour\"}], \"mesh3d\": [{\"colorbar\": {\"outlinewidth\": 0, \"ticks\": \"\"}, \"type\": \"mesh3d\"}], \"parcoords\": [{\"line\": {\"colorbar\": {\"outlinewidth\": 0, \"ticks\": \"\"}}, \"type\": \"parcoords\"}], \"pie\": [{\"automargin\": true, \"type\": \"pie\"}], \"scatter\": [{\"marker\": {\"colorbar\": {\"outlinewidth\": 0, \"ticks\": \"\"}}, \"type\": \"scatter\"}], \"scatter3d\": [{\"line\": {\"colorbar\": {\"outlinewidth\": 0, \"ticks\": \"\"}}, \"marker\": {\"colorbar\": {\"outlinewidth\": 0, \"ticks\": \"\"}}, \"type\": \"scatter3d\"}], \"scattercarpet\": [{\"marker\": {\"colorbar\": {\"outlinewidth\": 0, \"ticks\": \"\"}}, \"type\": \"scattercarpet\"}], \"scattergeo\": [{\"marker\": {\"colorbar\": {\"outlinewidth\": 0, \"ticks\": \"\"}}, \"type\": \"scattergeo\"}], \"scattergl\": [{\"marker\": {\"colorbar\": {\"outlinewidth\": 0, \"ticks\": \"\"}}, \"type\": \"scattergl\"}], \"scattermapbox\": [{\"marker\": {\"colorbar\": {\"outlinewidth\": 0, \"ticks\": \"\"}}, \"type\": \"scattermapbox\"}], \"scatterpolar\": [{\"marker\": {\"colorbar\": {\"outlinewidth\": 0, \"ticks\": \"\"}}, \"type\": \"scatterpolar\"}], \"scatterpolargl\": [{\"marker\": {\"colorbar\": {\"outlinewidth\": 0, \"ticks\": \"\"}}, \"type\": \"scatterpolargl\"}], \"scatterternary\": [{\"marker\": {\"colorbar\": {\"outlinewidth\": 0, \"ticks\": \"\"}}, \"type\": \"scatterternary\"}], \"surface\": [{\"colorbar\": {\"outlinewidth\": 0, \"ticks\": \"\"}, \"colorscale\": [[0.0, \"#0d0887\"], [0.1111111111111111, \"#46039f\"], [0.2222222222222222, \"#7201a8\"], [0.3333333333333333, \"#9c179e\"], [0.4444444444444444, \"#bd3786\"], [0.5555555555555556, \"#d8576b\"], [0.6666666666666666, \"#ed7953\"], [0.7777777777777778, \"#fb9f3a\"], [0.8888888888888888, \"#fdca26\"], [1.0, \"#f0f921\"]], \"type\": \"surface\"}], \"table\": [{\"cells\": {\"fill\": {\"color\": \"#EBF0F8\"}, \"line\": {\"color\": \"white\"}}, \"header\": {\"fill\": {\"color\": \"#C8D4E3\"}, \"line\": {\"color\": \"white\"}}, \"type\": \"table\"}]}, \"layout\": {\"annotationdefaults\": {\"arrowcolor\": \"#2a3f5f\", \"arrowhead\": 0, \"arrowwidth\": 1}, \"coloraxis\": {\"colorbar\": {\"outlinewidth\": 0, \"ticks\": \"\"}}, \"colorscale\": {\"diverging\": [[0, \"#8e0152\"], [0.1, \"#c51b7d\"], [0.2, \"#de77ae\"], [0.3, \"#f1b6da\"], [0.4, \"#fde0ef\"], [0.5, \"#f7f7f7\"], [0.6, \"#e6f5d0\"], [0.7, \"#b8e186\"], [0.8, \"#7fbc41\"], [0.9, \"#4d9221\"], [1, \"#276419\"]], \"sequential\": [[0.0, \"#0d0887\"], [0.1111111111111111, \"#46039f\"], [0.2222222222222222, \"#7201a8\"], [0.3333333333333333, \"#9c179e\"], [0.4444444444444444, \"#bd3786\"], [0.5555555555555556, \"#d8576b\"], [0.6666666666666666, \"#ed7953\"], [0.7777777777777778, \"#fb9f3a\"], [0.8888888888888888, \"#fdca26\"], [1.0, \"#f0f921\"]], \"sequentialminus\": [[0.0, \"#0d0887\"], [0.1111111111111111, \"#46039f\"], [0.2222222222222222, \"#7201a8\"], [0.3333333333333333, \"#9c179e\"], [0.4444444444444444, \"#bd3786\"], [0.5555555555555556, \"#d8576b\"], [0.6666666666666666, \"#ed7953\"], [0.7777777777777778, \"#fb9f3a\"], [0.8888888888888888, \"#fdca26\"], [1.0, \"#f0f921\"]]}, \"colorway\": [\"#636efa\", \"#EF553B\", \"#00cc96\", \"#ab63fa\", \"#FFA15A\", \"#19d3f3\", \"#FF6692\", \"#B6E880\", \"#FF97FF\", \"#FECB52\"], \"font\": {\"color\": \"#2a3f5f\"}, \"geo\": {\"bgcolor\": \"white\", \"lakecolor\": \"white\", \"landcolor\": \"#E5ECF6\", \"showlakes\": true, \"showland\": true, \"subunitcolor\": \"white\"}, \"hoverlabel\": {\"align\": \"left\"}, \"hovermode\": \"closest\", \"mapbox\": {\"style\": \"light\"}, \"paper_bgcolor\": \"white\", \"plot_bgcolor\": \"#E5ECF6\", \"polar\": {\"angularaxis\": {\"gridcolor\": \"white\", \"linecolor\": \"white\", \"ticks\": \"\"}, \"bgcolor\": \"#E5ECF6\", \"radialaxis\": {\"gridcolor\": \"white\", \"linecolor\": \"white\", \"ticks\": \"\"}}, \"scene\": {\"xaxis\": {\"backgroundcolor\": \"#E5ECF6\", \"gridcolor\": \"white\", \"gridwidth\": 2, \"linecolor\": \"white\", \"showbackground\": true, \"ticks\": \"\", \"zerolinecolor\": \"white\"}, \"yaxis\": {\"backgroundcolor\": \"#E5ECF6\", \"gridcolor\": \"white\", \"gridwidth\": 2, \"linecolor\": \"white\", \"showbackground\": true, \"ticks\": \"\", \"zerolinecolor\": \"white\"}, \"zaxis\": {\"backgroundcolor\": \"#E5ECF6\", \"gridcolor\": \"white\", \"gridwidth\": 2, \"linecolor\": \"white\", \"showbackground\": true, \"ticks\": \"\", \"zerolinecolor\": \"white\"}}, \"shapedefaults\": {\"line\": {\"color\": \"#2a3f5f\"}}, \"ternary\": {\"aaxis\": {\"gridcolor\": \"white\", \"linecolor\": \"white\", \"ticks\": \"\"}, \"baxis\": {\"gridcolor\": \"white\", \"linecolor\": \"white\", \"ticks\": \"\"}, \"bgcolor\": \"#E5ECF6\", \"caxis\": {\"gridcolor\": \"white\", \"linecolor\": \"white\", \"ticks\": \"\"}}, \"title\": {\"x\": 0.05}, \"xaxis\": {\"automargin\": true, \"gridcolor\": \"white\", \"linecolor\": \"white\", \"ticks\": \"\", \"title\": {\"standoff\": 15}, \"zerolinecolor\": \"white\", \"zerolinewidth\": 2}, \"yaxis\": {\"automargin\": true, \"gridcolor\": \"white\", \"linecolor\": \"white\", \"ticks\": \"\", \"title\": {\"standoff\": 15}, \"zerolinecolor\": \"white\", \"zerolinewidth\": 2}}}, \"xaxis\": {\"anchor\": \"y\", \"domain\": [0.0, 1.0], \"title\": {\"text\": \"pc_0\"}}, \"xaxis2\": {\"anchor\": \"y2\", \"domain\": [0.0, 1.0], \"title\": {\"text\": \"pc_0\"}}, \"yaxis\": {\"anchor\": \"x\", \"domain\": [0.575, 1.0], \"title\": {\"text\": \"pc_1\"}}, \"yaxis2\": {\"anchor\": \"x2\", \"domain\": [0.0, 0.425], \"title\": {\"text\": \"pc_1\"}}},\n",
              "                        {\"responsive\": true}\n",
              "                    ).then(function(){\n",
              "                            \n",
              "var gd = document.getElementById('25781139-d5a9-4ec3-85b9-be2353766944');\n",
              "var x = new MutationObserver(function (mutations, observer) {{\n",
              "        var display = window.getComputedStyle(gd).display;\n",
              "        if (!display || display === 'none') {{\n",
              "            console.log([gd, 'removed!']);\n",
              "            Plotly.purge(gd);\n",
              "            observer.disconnect();\n",
              "        }}\n",
              "}});\n",
              "\n",
              "// Listen for the removal of the full notebook cells\n",
              "var notebookContainer = gd.closest('#notebook-container');\n",
              "if (notebookContainer) {{\n",
              "    x.observe(notebookContainer, {childList: true});\n",
              "}}\n",
              "\n",
              "// Listen for the clearing of the current output cell\n",
              "var outputEl = gd.closest('.output');\n",
              "if (outputEl) {{\n",
              "    x.observe(outputEl, {childList: true});\n",
              "}}\n",
              "\n",
              "                        })\n",
              "                };\n",
              "                \n",
              "            </script>\n",
              "        </div>\n",
              "</body>\n",
              "</html>"
            ]
          },
          "metadata": {
            "tags": []
          }
        }
      ]
    },
    {
      "cell_type": "markdown",
      "metadata": {
        "id": "2NEzW7kdVGD-",
        "colab_type": "text"
      },
      "source": [
        "Let's recap what we've achieved here. We started with a collection of raw text documents, each one a description of a job from one of three titles. Using term-frequency inverse-document-freqency we converted each description into a fixed length vector. Then using PCA we projected our new 2038-dimensional data matrix onto the two coordinate axes of highest variability so we could produce a scatterplot of the data. The result was a clear visual separation into three clusters corresponding to the three job titles, which we have now shown are nearly perfectly recreated using a simple clustering algorithm.\n",
        "\n",
        "The cool part about this is not that we have perfectly classified each tfidf vector with its job title. There are a whole host of supervised approaches that would have been more effective if that were our goal: we would certainly include more principle components to preserve more information and most classification algorithms would perform better than the simple clustering we have used here. No, the interesting part is thinking about how these simple unsupervised methods can be applied to problems where we *don't* have access to labelled data as we did here. In text problems where we are unsure of the existence of distinct clusters we can go through the same steps, cluster the data and then use the tfidf vectors as we did before to look for patterns in the most important words in each cluster.\n",
        "\n",
        "Clustering is far from a cure-all concept that works magic in every use-case, but it can be a fruitful area of investigation across a wide range of problems. We have shown how it can be effective in a simple, small-sample case but I hope that you can use some of these ideas in your own problems."
      ]
    },
    {
      "cell_type": "code",
      "metadata": {
        "id": "CnHRtRS7VGD_",
        "colab_type": "code",
        "colab": {},
        "outputId": "b5e10601-8767-43b0-debc-a83b29faa3bd"
      },
      "source": [
        "# hide\n",
        "df_new = df.copy()\n",
        "df_new['desc'] = (df_new.desc.str.replace('[Ss]cientist', '')\n",
        "                  .str.replace('[Ee]ngineer', '')\n",
        "                  .str.replace('[Aa]nalyst', '')\n",
        "                  .str.replace('[Aa]nalysis', '')\n",
        "                  .str.replace('[Ss]cience', ''))\n",
        "\n",
        "text = np.array(df_new['desc'])\n",
        "tfidf_matrix = vectorizer.fit_transform(text)\n",
        "tfidf = pd.DataFrame(tfidf_matrix.toarray(), columns=vectorizer.get_feature_names())\n",
        "\n",
        "X = pca.fit_transform(tfidf)\n",
        "X_df = pd.DataFrame(X)\n",
        "X_df['job'] = df.job.values\n",
        "X_df = X_df.rename(columns={0: 'pc_0', 1: 'pc_1'})\n",
        "\n",
        "fig = px.scatter(X_df, x=\"pc_0\", y=\"pc_1\", color=\"job\", hover_data=[\"pc_0\", \"pc_1\", X_df.index])\n",
        "fig.update_layout(title='first two PC scores of tfidf matrix')\n",
        "fig.show()"
      ],
      "execution_count": null,
      "outputs": [
        {
          "output_type": "display_data",
          "data": {
            "application/vnd.plotly.v1+json": {
              "config": {
                "plotlyServerURL": "https://plot.ly"
              },
              "data": [
                {
                  "customdata": [
                    [
                      -0.17497271651182728,
                      0.1033789777161686,
                      0
                    ],
                    [
                      -0.06124918901524485,
                      0.07537578820411663,
                      1
                    ],
                    [
                      -0.30726307698078703,
                      0.10288514753459395,
                      2
                    ],
                    [
                      -0.11688448469883603,
                      0.058437771800120504,
                      3
                    ],
                    [
                      0.09051295877873011,
                      0.05500890741806748,
                      4
                    ],
                    [
                      -0.1249248310534571,
                      -0.016075012117082347,
                      5
                    ],
                    [
                      -0.015527713668021657,
                      0.04742057106161356,
                      6
                    ],
                    [
                      -0.12377812617842686,
                      0.0220257538136047,
                      7
                    ],
                    [
                      -0.021763053104446446,
                      -0.07135719499502007,
                      8
                    ],
                    [
                      -0.1382766850398688,
                      0.031052653960732972,
                      9
                    ],
                    [
                      -0.42977770845894286,
                      0.2723791644451741,
                      10
                    ],
                    [
                      -0.10991323432442278,
                      0.09177985285468436,
                      11
                    ],
                    [
                      -0.005391473621555142,
                      0.11145311709494427,
                      12
                    ],
                    [
                      -0.024413523894219125,
                      -0.07632516432228771,
                      13
                    ],
                    [
                      -0.16126789500734295,
                      -0.021507457994925396,
                      14
                    ],
                    [
                      0.03592455909228136,
                      -0.017582463181213717,
                      15
                    ],
                    [
                      -0.22948154523493372,
                      0.04569910460433318,
                      16
                    ],
                    [
                      -0.0461987734928188,
                      0.01147825722792677,
                      17
                    ],
                    [
                      -0.33162266595612294,
                      0.2000207516452946,
                      18
                    ],
                    [
                      -0.023130150272551993,
                      0.03757231618243347,
                      19
                    ],
                    [
                      -0.05465197385762007,
                      0.053621772216877105,
                      20
                    ],
                    [
                      -0.24016226317146608,
                      0.13264305189756498,
                      21
                    ],
                    [
                      -0.12778149200952915,
                      0.06848289521719746,
                      22
                    ],
                    [
                      -0.3929544878981121,
                      0.1671259743717188,
                      23
                    ],
                    [
                      -0.14274748785365476,
                      0.08936326610965951,
                      24
                    ],
                    [
                      -0.4303691948807583,
                      0.28435256223884814,
                      25
                    ],
                    [
                      0.1773420237525741,
                      0.26333111155124667,
                      26
                    ],
                    [
                      -0.15773406689726602,
                      0.02234283439441463,
                      27
                    ],
                    [
                      -0.28667548935355114,
                      0.08774136952854009,
                      28
                    ],
                    [
                      -0.05556889608743761,
                      -0.0021590582155150504,
                      29
                    ],
                    [
                      -0.12824357980696535,
                      0.06544250116702476,
                      30
                    ],
                    [
                      -0.22100493125264215,
                      0.040149891218298414,
                      31
                    ],
                    [
                      -0.15330399330052918,
                      0.0793845305606006,
                      32
                    ],
                    [
                      0.023450573199487335,
                      -0.06541183022729083,
                      33
                    ],
                    [
                      -0.12906853189362186,
                      0.03557120808078271,
                      34
                    ],
                    [
                      0.04120758757102087,
                      -0.02652057738147962,
                      35
                    ],
                    [
                      -0.19146696789569334,
                      0.05253040864022309,
                      36
                    ],
                    [
                      -0.1473950725825625,
                      0.008445762488737149,
                      37
                    ],
                    [
                      -0.11774863000493827,
                      0.06875099358349585,
                      38
                    ],
                    [
                      -0.16186195375440865,
                      0.10744708337791829,
                      39
                    ],
                    [
                      -0.3184080303611615,
                      0.13865716012555881,
                      40
                    ],
                    [
                      -0.11019960805046511,
                      0.02606763987220426,
                      41
                    ],
                    [
                      -0.16267334713165724,
                      0.019272117987606148,
                      42
                    ],
                    [
                      -0.21751175528201108,
                      0.05132117244106723,
                      43
                    ],
                    [
                      -0.16613604382358726,
                      -0.034396576652488076,
                      44
                    ],
                    [
                      -0.3144623167332512,
                      0.12889011710291662,
                      45
                    ],
                    [
                      -0.015907820701797304,
                      0.05489877462340725,
                      46
                    ],
                    [
                      0.004340657760589619,
                      -0.04099037855017587,
                      47
                    ],
                    [
                      -0.09822424234748907,
                      -0.08346496150949793,
                      48
                    ],
                    [
                      0.03677009931624494,
                      0.01198668884044194,
                      49
                    ],
                    [
                      -0.12288565865815912,
                      0.014328927452819122,
                      50
                    ]
                  ],
                  "hovertemplate": "job=data analyst<br>pc_0=%{customdata[0]}<br>pc_1=%{customdata[1]}<br>index=%{customdata[2]}<extra></extra>",
                  "legendgroup": "data analyst",
                  "marker": {
                    "color": "#636efa",
                    "symbol": "circle"
                  },
                  "mode": "markers",
                  "name": "data analyst",
                  "orientation": "v",
                  "showlegend": true,
                  "type": "scatter",
                  "x": [
                    -0.17497271651182728,
                    -0.06124918901524485,
                    -0.30726307698078703,
                    -0.11688448469883603,
                    0.09051295877873011,
                    -0.1249248310534571,
                    -0.015527713668021657,
                    -0.12377812617842686,
                    -0.021763053104446446,
                    -0.1382766850398688,
                    -0.42977770845894286,
                    -0.10991323432442278,
                    -0.005391473621555142,
                    -0.024413523894219125,
                    -0.16126789500734295,
                    0.03592455909228136,
                    -0.22948154523493372,
                    -0.0461987734928188,
                    -0.33162266595612294,
                    -0.023130150272551993,
                    -0.05465197385762007,
                    -0.24016226317146608,
                    -0.12778149200952915,
                    -0.3929544878981121,
                    -0.14274748785365476,
                    -0.4303691948807583,
                    0.1773420237525741,
                    -0.15773406689726602,
                    -0.28667548935355114,
                    -0.05556889608743761,
                    -0.12824357980696535,
                    -0.22100493125264215,
                    -0.15330399330052918,
                    0.023450573199487335,
                    -0.12906853189362186,
                    0.04120758757102087,
                    -0.19146696789569334,
                    -0.1473950725825625,
                    -0.11774863000493827,
                    -0.16186195375440865,
                    -0.3184080303611615,
                    -0.11019960805046511,
                    -0.16267334713165724,
                    -0.21751175528201108,
                    -0.16613604382358726,
                    -0.3144623167332512,
                    -0.015907820701797304,
                    0.004340657760589619,
                    -0.09822424234748907,
                    0.03677009931624494,
                    -0.12288565865815912
                  ],
                  "xaxis": "x",
                  "y": [
                    0.1033789777161686,
                    0.07537578820411663,
                    0.10288514753459395,
                    0.058437771800120504,
                    0.05500890741806748,
                    -0.016075012117082347,
                    0.04742057106161356,
                    0.0220257538136047,
                    -0.07135719499502007,
                    0.031052653960732972,
                    0.2723791644451741,
                    0.09177985285468436,
                    0.11145311709494427,
                    -0.07632516432228771,
                    -0.021507457994925396,
                    -0.017582463181213717,
                    0.04569910460433318,
                    0.01147825722792677,
                    0.2000207516452946,
                    0.03757231618243347,
                    0.053621772216877105,
                    0.13264305189756498,
                    0.06848289521719746,
                    0.1671259743717188,
                    0.08936326610965951,
                    0.28435256223884814,
                    0.26333111155124667,
                    0.02234283439441463,
                    0.08774136952854009,
                    -0.0021590582155150504,
                    0.06544250116702476,
                    0.040149891218298414,
                    0.0793845305606006,
                    -0.06541183022729083,
                    0.03557120808078271,
                    -0.02652057738147962,
                    0.05253040864022309,
                    0.008445762488737149,
                    0.06875099358349585,
                    0.10744708337791829,
                    0.13865716012555881,
                    0.02606763987220426,
                    0.019272117987606148,
                    0.05132117244106723,
                    -0.034396576652488076,
                    0.12889011710291662,
                    0.05489877462340725,
                    -0.04099037855017587,
                    -0.08346496150949793,
                    0.01198668884044194,
                    0.014328927452819122
                  ],
                  "yaxis": "y"
                },
                {
                  "customdata": [
                    [
                      0.008328988119481155,
                      -0.30426139489498827,
                      51
                    ],
                    [
                      0.11516948757700553,
                      -0.06789081854790452,
                      52
                    ],
                    [
                      0.023306166620652522,
                      0.07015116506724453,
                      53
                    ],
                    [
                      0.12527875435549554,
                      -0.05288866602357367,
                      54
                    ],
                    [
                      0.13708408048556686,
                      -0.15083390947911407,
                      55
                    ],
                    [
                      0.1608754050818627,
                      -0.12970977826241858,
                      56
                    ],
                    [
                      0.12262369816020774,
                      -0.15318625058766513,
                      57
                    ],
                    [
                      -0.004049662424236321,
                      -0.1065159481724707,
                      58
                    ],
                    [
                      0.2417905199343684,
                      -0.09872544873691523,
                      59
                    ],
                    [
                      0.21600003858596423,
                      -0.11963536282526228,
                      60
                    ],
                    [
                      0.1969807338681792,
                      -0.0814563502322683,
                      61
                    ],
                    [
                      0.08871984429214186,
                      -0.10242258057365147,
                      62
                    ],
                    [
                      0.03552690342367507,
                      -0.30854132269864215,
                      63
                    ],
                    [
                      0.08340689843487127,
                      -0.1419156250639123,
                      64
                    ],
                    [
                      -0.017929863121912866,
                      -0.21488498131320796,
                      65
                    ],
                    [
                      0.004445863333189974,
                      0.07567800932632954,
                      66
                    ],
                    [
                      0.011848777898067838,
                      -0.26732088062879855,
                      67
                    ],
                    [
                      0.14478082510259352,
                      -0.10593784671511541,
                      68
                    ],
                    [
                      -0.036323828178048335,
                      -0.08936756622094362,
                      69
                    ],
                    [
                      -0.041816694817395715,
                      0.028782791448887717,
                      70
                    ],
                    [
                      -0.0760353879488014,
                      -0.2244080583621574,
                      71
                    ],
                    [
                      -0.09876560639748154,
                      -0.11577538292861775,
                      72
                    ],
                    [
                      0.08272056083316942,
                      -0.1797951409841533,
                      73
                    ],
                    [
                      0.07260107317438118,
                      -0.3354877757883147,
                      74
                    ],
                    [
                      0.10545035217557376,
                      -0.2904961876124433,
                      75
                    ],
                    [
                      -0.03416680366927054,
                      -0.2456991099666511,
                      76
                    ],
                    [
                      0.02394308525072954,
                      -0.12671984429731276,
                      77
                    ],
                    [
                      0.0044018677717788226,
                      -0.14144568758673093,
                      78
                    ],
                    [
                      0.057584541068654474,
                      -0.10957885615647667,
                      79
                    ],
                    [
                      -0.0748773089350146,
                      -0.13663770149303944,
                      80
                    ],
                    [
                      -0.06852379688926741,
                      -0.11116811356845759,
                      81
                    ],
                    [
                      0.09777312845740756,
                      -0.23466694222565473,
                      82
                    ],
                    [
                      -0.028957069256524887,
                      -0.1756227736359037,
                      83
                    ],
                    [
                      0.13344544226555688,
                      -0.1573191221106858,
                      84
                    ],
                    [
                      0.06069202810386899,
                      -0.33035967595474475,
                      85
                    ],
                    [
                      -0.021312772622632148,
                      -0.19541577844002356,
                      86
                    ],
                    [
                      0.006314943259255478,
                      -0.063632282551172,
                      87
                    ],
                    [
                      -0.025146101588210065,
                      -0.07107278447476145,
                      88
                    ],
                    [
                      0.07419634363504275,
                      -0.05578987950489008,
                      89
                    ],
                    [
                      -0.02919168384629239,
                      -0.0006310151846010341,
                      90
                    ],
                    [
                      0.0192990108053419,
                      -0.10897054708546634,
                      91
                    ],
                    [
                      -0.042713394641802516,
                      -0.13466298063586268,
                      92
                    ],
                    [
                      -0.046522674273585425,
                      -0.060364695043088626,
                      93
                    ]
                  ],
                  "hovertemplate": "job=data engineer<br>pc_0=%{customdata[0]}<br>pc_1=%{customdata[1]}<br>index=%{customdata[2]}<extra></extra>",
                  "legendgroup": "data engineer",
                  "marker": {
                    "color": "#EF553B",
                    "symbol": "circle"
                  },
                  "mode": "markers",
                  "name": "data engineer",
                  "orientation": "v",
                  "showlegend": true,
                  "type": "scatter",
                  "x": [
                    0.008328988119481155,
                    0.11516948757700553,
                    0.023306166620652522,
                    0.12527875435549554,
                    0.13708408048556686,
                    0.1608754050818627,
                    0.12262369816020774,
                    -0.004049662424236321,
                    0.2417905199343684,
                    0.21600003858596423,
                    0.1969807338681792,
                    0.08871984429214186,
                    0.03552690342367507,
                    0.08340689843487127,
                    -0.017929863121912866,
                    0.004445863333189974,
                    0.011848777898067838,
                    0.14478082510259352,
                    -0.036323828178048335,
                    -0.041816694817395715,
                    -0.0760353879488014,
                    -0.09876560639748154,
                    0.08272056083316942,
                    0.07260107317438118,
                    0.10545035217557376,
                    -0.03416680366927054,
                    0.02394308525072954,
                    0.0044018677717788226,
                    0.057584541068654474,
                    -0.0748773089350146,
                    -0.06852379688926741,
                    0.09777312845740756,
                    -0.028957069256524887,
                    0.13344544226555688,
                    0.06069202810386899,
                    -0.021312772622632148,
                    0.006314943259255478,
                    -0.025146101588210065,
                    0.07419634363504275,
                    -0.02919168384629239,
                    0.0192990108053419,
                    -0.042713394641802516,
                    -0.046522674273585425
                  ],
                  "xaxis": "x",
                  "y": [
                    -0.30426139489498827,
                    -0.06789081854790452,
                    0.07015116506724453,
                    -0.05288866602357367,
                    -0.15083390947911407,
                    -0.12970977826241858,
                    -0.15318625058766513,
                    -0.1065159481724707,
                    -0.09872544873691523,
                    -0.11963536282526228,
                    -0.0814563502322683,
                    -0.10242258057365147,
                    -0.30854132269864215,
                    -0.1419156250639123,
                    -0.21488498131320796,
                    0.07567800932632954,
                    -0.26732088062879855,
                    -0.10593784671511541,
                    -0.08936756622094362,
                    0.028782791448887717,
                    -0.2244080583621574,
                    -0.11577538292861775,
                    -0.1797951409841533,
                    -0.3354877757883147,
                    -0.2904961876124433,
                    -0.2456991099666511,
                    -0.12671984429731276,
                    -0.14144568758673093,
                    -0.10957885615647667,
                    -0.13663770149303944,
                    -0.11116811356845759,
                    -0.23466694222565473,
                    -0.1756227736359037,
                    -0.1573191221106858,
                    -0.33035967595474475,
                    -0.19541577844002356,
                    -0.063632282551172,
                    -0.07107278447476145,
                    -0.05578987950489008,
                    -0.0006310151846010341,
                    -0.10897054708546634,
                    -0.13466298063586268,
                    -0.060364695043088626
                  ],
                  "yaxis": "y"
                },
                {
                  "customdata": [
                    [
                      0.13092395898752457,
                      0.14855471263834089,
                      94
                    ],
                    [
                      0.14309022913150204,
                      0.059857461716593445,
                      95
                    ],
                    [
                      0.13423584520644197,
                      0.10811057430051446,
                      96
                    ],
                    [
                      0.24714133726292736,
                      -0.041331015398885354,
                      97
                    ],
                    [
                      -0.012805548363666302,
                      0.044784635171970885,
                      98
                    ],
                    [
                      0.0562261293393988,
                      0.04071245300437103,
                      99
                    ],
                    [
                      0.1902603220168117,
                      0.18655723696381424,
                      100
                    ],
                    [
                      -0.008294750558502387,
                      0.06355874004885168,
                      101
                    ],
                    [
                      0.08952937035422093,
                      -0.03470403928675586,
                      102
                    ],
                    [
                      0.20772642064109673,
                      0.1870447265667537,
                      103
                    ],
                    [
                      0.06568763271646394,
                      -0.12487576667317844,
                      104
                    ],
                    [
                      -0.016957503074820662,
                      -0.04336217727413014,
                      105
                    ],
                    [
                      0.005660971293134712,
                      0.06320608971104552,
                      106
                    ],
                    [
                      -0.022088149409298884,
                      0.03279564109240908,
                      107
                    ],
                    [
                      0.1759207551820848,
                      0.04401726284568089,
                      108
                    ],
                    [
                      -0.014876690510760755,
                      0.03238695226311248,
                      109
                    ],
                    [
                      0.10737856308339509,
                      -0.07715125215473498,
                      110
                    ],
                    [
                      0.03528327243576922,
                      0.034841478674286795,
                      111
                    ],
                    [
                      0.0646224069037528,
                      0.02058910160604863,
                      112
                    ],
                    [
                      0.4027829161926133,
                      0.44116860027782195,
                      113
                    ],
                    [
                      0.462193342385289,
                      0.465895019803019,
                      114
                    ],
                    [
                      0.4693551583496514,
                      0.4541773709882626,
                      115
                    ],
                    [
                      -0.09987257222990858,
                      0.08130639849965396,
                      116
                    ],
                    [
                      0.22685226820305424,
                      0.0997955216968428,
                      117
                    ],
                    [
                      0.13151739554696748,
                      0.09357339368201434,
                      118
                    ],
                    [
                      0.05193157911701281,
                      0.07167932654306439,
                      119
                    ],
                    [
                      0.32671837745481225,
                      0.18505397294053705,
                      120
                    ],
                    [
                      -0.001525261239798077,
                      -0.0700371163668533,
                      121
                    ],
                    [
                      0.08313693198963601,
                      0.07971837307291872,
                      122
                    ],
                    [
                      0.11214888120377692,
                      0.06275574052582451,
                      123
                    ],
                    [
                      0.12957866304418025,
                      0.02633962090289236,
                      124
                    ],
                    [
                      0.35249299417279223,
                      0.13602679429206257,
                      125
                    ],
                    [
                      0.1503539383895991,
                      -0.05724675446848679,
                      126
                    ],
                    [
                      0.23251863828343028,
                      0.14165567664574902,
                      127
                    ],
                    [
                      0.08253218758376853,
                      -0.0012941469645058575,
                      128
                    ],
                    [
                      0.1354067990628705,
                      0.03680230255246764,
                      129
                    ],
                    [
                      0.032219782870762666,
                      -0.04244100440043466,
                      130
                    ],
                    [
                      -0.09110956156698788,
                      -0.05766116026853955,
                      131
                    ],
                    [
                      0.12528247771862752,
                      0.15141507944917873,
                      132
                    ]
                  ],
                  "hovertemplate": "job=data scientist<br>pc_0=%{customdata[0]}<br>pc_1=%{customdata[1]}<br>index=%{customdata[2]}<extra></extra>",
                  "legendgroup": "data scientist",
                  "marker": {
                    "color": "#00cc96",
                    "symbol": "circle"
                  },
                  "mode": "markers",
                  "name": "data scientist",
                  "orientation": "v",
                  "showlegend": true,
                  "type": "scatter",
                  "x": [
                    0.13092395898752457,
                    0.14309022913150204,
                    0.13423584520644197,
                    0.24714133726292736,
                    -0.012805548363666302,
                    0.0562261293393988,
                    0.1902603220168117,
                    -0.008294750558502387,
                    0.08952937035422093,
                    0.20772642064109673,
                    0.06568763271646394,
                    -0.016957503074820662,
                    0.005660971293134712,
                    -0.022088149409298884,
                    0.1759207551820848,
                    -0.014876690510760755,
                    0.10737856308339509,
                    0.03528327243576922,
                    0.0646224069037528,
                    0.4027829161926133,
                    0.462193342385289,
                    0.4693551583496514,
                    -0.09987257222990858,
                    0.22685226820305424,
                    0.13151739554696748,
                    0.05193157911701281,
                    0.32671837745481225,
                    -0.001525261239798077,
                    0.08313693198963601,
                    0.11214888120377692,
                    0.12957866304418025,
                    0.35249299417279223,
                    0.1503539383895991,
                    0.23251863828343028,
                    0.08253218758376853,
                    0.1354067990628705,
                    0.032219782870762666,
                    -0.09110956156698788,
                    0.12528247771862752
                  ],
                  "xaxis": "x",
                  "y": [
                    0.14855471263834089,
                    0.059857461716593445,
                    0.10811057430051446,
                    -0.041331015398885354,
                    0.044784635171970885,
                    0.04071245300437103,
                    0.18655723696381424,
                    0.06355874004885168,
                    -0.03470403928675586,
                    0.1870447265667537,
                    -0.12487576667317844,
                    -0.04336217727413014,
                    0.06320608971104552,
                    0.03279564109240908,
                    0.04401726284568089,
                    0.03238695226311248,
                    -0.07715125215473498,
                    0.034841478674286795,
                    0.02058910160604863,
                    0.44116860027782195,
                    0.465895019803019,
                    0.4541773709882626,
                    0.08130639849965396,
                    0.0997955216968428,
                    0.09357339368201434,
                    0.07167932654306439,
                    0.18505397294053705,
                    -0.0700371163668533,
                    0.07971837307291872,
                    0.06275574052582451,
                    0.02633962090289236,
                    0.13602679429206257,
                    -0.05724675446848679,
                    0.14165567664574902,
                    -0.0012941469645058575,
                    0.03680230255246764,
                    -0.04244100440043466,
                    -0.05766116026853955,
                    0.15141507944917873
                  ],
                  "yaxis": "y"
                }
              ],
              "layout": {
                "legend": {
                  "title": {
                    "text": "job"
                  },
                  "tracegroupgap": 0
                },
                "margin": {
                  "t": 60
                },
                "template": {
                  "data": {
                    "bar": [
                      {
                        "error_x": {
                          "color": "#2a3f5f"
                        },
                        "error_y": {
                          "color": "#2a3f5f"
                        },
                        "marker": {
                          "line": {
                            "color": "#E5ECF6",
                            "width": 0.5
                          }
                        },
                        "type": "bar"
                      }
                    ],
                    "barpolar": [
                      {
                        "marker": {
                          "line": {
                            "color": "#E5ECF6",
                            "width": 0.5
                          }
                        },
                        "type": "barpolar"
                      }
                    ],
                    "carpet": [
                      {
                        "aaxis": {
                          "endlinecolor": "#2a3f5f",
                          "gridcolor": "white",
                          "linecolor": "white",
                          "minorgridcolor": "white",
                          "startlinecolor": "#2a3f5f"
                        },
                        "baxis": {
                          "endlinecolor": "#2a3f5f",
                          "gridcolor": "white",
                          "linecolor": "white",
                          "minorgridcolor": "white",
                          "startlinecolor": "#2a3f5f"
                        },
                        "type": "carpet"
                      }
                    ],
                    "choropleth": [
                      {
                        "colorbar": {
                          "outlinewidth": 0,
                          "ticks": ""
                        },
                        "type": "choropleth"
                      }
                    ],
                    "contour": [
                      {
                        "colorbar": {
                          "outlinewidth": 0,
                          "ticks": ""
                        },
                        "colorscale": [
                          [
                            0,
                            "#0d0887"
                          ],
                          [
                            0.1111111111111111,
                            "#46039f"
                          ],
                          [
                            0.2222222222222222,
                            "#7201a8"
                          ],
                          [
                            0.3333333333333333,
                            "#9c179e"
                          ],
                          [
                            0.4444444444444444,
                            "#bd3786"
                          ],
                          [
                            0.5555555555555556,
                            "#d8576b"
                          ],
                          [
                            0.6666666666666666,
                            "#ed7953"
                          ],
                          [
                            0.7777777777777778,
                            "#fb9f3a"
                          ],
                          [
                            0.8888888888888888,
                            "#fdca26"
                          ],
                          [
                            1,
                            "#f0f921"
                          ]
                        ],
                        "type": "contour"
                      }
                    ],
                    "contourcarpet": [
                      {
                        "colorbar": {
                          "outlinewidth": 0,
                          "ticks": ""
                        },
                        "type": "contourcarpet"
                      }
                    ],
                    "heatmap": [
                      {
                        "colorbar": {
                          "outlinewidth": 0,
                          "ticks": ""
                        },
                        "colorscale": [
                          [
                            0,
                            "#0d0887"
                          ],
                          [
                            0.1111111111111111,
                            "#46039f"
                          ],
                          [
                            0.2222222222222222,
                            "#7201a8"
                          ],
                          [
                            0.3333333333333333,
                            "#9c179e"
                          ],
                          [
                            0.4444444444444444,
                            "#bd3786"
                          ],
                          [
                            0.5555555555555556,
                            "#d8576b"
                          ],
                          [
                            0.6666666666666666,
                            "#ed7953"
                          ],
                          [
                            0.7777777777777778,
                            "#fb9f3a"
                          ],
                          [
                            0.8888888888888888,
                            "#fdca26"
                          ],
                          [
                            1,
                            "#f0f921"
                          ]
                        ],
                        "type": "heatmap"
                      }
                    ],
                    "heatmapgl": [
                      {
                        "colorbar": {
                          "outlinewidth": 0,
                          "ticks": ""
                        },
                        "colorscale": [
                          [
                            0,
                            "#0d0887"
                          ],
                          [
                            0.1111111111111111,
                            "#46039f"
                          ],
                          [
                            0.2222222222222222,
                            "#7201a8"
                          ],
                          [
                            0.3333333333333333,
                            "#9c179e"
                          ],
                          [
                            0.4444444444444444,
                            "#bd3786"
                          ],
                          [
                            0.5555555555555556,
                            "#d8576b"
                          ],
                          [
                            0.6666666666666666,
                            "#ed7953"
                          ],
                          [
                            0.7777777777777778,
                            "#fb9f3a"
                          ],
                          [
                            0.8888888888888888,
                            "#fdca26"
                          ],
                          [
                            1,
                            "#f0f921"
                          ]
                        ],
                        "type": "heatmapgl"
                      }
                    ],
                    "histogram": [
                      {
                        "marker": {
                          "colorbar": {
                            "outlinewidth": 0,
                            "ticks": ""
                          }
                        },
                        "type": "histogram"
                      }
                    ],
                    "histogram2d": [
                      {
                        "colorbar": {
                          "outlinewidth": 0,
                          "ticks": ""
                        },
                        "colorscale": [
                          [
                            0,
                            "#0d0887"
                          ],
                          [
                            0.1111111111111111,
                            "#46039f"
                          ],
                          [
                            0.2222222222222222,
                            "#7201a8"
                          ],
                          [
                            0.3333333333333333,
                            "#9c179e"
                          ],
                          [
                            0.4444444444444444,
                            "#bd3786"
                          ],
                          [
                            0.5555555555555556,
                            "#d8576b"
                          ],
                          [
                            0.6666666666666666,
                            "#ed7953"
                          ],
                          [
                            0.7777777777777778,
                            "#fb9f3a"
                          ],
                          [
                            0.8888888888888888,
                            "#fdca26"
                          ],
                          [
                            1,
                            "#f0f921"
                          ]
                        ],
                        "type": "histogram2d"
                      }
                    ],
                    "histogram2dcontour": [
                      {
                        "colorbar": {
                          "outlinewidth": 0,
                          "ticks": ""
                        },
                        "colorscale": [
                          [
                            0,
                            "#0d0887"
                          ],
                          [
                            0.1111111111111111,
                            "#46039f"
                          ],
                          [
                            0.2222222222222222,
                            "#7201a8"
                          ],
                          [
                            0.3333333333333333,
                            "#9c179e"
                          ],
                          [
                            0.4444444444444444,
                            "#bd3786"
                          ],
                          [
                            0.5555555555555556,
                            "#d8576b"
                          ],
                          [
                            0.6666666666666666,
                            "#ed7953"
                          ],
                          [
                            0.7777777777777778,
                            "#fb9f3a"
                          ],
                          [
                            0.8888888888888888,
                            "#fdca26"
                          ],
                          [
                            1,
                            "#f0f921"
                          ]
                        ],
                        "type": "histogram2dcontour"
                      }
                    ],
                    "mesh3d": [
                      {
                        "colorbar": {
                          "outlinewidth": 0,
                          "ticks": ""
                        },
                        "type": "mesh3d"
                      }
                    ],
                    "parcoords": [
                      {
                        "line": {
                          "colorbar": {
                            "outlinewidth": 0,
                            "ticks": ""
                          }
                        },
                        "type": "parcoords"
                      }
                    ],
                    "pie": [
                      {
                        "automargin": true,
                        "type": "pie"
                      }
                    ],
                    "scatter": [
                      {
                        "marker": {
                          "colorbar": {
                            "outlinewidth": 0,
                            "ticks": ""
                          }
                        },
                        "type": "scatter"
                      }
                    ],
                    "scatter3d": [
                      {
                        "line": {
                          "colorbar": {
                            "outlinewidth": 0,
                            "ticks": ""
                          }
                        },
                        "marker": {
                          "colorbar": {
                            "outlinewidth": 0,
                            "ticks": ""
                          }
                        },
                        "type": "scatter3d"
                      }
                    ],
                    "scattercarpet": [
                      {
                        "marker": {
                          "colorbar": {
                            "outlinewidth": 0,
                            "ticks": ""
                          }
                        },
                        "type": "scattercarpet"
                      }
                    ],
                    "scattergeo": [
                      {
                        "marker": {
                          "colorbar": {
                            "outlinewidth": 0,
                            "ticks": ""
                          }
                        },
                        "type": "scattergeo"
                      }
                    ],
                    "scattergl": [
                      {
                        "marker": {
                          "colorbar": {
                            "outlinewidth": 0,
                            "ticks": ""
                          }
                        },
                        "type": "scattergl"
                      }
                    ],
                    "scattermapbox": [
                      {
                        "marker": {
                          "colorbar": {
                            "outlinewidth": 0,
                            "ticks": ""
                          }
                        },
                        "type": "scattermapbox"
                      }
                    ],
                    "scatterpolar": [
                      {
                        "marker": {
                          "colorbar": {
                            "outlinewidth": 0,
                            "ticks": ""
                          }
                        },
                        "type": "scatterpolar"
                      }
                    ],
                    "scatterpolargl": [
                      {
                        "marker": {
                          "colorbar": {
                            "outlinewidth": 0,
                            "ticks": ""
                          }
                        },
                        "type": "scatterpolargl"
                      }
                    ],
                    "scatterternary": [
                      {
                        "marker": {
                          "colorbar": {
                            "outlinewidth": 0,
                            "ticks": ""
                          }
                        },
                        "type": "scatterternary"
                      }
                    ],
                    "surface": [
                      {
                        "colorbar": {
                          "outlinewidth": 0,
                          "ticks": ""
                        },
                        "colorscale": [
                          [
                            0,
                            "#0d0887"
                          ],
                          [
                            0.1111111111111111,
                            "#46039f"
                          ],
                          [
                            0.2222222222222222,
                            "#7201a8"
                          ],
                          [
                            0.3333333333333333,
                            "#9c179e"
                          ],
                          [
                            0.4444444444444444,
                            "#bd3786"
                          ],
                          [
                            0.5555555555555556,
                            "#d8576b"
                          ],
                          [
                            0.6666666666666666,
                            "#ed7953"
                          ],
                          [
                            0.7777777777777778,
                            "#fb9f3a"
                          ],
                          [
                            0.8888888888888888,
                            "#fdca26"
                          ],
                          [
                            1,
                            "#f0f921"
                          ]
                        ],
                        "type": "surface"
                      }
                    ],
                    "table": [
                      {
                        "cells": {
                          "fill": {
                            "color": "#EBF0F8"
                          },
                          "line": {
                            "color": "white"
                          }
                        },
                        "header": {
                          "fill": {
                            "color": "#C8D4E3"
                          },
                          "line": {
                            "color": "white"
                          }
                        },
                        "type": "table"
                      }
                    ]
                  },
                  "layout": {
                    "annotationdefaults": {
                      "arrowcolor": "#2a3f5f",
                      "arrowhead": 0,
                      "arrowwidth": 1
                    },
                    "coloraxis": {
                      "colorbar": {
                        "outlinewidth": 0,
                        "ticks": ""
                      }
                    },
                    "colorscale": {
                      "diverging": [
                        [
                          0,
                          "#8e0152"
                        ],
                        [
                          0.1,
                          "#c51b7d"
                        ],
                        [
                          0.2,
                          "#de77ae"
                        ],
                        [
                          0.3,
                          "#f1b6da"
                        ],
                        [
                          0.4,
                          "#fde0ef"
                        ],
                        [
                          0.5,
                          "#f7f7f7"
                        ],
                        [
                          0.6,
                          "#e6f5d0"
                        ],
                        [
                          0.7,
                          "#b8e186"
                        ],
                        [
                          0.8,
                          "#7fbc41"
                        ],
                        [
                          0.9,
                          "#4d9221"
                        ],
                        [
                          1,
                          "#276419"
                        ]
                      ],
                      "sequential": [
                        [
                          0,
                          "#0d0887"
                        ],
                        [
                          0.1111111111111111,
                          "#46039f"
                        ],
                        [
                          0.2222222222222222,
                          "#7201a8"
                        ],
                        [
                          0.3333333333333333,
                          "#9c179e"
                        ],
                        [
                          0.4444444444444444,
                          "#bd3786"
                        ],
                        [
                          0.5555555555555556,
                          "#d8576b"
                        ],
                        [
                          0.6666666666666666,
                          "#ed7953"
                        ],
                        [
                          0.7777777777777778,
                          "#fb9f3a"
                        ],
                        [
                          0.8888888888888888,
                          "#fdca26"
                        ],
                        [
                          1,
                          "#f0f921"
                        ]
                      ],
                      "sequentialminus": [
                        [
                          0,
                          "#0d0887"
                        ],
                        [
                          0.1111111111111111,
                          "#46039f"
                        ],
                        [
                          0.2222222222222222,
                          "#7201a8"
                        ],
                        [
                          0.3333333333333333,
                          "#9c179e"
                        ],
                        [
                          0.4444444444444444,
                          "#bd3786"
                        ],
                        [
                          0.5555555555555556,
                          "#d8576b"
                        ],
                        [
                          0.6666666666666666,
                          "#ed7953"
                        ],
                        [
                          0.7777777777777778,
                          "#fb9f3a"
                        ],
                        [
                          0.8888888888888888,
                          "#fdca26"
                        ],
                        [
                          1,
                          "#f0f921"
                        ]
                      ]
                    },
                    "colorway": [
                      "#636efa",
                      "#EF553B",
                      "#00cc96",
                      "#ab63fa",
                      "#FFA15A",
                      "#19d3f3",
                      "#FF6692",
                      "#B6E880",
                      "#FF97FF",
                      "#FECB52"
                    ],
                    "font": {
                      "color": "#2a3f5f"
                    },
                    "geo": {
                      "bgcolor": "white",
                      "lakecolor": "white",
                      "landcolor": "#E5ECF6",
                      "showlakes": true,
                      "showland": true,
                      "subunitcolor": "white"
                    },
                    "hoverlabel": {
                      "align": "left"
                    },
                    "hovermode": "closest",
                    "mapbox": {
                      "style": "light"
                    },
                    "paper_bgcolor": "white",
                    "plot_bgcolor": "#E5ECF6",
                    "polar": {
                      "angularaxis": {
                        "gridcolor": "white",
                        "linecolor": "white",
                        "ticks": ""
                      },
                      "bgcolor": "#E5ECF6",
                      "radialaxis": {
                        "gridcolor": "white",
                        "linecolor": "white",
                        "ticks": ""
                      }
                    },
                    "scene": {
                      "xaxis": {
                        "backgroundcolor": "#E5ECF6",
                        "gridcolor": "white",
                        "gridwidth": 2,
                        "linecolor": "white",
                        "showbackground": true,
                        "ticks": "",
                        "zerolinecolor": "white"
                      },
                      "yaxis": {
                        "backgroundcolor": "#E5ECF6",
                        "gridcolor": "white",
                        "gridwidth": 2,
                        "linecolor": "white",
                        "showbackground": true,
                        "ticks": "",
                        "zerolinecolor": "white"
                      },
                      "zaxis": {
                        "backgroundcolor": "#E5ECF6",
                        "gridcolor": "white",
                        "gridwidth": 2,
                        "linecolor": "white",
                        "showbackground": true,
                        "ticks": "",
                        "zerolinecolor": "white"
                      }
                    },
                    "shapedefaults": {
                      "line": {
                        "color": "#2a3f5f"
                      }
                    },
                    "ternary": {
                      "aaxis": {
                        "gridcolor": "white",
                        "linecolor": "white",
                        "ticks": ""
                      },
                      "baxis": {
                        "gridcolor": "white",
                        "linecolor": "white",
                        "ticks": ""
                      },
                      "bgcolor": "#E5ECF6",
                      "caxis": {
                        "gridcolor": "white",
                        "linecolor": "white",
                        "ticks": ""
                      }
                    },
                    "title": {
                      "x": 0.05
                    },
                    "xaxis": {
                      "automargin": true,
                      "gridcolor": "white",
                      "linecolor": "white",
                      "ticks": "",
                      "title": {
                        "standoff": 15
                      },
                      "zerolinecolor": "white",
                      "zerolinewidth": 2
                    },
                    "yaxis": {
                      "automargin": true,
                      "gridcolor": "white",
                      "linecolor": "white",
                      "ticks": "",
                      "title": {
                        "standoff": 15
                      },
                      "zerolinecolor": "white",
                      "zerolinewidth": 2
                    }
                  }
                },
                "title": {
                  "text": "first two PC scores of tfidf matrix"
                },
                "xaxis": {
                  "anchor": "y",
                  "domain": [
                    0,
                    1
                  ],
                  "title": {
                    "text": "pc_0"
                  }
                },
                "yaxis": {
                  "anchor": "x",
                  "domain": [
                    0,
                    1
                  ],
                  "title": {
                    "text": "pc_1"
                  }
                }
              }
            },
            "text/html": [
              "<div>\n",
              "        \n",
              "        \n",
              "            <div id=\"6fd1bb31-2401-4414-adb3-1562c30eb06b\" class=\"plotly-graph-div\" style=\"height:525px; width:100%;\"></div>\n",
              "            <script type=\"text/javascript\">\n",
              "                require([\"plotly\"], function(Plotly) {\n",
              "                    window.PLOTLYENV=window.PLOTLYENV || {};\n",
              "                    \n",
              "                if (document.getElementById(\"6fd1bb31-2401-4414-adb3-1562c30eb06b\")) {\n",
              "                    Plotly.newPlot(\n",
              "                        '6fd1bb31-2401-4414-adb3-1562c30eb06b',\n",
              "                        [{\"customdata\": [[-0.17497271651182728, 0.1033789777161686, 0.0], [-0.06124918901524485, 0.07537578820411663, 1.0], [-0.30726307698078703, 0.10288514753459395, 2.0], [-0.11688448469883603, 0.058437771800120504, 3.0], [0.09051295877873011, 0.05500890741806748, 4.0], [-0.1249248310534571, -0.016075012117082347, 5.0], [-0.015527713668021657, 0.04742057106161356, 6.0], [-0.12377812617842686, 0.0220257538136047, 7.0], [-0.021763053104446446, -0.07135719499502007, 8.0], [-0.1382766850398688, 0.031052653960732972, 9.0], [-0.42977770845894286, 0.2723791644451741, 10.0], [-0.10991323432442278, 0.09177985285468436, 11.0], [-0.005391473621555142, 0.11145311709494427, 12.0], [-0.024413523894219125, -0.07632516432228771, 13.0], [-0.16126789500734295, -0.021507457994925396, 14.0], [0.03592455909228136, -0.017582463181213717, 15.0], [-0.22948154523493372, 0.04569910460433318, 16.0], [-0.0461987734928188, 0.01147825722792677, 17.0], [-0.33162266595612294, 0.2000207516452946, 18.0], [-0.023130150272551993, 0.03757231618243347, 19.0], [-0.05465197385762007, 0.053621772216877105, 20.0], [-0.24016226317146608, 0.13264305189756498, 21.0], [-0.12778149200952915, 0.06848289521719746, 22.0], [-0.3929544878981121, 0.1671259743717188, 23.0], [-0.14274748785365476, 0.08936326610965951, 24.0], [-0.4303691948807583, 0.28435256223884814, 25.0], [0.1773420237525741, 0.26333111155124667, 26.0], [-0.15773406689726602, 0.02234283439441463, 27.0], [-0.28667548935355114, 0.08774136952854009, 28.0], [-0.05556889608743761, -0.0021590582155150504, 29.0], [-0.12824357980696535, 0.06544250116702476, 30.0], [-0.22100493125264215, 0.040149891218298414, 31.0], [-0.15330399330052918, 0.0793845305606006, 32.0], [0.023450573199487335, -0.06541183022729083, 33.0], [-0.12906853189362186, 0.03557120808078271, 34.0], [0.04120758757102087, -0.02652057738147962, 35.0], [-0.19146696789569334, 0.05253040864022309, 36.0], [-0.1473950725825625, 0.008445762488737149, 37.0], [-0.11774863000493827, 0.06875099358349585, 38.0], [-0.16186195375440865, 0.10744708337791829, 39.0], [-0.3184080303611615, 0.13865716012555881, 40.0], [-0.11019960805046511, 0.02606763987220426, 41.0], [-0.16267334713165724, 0.019272117987606148, 42.0], [-0.21751175528201108, 0.05132117244106723, 43.0], [-0.16613604382358726, -0.034396576652488076, 44.0], [-0.3144623167332512, 0.12889011710291662, 45.0], [-0.015907820701797304, 0.05489877462340725, 46.0], [0.004340657760589619, -0.04099037855017587, 47.0], [-0.09822424234748907, -0.08346496150949793, 48.0], [0.03677009931624494, 0.01198668884044194, 49.0], [-0.12288565865815912, 0.014328927452819122, 50.0]], \"hovertemplate\": \"job=data analyst<br>pc_0=%{customdata[0]}<br>pc_1=%{customdata[1]}<br>index=%{customdata[2]}<extra></extra>\", \"legendgroup\": \"data analyst\", \"marker\": {\"color\": \"#636efa\", \"symbol\": \"circle\"}, \"mode\": \"markers\", \"name\": \"data analyst\", \"orientation\": \"v\", \"showlegend\": true, \"type\": \"scatter\", \"x\": [-0.17497271651182728, -0.06124918901524485, -0.30726307698078703, -0.11688448469883603, 0.09051295877873011, -0.1249248310534571, -0.015527713668021657, -0.12377812617842686, -0.021763053104446446, -0.1382766850398688, -0.42977770845894286, -0.10991323432442278, -0.005391473621555142, -0.024413523894219125, -0.16126789500734295, 0.03592455909228136, -0.22948154523493372, -0.0461987734928188, -0.33162266595612294, -0.023130150272551993, -0.05465197385762007, -0.24016226317146608, -0.12778149200952915, -0.3929544878981121, -0.14274748785365476, -0.4303691948807583, 0.1773420237525741, -0.15773406689726602, -0.28667548935355114, -0.05556889608743761, -0.12824357980696535, -0.22100493125264215, -0.15330399330052918, 0.023450573199487335, -0.12906853189362186, 0.04120758757102087, -0.19146696789569334, -0.1473950725825625, -0.11774863000493827, -0.16186195375440865, -0.3184080303611615, -0.11019960805046511, -0.16267334713165724, -0.21751175528201108, -0.16613604382358726, -0.3144623167332512, -0.015907820701797304, 0.004340657760589619, -0.09822424234748907, 0.03677009931624494, -0.12288565865815912], \"xaxis\": \"x\", \"y\": [0.1033789777161686, 0.07537578820411663, 0.10288514753459395, 0.058437771800120504, 0.05500890741806748, -0.016075012117082347, 0.04742057106161356, 0.0220257538136047, -0.07135719499502007, 0.031052653960732972, 0.2723791644451741, 0.09177985285468436, 0.11145311709494427, -0.07632516432228771, -0.021507457994925396, -0.017582463181213717, 0.04569910460433318, 0.01147825722792677, 0.2000207516452946, 0.03757231618243347, 0.053621772216877105, 0.13264305189756498, 0.06848289521719746, 0.1671259743717188, 0.08936326610965951, 0.28435256223884814, 0.26333111155124667, 0.02234283439441463, 0.08774136952854009, -0.0021590582155150504, 0.06544250116702476, 0.040149891218298414, 0.0793845305606006, -0.06541183022729083, 0.03557120808078271, -0.02652057738147962, 0.05253040864022309, 0.008445762488737149, 0.06875099358349585, 0.10744708337791829, 0.13865716012555881, 0.02606763987220426, 0.019272117987606148, 0.05132117244106723, -0.034396576652488076, 0.12889011710291662, 0.05489877462340725, -0.04099037855017587, -0.08346496150949793, 0.01198668884044194, 0.014328927452819122], \"yaxis\": \"y\"}, {\"customdata\": [[0.008328988119481155, -0.30426139489498827, 51.0], [0.11516948757700553, -0.06789081854790452, 52.0], [0.023306166620652522, 0.07015116506724453, 53.0], [0.12527875435549554, -0.05288866602357367, 54.0], [0.13708408048556686, -0.15083390947911407, 55.0], [0.1608754050818627, -0.12970977826241858, 56.0], [0.12262369816020774, -0.15318625058766513, 57.0], [-0.004049662424236321, -0.1065159481724707, 58.0], [0.2417905199343684, -0.09872544873691523, 59.0], [0.21600003858596423, -0.11963536282526228, 60.0], [0.1969807338681792, -0.0814563502322683, 61.0], [0.08871984429214186, -0.10242258057365147, 62.0], [0.03552690342367507, -0.30854132269864215, 63.0], [0.08340689843487127, -0.1419156250639123, 64.0], [-0.017929863121912866, -0.21488498131320796, 65.0], [0.004445863333189974, 0.07567800932632954, 66.0], [0.011848777898067838, -0.26732088062879855, 67.0], [0.14478082510259352, -0.10593784671511541, 68.0], [-0.036323828178048335, -0.08936756622094362, 69.0], [-0.041816694817395715, 0.028782791448887717, 70.0], [-0.0760353879488014, -0.2244080583621574, 71.0], [-0.09876560639748154, -0.11577538292861775, 72.0], [0.08272056083316942, -0.1797951409841533, 73.0], [0.07260107317438118, -0.3354877757883147, 74.0], [0.10545035217557376, -0.2904961876124433, 75.0], [-0.03416680366927054, -0.2456991099666511, 76.0], [0.02394308525072954, -0.12671984429731276, 77.0], [0.0044018677717788226, -0.14144568758673093, 78.0], [0.057584541068654474, -0.10957885615647667, 79.0], [-0.0748773089350146, -0.13663770149303944, 80.0], [-0.06852379688926741, -0.11116811356845759, 81.0], [0.09777312845740756, -0.23466694222565473, 82.0], [-0.028957069256524887, -0.1756227736359037, 83.0], [0.13344544226555688, -0.1573191221106858, 84.0], [0.06069202810386899, -0.33035967595474475, 85.0], [-0.021312772622632148, -0.19541577844002356, 86.0], [0.006314943259255478, -0.063632282551172, 87.0], [-0.025146101588210065, -0.07107278447476145, 88.0], [0.07419634363504275, -0.05578987950489008, 89.0], [-0.02919168384629239, -0.0006310151846010341, 90.0], [0.0192990108053419, -0.10897054708546634, 91.0], [-0.042713394641802516, -0.13466298063586268, 92.0], [-0.046522674273585425, -0.060364695043088626, 93.0]], \"hovertemplate\": \"job=data engineer<br>pc_0=%{customdata[0]}<br>pc_1=%{customdata[1]}<br>index=%{customdata[2]}<extra></extra>\", \"legendgroup\": \"data engineer\", \"marker\": {\"color\": \"#EF553B\", \"symbol\": \"circle\"}, \"mode\": \"markers\", \"name\": \"data engineer\", \"orientation\": \"v\", \"showlegend\": true, \"type\": \"scatter\", \"x\": [0.008328988119481155, 0.11516948757700553, 0.023306166620652522, 0.12527875435549554, 0.13708408048556686, 0.1608754050818627, 0.12262369816020774, -0.004049662424236321, 0.2417905199343684, 0.21600003858596423, 0.1969807338681792, 0.08871984429214186, 0.03552690342367507, 0.08340689843487127, -0.017929863121912866, 0.004445863333189974, 0.011848777898067838, 0.14478082510259352, -0.036323828178048335, -0.041816694817395715, -0.0760353879488014, -0.09876560639748154, 0.08272056083316942, 0.07260107317438118, 0.10545035217557376, -0.03416680366927054, 0.02394308525072954, 0.0044018677717788226, 0.057584541068654474, -0.0748773089350146, -0.06852379688926741, 0.09777312845740756, -0.028957069256524887, 0.13344544226555688, 0.06069202810386899, -0.021312772622632148, 0.006314943259255478, -0.025146101588210065, 0.07419634363504275, -0.02919168384629239, 0.0192990108053419, -0.042713394641802516, -0.046522674273585425], \"xaxis\": \"x\", \"y\": [-0.30426139489498827, -0.06789081854790452, 0.07015116506724453, -0.05288866602357367, -0.15083390947911407, -0.12970977826241858, -0.15318625058766513, -0.1065159481724707, -0.09872544873691523, -0.11963536282526228, -0.0814563502322683, -0.10242258057365147, -0.30854132269864215, -0.1419156250639123, -0.21488498131320796, 0.07567800932632954, -0.26732088062879855, -0.10593784671511541, -0.08936756622094362, 0.028782791448887717, -0.2244080583621574, -0.11577538292861775, -0.1797951409841533, -0.3354877757883147, -0.2904961876124433, -0.2456991099666511, -0.12671984429731276, -0.14144568758673093, -0.10957885615647667, -0.13663770149303944, -0.11116811356845759, -0.23466694222565473, -0.1756227736359037, -0.1573191221106858, -0.33035967595474475, -0.19541577844002356, -0.063632282551172, -0.07107278447476145, -0.05578987950489008, -0.0006310151846010341, -0.10897054708546634, -0.13466298063586268, -0.060364695043088626], \"yaxis\": \"y\"}, {\"customdata\": [[0.13092395898752457, 0.14855471263834089, 94.0], [0.14309022913150204, 0.059857461716593445, 95.0], [0.13423584520644197, 0.10811057430051446, 96.0], [0.24714133726292736, -0.041331015398885354, 97.0], [-0.012805548363666302, 0.044784635171970885, 98.0], [0.0562261293393988, 0.04071245300437103, 99.0], [0.1902603220168117, 0.18655723696381424, 100.0], [-0.008294750558502387, 0.06355874004885168, 101.0], [0.08952937035422093, -0.03470403928675586, 102.0], [0.20772642064109673, 0.1870447265667537, 103.0], [0.06568763271646394, -0.12487576667317844, 104.0], [-0.016957503074820662, -0.04336217727413014, 105.0], [0.005660971293134712, 0.06320608971104552, 106.0], [-0.022088149409298884, 0.03279564109240908, 107.0], [0.1759207551820848, 0.04401726284568089, 108.0], [-0.014876690510760755, 0.03238695226311248, 109.0], [0.10737856308339509, -0.07715125215473498, 110.0], [0.03528327243576922, 0.034841478674286795, 111.0], [0.0646224069037528, 0.02058910160604863, 112.0], [0.4027829161926133, 0.44116860027782195, 113.0], [0.462193342385289, 0.465895019803019, 114.0], [0.4693551583496514, 0.4541773709882626, 115.0], [-0.09987257222990858, 0.08130639849965396, 116.0], [0.22685226820305424, 0.0997955216968428, 117.0], [0.13151739554696748, 0.09357339368201434, 118.0], [0.05193157911701281, 0.07167932654306439, 119.0], [0.32671837745481225, 0.18505397294053705, 120.0], [-0.001525261239798077, -0.0700371163668533, 121.0], [0.08313693198963601, 0.07971837307291872, 122.0], [0.11214888120377692, 0.06275574052582451, 123.0], [0.12957866304418025, 0.02633962090289236, 124.0], [0.35249299417279223, 0.13602679429206257, 125.0], [0.1503539383895991, -0.05724675446848679, 126.0], [0.23251863828343028, 0.14165567664574902, 127.0], [0.08253218758376853, -0.0012941469645058575, 128.0], [0.1354067990628705, 0.03680230255246764, 129.0], [0.032219782870762666, -0.04244100440043466, 130.0], [-0.09110956156698788, -0.05766116026853955, 131.0], [0.12528247771862752, 0.15141507944917873, 132.0]], \"hovertemplate\": \"job=data scientist<br>pc_0=%{customdata[0]}<br>pc_1=%{customdata[1]}<br>index=%{customdata[2]}<extra></extra>\", \"legendgroup\": \"data scientist\", \"marker\": {\"color\": \"#00cc96\", \"symbol\": \"circle\"}, \"mode\": \"markers\", \"name\": \"data scientist\", \"orientation\": \"v\", \"showlegend\": true, \"type\": \"scatter\", \"x\": [0.13092395898752457, 0.14309022913150204, 0.13423584520644197, 0.24714133726292736, -0.012805548363666302, 0.0562261293393988, 0.1902603220168117, -0.008294750558502387, 0.08952937035422093, 0.20772642064109673, 0.06568763271646394, -0.016957503074820662, 0.005660971293134712, -0.022088149409298884, 0.1759207551820848, -0.014876690510760755, 0.10737856308339509, 0.03528327243576922, 0.0646224069037528, 0.4027829161926133, 0.462193342385289, 0.4693551583496514, -0.09987257222990858, 0.22685226820305424, 0.13151739554696748, 0.05193157911701281, 0.32671837745481225, -0.001525261239798077, 0.08313693198963601, 0.11214888120377692, 0.12957866304418025, 0.35249299417279223, 0.1503539383895991, 0.23251863828343028, 0.08253218758376853, 0.1354067990628705, 0.032219782870762666, -0.09110956156698788, 0.12528247771862752], \"xaxis\": \"x\", \"y\": [0.14855471263834089, 0.059857461716593445, 0.10811057430051446, -0.041331015398885354, 0.044784635171970885, 0.04071245300437103, 0.18655723696381424, 0.06355874004885168, -0.03470403928675586, 0.1870447265667537, -0.12487576667317844, -0.04336217727413014, 0.06320608971104552, 0.03279564109240908, 0.04401726284568089, 0.03238695226311248, -0.07715125215473498, 0.034841478674286795, 0.02058910160604863, 0.44116860027782195, 0.465895019803019, 0.4541773709882626, 0.08130639849965396, 0.0997955216968428, 0.09357339368201434, 0.07167932654306439, 0.18505397294053705, -0.0700371163668533, 0.07971837307291872, 0.06275574052582451, 0.02633962090289236, 0.13602679429206257, -0.05724675446848679, 0.14165567664574902, -0.0012941469645058575, 0.03680230255246764, -0.04244100440043466, -0.05766116026853955, 0.15141507944917873], \"yaxis\": \"y\"}],\n",
              "                        {\"legend\": {\"title\": {\"text\": \"job\"}, \"tracegroupgap\": 0}, \"margin\": {\"t\": 60}, \"template\": {\"data\": {\"bar\": [{\"error_x\": {\"color\": \"#2a3f5f\"}, \"error_y\": {\"color\": \"#2a3f5f\"}, \"marker\": {\"line\": {\"color\": \"#E5ECF6\", \"width\": 0.5}}, \"type\": \"bar\"}], \"barpolar\": [{\"marker\": {\"line\": {\"color\": \"#E5ECF6\", \"width\": 0.5}}, \"type\": \"barpolar\"}], \"carpet\": [{\"aaxis\": {\"endlinecolor\": \"#2a3f5f\", \"gridcolor\": \"white\", \"linecolor\": \"white\", \"minorgridcolor\": \"white\", \"startlinecolor\": \"#2a3f5f\"}, \"baxis\": {\"endlinecolor\": \"#2a3f5f\", \"gridcolor\": \"white\", \"linecolor\": \"white\", \"minorgridcolor\": \"white\", \"startlinecolor\": \"#2a3f5f\"}, \"type\": \"carpet\"}], \"choropleth\": [{\"colorbar\": {\"outlinewidth\": 0, \"ticks\": \"\"}, \"type\": \"choropleth\"}], \"contour\": [{\"colorbar\": {\"outlinewidth\": 0, \"ticks\": \"\"}, \"colorscale\": [[0.0, \"#0d0887\"], [0.1111111111111111, \"#46039f\"], [0.2222222222222222, \"#7201a8\"], [0.3333333333333333, \"#9c179e\"], [0.4444444444444444, \"#bd3786\"], [0.5555555555555556, \"#d8576b\"], [0.6666666666666666, \"#ed7953\"], [0.7777777777777778, \"#fb9f3a\"], [0.8888888888888888, \"#fdca26\"], [1.0, \"#f0f921\"]], \"type\": \"contour\"}], \"contourcarpet\": [{\"colorbar\": {\"outlinewidth\": 0, \"ticks\": \"\"}, \"type\": \"contourcarpet\"}], \"heatmap\": [{\"colorbar\": {\"outlinewidth\": 0, \"ticks\": \"\"}, \"colorscale\": [[0.0, \"#0d0887\"], [0.1111111111111111, \"#46039f\"], [0.2222222222222222, \"#7201a8\"], [0.3333333333333333, \"#9c179e\"], [0.4444444444444444, \"#bd3786\"], [0.5555555555555556, \"#d8576b\"], [0.6666666666666666, \"#ed7953\"], [0.7777777777777778, \"#fb9f3a\"], [0.8888888888888888, \"#fdca26\"], [1.0, \"#f0f921\"]], \"type\": \"heatmap\"}], \"heatmapgl\": [{\"colorbar\": {\"outlinewidth\": 0, \"ticks\": \"\"}, \"colorscale\": [[0.0, \"#0d0887\"], [0.1111111111111111, \"#46039f\"], [0.2222222222222222, \"#7201a8\"], [0.3333333333333333, \"#9c179e\"], [0.4444444444444444, \"#bd3786\"], [0.5555555555555556, \"#d8576b\"], [0.6666666666666666, \"#ed7953\"], [0.7777777777777778, \"#fb9f3a\"], [0.8888888888888888, \"#fdca26\"], [1.0, \"#f0f921\"]], \"type\": \"heatmapgl\"}], \"histogram\": [{\"marker\": {\"colorbar\": {\"outlinewidth\": 0, \"ticks\": \"\"}}, \"type\": \"histogram\"}], \"histogram2d\": [{\"colorbar\": {\"outlinewidth\": 0, \"ticks\": \"\"}, \"colorscale\": [[0.0, \"#0d0887\"], [0.1111111111111111, \"#46039f\"], [0.2222222222222222, \"#7201a8\"], [0.3333333333333333, \"#9c179e\"], [0.4444444444444444, \"#bd3786\"], [0.5555555555555556, \"#d8576b\"], [0.6666666666666666, \"#ed7953\"], [0.7777777777777778, \"#fb9f3a\"], [0.8888888888888888, \"#fdca26\"], [1.0, \"#f0f921\"]], \"type\": \"histogram2d\"}], \"histogram2dcontour\": [{\"colorbar\": {\"outlinewidth\": 0, \"ticks\": \"\"}, \"colorscale\": [[0.0, \"#0d0887\"], [0.1111111111111111, \"#46039f\"], [0.2222222222222222, \"#7201a8\"], [0.3333333333333333, \"#9c179e\"], [0.4444444444444444, \"#bd3786\"], [0.5555555555555556, \"#d8576b\"], [0.6666666666666666, \"#ed7953\"], [0.7777777777777778, \"#fb9f3a\"], [0.8888888888888888, \"#fdca26\"], [1.0, \"#f0f921\"]], \"type\": \"histogram2dcontour\"}], \"mesh3d\": [{\"colorbar\": {\"outlinewidth\": 0, \"ticks\": \"\"}, \"type\": \"mesh3d\"}], \"parcoords\": [{\"line\": {\"colorbar\": {\"outlinewidth\": 0, \"ticks\": \"\"}}, \"type\": \"parcoords\"}], \"pie\": [{\"automargin\": true, \"type\": \"pie\"}], \"scatter\": [{\"marker\": {\"colorbar\": {\"outlinewidth\": 0, \"ticks\": \"\"}}, \"type\": \"scatter\"}], \"scatter3d\": [{\"line\": {\"colorbar\": {\"outlinewidth\": 0, \"ticks\": \"\"}}, \"marker\": {\"colorbar\": {\"outlinewidth\": 0, \"ticks\": \"\"}}, \"type\": \"scatter3d\"}], \"scattercarpet\": [{\"marker\": {\"colorbar\": {\"outlinewidth\": 0, \"ticks\": \"\"}}, \"type\": \"scattercarpet\"}], \"scattergeo\": [{\"marker\": {\"colorbar\": {\"outlinewidth\": 0, \"ticks\": \"\"}}, \"type\": \"scattergeo\"}], \"scattergl\": [{\"marker\": {\"colorbar\": {\"outlinewidth\": 0, \"ticks\": \"\"}}, \"type\": \"scattergl\"}], \"scattermapbox\": [{\"marker\": {\"colorbar\": {\"outlinewidth\": 0, \"ticks\": \"\"}}, \"type\": \"scattermapbox\"}], \"scatterpolar\": [{\"marker\": {\"colorbar\": {\"outlinewidth\": 0, \"ticks\": \"\"}}, \"type\": \"scatterpolar\"}], \"scatterpolargl\": [{\"marker\": {\"colorbar\": {\"outlinewidth\": 0, \"ticks\": \"\"}}, \"type\": \"scatterpolargl\"}], \"scatterternary\": [{\"marker\": {\"colorbar\": {\"outlinewidth\": 0, \"ticks\": \"\"}}, \"type\": \"scatterternary\"}], \"surface\": [{\"colorbar\": {\"outlinewidth\": 0, \"ticks\": \"\"}, \"colorscale\": [[0.0, \"#0d0887\"], [0.1111111111111111, \"#46039f\"], [0.2222222222222222, \"#7201a8\"], [0.3333333333333333, \"#9c179e\"], [0.4444444444444444, \"#bd3786\"], [0.5555555555555556, \"#d8576b\"], [0.6666666666666666, \"#ed7953\"], [0.7777777777777778, \"#fb9f3a\"], [0.8888888888888888, \"#fdca26\"], [1.0, \"#f0f921\"]], \"type\": \"surface\"}], \"table\": [{\"cells\": {\"fill\": {\"color\": \"#EBF0F8\"}, \"line\": {\"color\": \"white\"}}, \"header\": {\"fill\": {\"color\": \"#C8D4E3\"}, \"line\": {\"color\": \"white\"}}, \"type\": \"table\"}]}, \"layout\": {\"annotationdefaults\": {\"arrowcolor\": \"#2a3f5f\", \"arrowhead\": 0, \"arrowwidth\": 1}, \"coloraxis\": {\"colorbar\": {\"outlinewidth\": 0, \"ticks\": \"\"}}, \"colorscale\": {\"diverging\": [[0, \"#8e0152\"], [0.1, \"#c51b7d\"], [0.2, \"#de77ae\"], [0.3, \"#f1b6da\"], [0.4, \"#fde0ef\"], [0.5, \"#f7f7f7\"], [0.6, \"#e6f5d0\"], [0.7, \"#b8e186\"], [0.8, \"#7fbc41\"], [0.9, \"#4d9221\"], [1, \"#276419\"]], \"sequential\": [[0.0, \"#0d0887\"], [0.1111111111111111, \"#46039f\"], [0.2222222222222222, \"#7201a8\"], [0.3333333333333333, \"#9c179e\"], [0.4444444444444444, \"#bd3786\"], [0.5555555555555556, \"#d8576b\"], [0.6666666666666666, \"#ed7953\"], [0.7777777777777778, \"#fb9f3a\"], [0.8888888888888888, \"#fdca26\"], [1.0, \"#f0f921\"]], \"sequentialminus\": [[0.0, \"#0d0887\"], [0.1111111111111111, \"#46039f\"], [0.2222222222222222, \"#7201a8\"], [0.3333333333333333, \"#9c179e\"], [0.4444444444444444, \"#bd3786\"], [0.5555555555555556, \"#d8576b\"], [0.6666666666666666, \"#ed7953\"], [0.7777777777777778, \"#fb9f3a\"], [0.8888888888888888, \"#fdca26\"], [1.0, \"#f0f921\"]]}, \"colorway\": [\"#636efa\", \"#EF553B\", \"#00cc96\", \"#ab63fa\", \"#FFA15A\", \"#19d3f3\", \"#FF6692\", \"#B6E880\", \"#FF97FF\", \"#FECB52\"], \"font\": {\"color\": \"#2a3f5f\"}, \"geo\": {\"bgcolor\": \"white\", \"lakecolor\": \"white\", \"landcolor\": \"#E5ECF6\", \"showlakes\": true, \"showland\": true, \"subunitcolor\": \"white\"}, \"hoverlabel\": {\"align\": \"left\"}, \"hovermode\": \"closest\", \"mapbox\": {\"style\": \"light\"}, \"paper_bgcolor\": \"white\", \"plot_bgcolor\": \"#E5ECF6\", \"polar\": {\"angularaxis\": {\"gridcolor\": \"white\", \"linecolor\": \"white\", \"ticks\": \"\"}, \"bgcolor\": \"#E5ECF6\", \"radialaxis\": {\"gridcolor\": \"white\", \"linecolor\": \"white\", \"ticks\": \"\"}}, \"scene\": {\"xaxis\": {\"backgroundcolor\": \"#E5ECF6\", \"gridcolor\": \"white\", \"gridwidth\": 2, \"linecolor\": \"white\", \"showbackground\": true, \"ticks\": \"\", \"zerolinecolor\": \"white\"}, \"yaxis\": {\"backgroundcolor\": \"#E5ECF6\", \"gridcolor\": \"white\", \"gridwidth\": 2, \"linecolor\": \"white\", \"showbackground\": true, \"ticks\": \"\", \"zerolinecolor\": \"white\"}, \"zaxis\": {\"backgroundcolor\": \"#E5ECF6\", \"gridcolor\": \"white\", \"gridwidth\": 2, \"linecolor\": \"white\", \"showbackground\": true, \"ticks\": \"\", \"zerolinecolor\": \"white\"}}, \"shapedefaults\": {\"line\": {\"color\": \"#2a3f5f\"}}, \"ternary\": {\"aaxis\": {\"gridcolor\": \"white\", \"linecolor\": \"white\", \"ticks\": \"\"}, \"baxis\": {\"gridcolor\": \"white\", \"linecolor\": \"white\", \"ticks\": \"\"}, \"bgcolor\": \"#E5ECF6\", \"caxis\": {\"gridcolor\": \"white\", \"linecolor\": \"white\", \"ticks\": \"\"}}, \"title\": {\"x\": 0.05}, \"xaxis\": {\"automargin\": true, \"gridcolor\": \"white\", \"linecolor\": \"white\", \"ticks\": \"\", \"title\": {\"standoff\": 15}, \"zerolinecolor\": \"white\", \"zerolinewidth\": 2}, \"yaxis\": {\"automargin\": true, \"gridcolor\": \"white\", \"linecolor\": \"white\", \"ticks\": \"\", \"title\": {\"standoff\": 15}, \"zerolinecolor\": \"white\", \"zerolinewidth\": 2}}}, \"title\": {\"text\": \"first two PC scores of tfidf matrix\"}, \"xaxis\": {\"anchor\": \"y\", \"domain\": [0.0, 1.0], \"title\": {\"text\": \"pc_0\"}}, \"yaxis\": {\"anchor\": \"x\", \"domain\": [0.0, 1.0], \"title\": {\"text\": \"pc_1\"}}},\n",
              "                        {\"responsive\": true}\n",
              "                    ).then(function(){\n",
              "                            \n",
              "var gd = document.getElementById('6fd1bb31-2401-4414-adb3-1562c30eb06b');\n",
              "var x = new MutationObserver(function (mutations, observer) {{\n",
              "        var display = window.getComputedStyle(gd).display;\n",
              "        if (!display || display === 'none') {{\n",
              "            console.log([gd, 'removed!']);\n",
              "            Plotly.purge(gd);\n",
              "            observer.disconnect();\n",
              "        }}\n",
              "}});\n",
              "\n",
              "// Listen for the removal of the full notebook cells\n",
              "var notebookContainer = gd.closest('#notebook-container');\n",
              "if (notebookContainer) {{\n",
              "    x.observe(notebookContainer, {childList: true});\n",
              "}}\n",
              "\n",
              "// Listen for the clearing of the current output cell\n",
              "var outputEl = gd.closest('.output');\n",
              "if (outputEl) {{\n",
              "    x.observe(outputEl, {childList: true});\n",
              "}}\n",
              "\n",
              "                        })\n",
              "                };\n",
              "                });\n",
              "            </script>\n",
              "        </div>"
            ]
          },
          "metadata": {
            "tags": []
          }
        }
      ]
    },
    {
      "cell_type": "code",
      "metadata": {
        "id": "6oIoZvQxVGED",
        "colab_type": "code",
        "colab": {},
        "outputId": "99746cfb-4d6c-41aa-ddde-91fa86c60744"
      },
      "source": [
        "centers = kmeans.cluster_centers_\n",
        "px.scatter(x=centers[:, 0], y=centers[:, 1], )"
      ],
      "execution_count": null,
      "outputs": [
        {
          "output_type": "display_data",
          "data": {
            "application/vnd.plotly.v1+json": {
              "config": {
                "plotlyServerURL": "https://plot.ly"
              },
              "data": [
                {
                  "hovertemplate": "x=%{x}<br>y=%{y}<extra></extra>",
                  "legendgroup": "",
                  "marker": {
                    "color": "#636efa",
                    "symbol": "circle"
                  },
                  "mode": "markers",
                  "name": "",
                  "orientation": "v",
                  "showlegend": false,
                  "type": "scatter",
                  "x": [
                    -0.14895222093380645,
                    0.20422849255133763,
                    0.044431018899640067
                  ],
                  "xaxis": "x",
                  "y": [
                    -0.07073799206259157,
                    -0.13539809884128257,
                    0.1901091979656537
                  ],
                  "yaxis": "y"
                }
              ],
              "layout": {
                "legend": {
                  "tracegroupgap": 0
                },
                "margin": {
                  "t": 60
                },
                "template": {
                  "data": {
                    "bar": [
                      {
                        "error_x": {
                          "color": "#2a3f5f"
                        },
                        "error_y": {
                          "color": "#2a3f5f"
                        },
                        "marker": {
                          "line": {
                            "color": "#E5ECF6",
                            "width": 0.5
                          }
                        },
                        "type": "bar"
                      }
                    ],
                    "barpolar": [
                      {
                        "marker": {
                          "line": {
                            "color": "#E5ECF6",
                            "width": 0.5
                          }
                        },
                        "type": "barpolar"
                      }
                    ],
                    "carpet": [
                      {
                        "aaxis": {
                          "endlinecolor": "#2a3f5f",
                          "gridcolor": "white",
                          "linecolor": "white",
                          "minorgridcolor": "white",
                          "startlinecolor": "#2a3f5f"
                        },
                        "baxis": {
                          "endlinecolor": "#2a3f5f",
                          "gridcolor": "white",
                          "linecolor": "white",
                          "minorgridcolor": "white",
                          "startlinecolor": "#2a3f5f"
                        },
                        "type": "carpet"
                      }
                    ],
                    "choropleth": [
                      {
                        "colorbar": {
                          "outlinewidth": 0,
                          "ticks": ""
                        },
                        "type": "choropleth"
                      }
                    ],
                    "contour": [
                      {
                        "colorbar": {
                          "outlinewidth": 0,
                          "ticks": ""
                        },
                        "colorscale": [
                          [
                            0,
                            "#0d0887"
                          ],
                          [
                            0.1111111111111111,
                            "#46039f"
                          ],
                          [
                            0.2222222222222222,
                            "#7201a8"
                          ],
                          [
                            0.3333333333333333,
                            "#9c179e"
                          ],
                          [
                            0.4444444444444444,
                            "#bd3786"
                          ],
                          [
                            0.5555555555555556,
                            "#d8576b"
                          ],
                          [
                            0.6666666666666666,
                            "#ed7953"
                          ],
                          [
                            0.7777777777777778,
                            "#fb9f3a"
                          ],
                          [
                            0.8888888888888888,
                            "#fdca26"
                          ],
                          [
                            1,
                            "#f0f921"
                          ]
                        ],
                        "type": "contour"
                      }
                    ],
                    "contourcarpet": [
                      {
                        "colorbar": {
                          "outlinewidth": 0,
                          "ticks": ""
                        },
                        "type": "contourcarpet"
                      }
                    ],
                    "heatmap": [
                      {
                        "colorbar": {
                          "outlinewidth": 0,
                          "ticks": ""
                        },
                        "colorscale": [
                          [
                            0,
                            "#0d0887"
                          ],
                          [
                            0.1111111111111111,
                            "#46039f"
                          ],
                          [
                            0.2222222222222222,
                            "#7201a8"
                          ],
                          [
                            0.3333333333333333,
                            "#9c179e"
                          ],
                          [
                            0.4444444444444444,
                            "#bd3786"
                          ],
                          [
                            0.5555555555555556,
                            "#d8576b"
                          ],
                          [
                            0.6666666666666666,
                            "#ed7953"
                          ],
                          [
                            0.7777777777777778,
                            "#fb9f3a"
                          ],
                          [
                            0.8888888888888888,
                            "#fdca26"
                          ],
                          [
                            1,
                            "#f0f921"
                          ]
                        ],
                        "type": "heatmap"
                      }
                    ],
                    "heatmapgl": [
                      {
                        "colorbar": {
                          "outlinewidth": 0,
                          "ticks": ""
                        },
                        "colorscale": [
                          [
                            0,
                            "#0d0887"
                          ],
                          [
                            0.1111111111111111,
                            "#46039f"
                          ],
                          [
                            0.2222222222222222,
                            "#7201a8"
                          ],
                          [
                            0.3333333333333333,
                            "#9c179e"
                          ],
                          [
                            0.4444444444444444,
                            "#bd3786"
                          ],
                          [
                            0.5555555555555556,
                            "#d8576b"
                          ],
                          [
                            0.6666666666666666,
                            "#ed7953"
                          ],
                          [
                            0.7777777777777778,
                            "#fb9f3a"
                          ],
                          [
                            0.8888888888888888,
                            "#fdca26"
                          ],
                          [
                            1,
                            "#f0f921"
                          ]
                        ],
                        "type": "heatmapgl"
                      }
                    ],
                    "histogram": [
                      {
                        "marker": {
                          "colorbar": {
                            "outlinewidth": 0,
                            "ticks": ""
                          }
                        },
                        "type": "histogram"
                      }
                    ],
                    "histogram2d": [
                      {
                        "colorbar": {
                          "outlinewidth": 0,
                          "ticks": ""
                        },
                        "colorscale": [
                          [
                            0,
                            "#0d0887"
                          ],
                          [
                            0.1111111111111111,
                            "#46039f"
                          ],
                          [
                            0.2222222222222222,
                            "#7201a8"
                          ],
                          [
                            0.3333333333333333,
                            "#9c179e"
                          ],
                          [
                            0.4444444444444444,
                            "#bd3786"
                          ],
                          [
                            0.5555555555555556,
                            "#d8576b"
                          ],
                          [
                            0.6666666666666666,
                            "#ed7953"
                          ],
                          [
                            0.7777777777777778,
                            "#fb9f3a"
                          ],
                          [
                            0.8888888888888888,
                            "#fdca26"
                          ],
                          [
                            1,
                            "#f0f921"
                          ]
                        ],
                        "type": "histogram2d"
                      }
                    ],
                    "histogram2dcontour": [
                      {
                        "colorbar": {
                          "outlinewidth": 0,
                          "ticks": ""
                        },
                        "colorscale": [
                          [
                            0,
                            "#0d0887"
                          ],
                          [
                            0.1111111111111111,
                            "#46039f"
                          ],
                          [
                            0.2222222222222222,
                            "#7201a8"
                          ],
                          [
                            0.3333333333333333,
                            "#9c179e"
                          ],
                          [
                            0.4444444444444444,
                            "#bd3786"
                          ],
                          [
                            0.5555555555555556,
                            "#d8576b"
                          ],
                          [
                            0.6666666666666666,
                            "#ed7953"
                          ],
                          [
                            0.7777777777777778,
                            "#fb9f3a"
                          ],
                          [
                            0.8888888888888888,
                            "#fdca26"
                          ],
                          [
                            1,
                            "#f0f921"
                          ]
                        ],
                        "type": "histogram2dcontour"
                      }
                    ],
                    "mesh3d": [
                      {
                        "colorbar": {
                          "outlinewidth": 0,
                          "ticks": ""
                        },
                        "type": "mesh3d"
                      }
                    ],
                    "parcoords": [
                      {
                        "line": {
                          "colorbar": {
                            "outlinewidth": 0,
                            "ticks": ""
                          }
                        },
                        "type": "parcoords"
                      }
                    ],
                    "pie": [
                      {
                        "automargin": true,
                        "type": "pie"
                      }
                    ],
                    "scatter": [
                      {
                        "marker": {
                          "colorbar": {
                            "outlinewidth": 0,
                            "ticks": ""
                          }
                        },
                        "type": "scatter"
                      }
                    ],
                    "scatter3d": [
                      {
                        "line": {
                          "colorbar": {
                            "outlinewidth": 0,
                            "ticks": ""
                          }
                        },
                        "marker": {
                          "colorbar": {
                            "outlinewidth": 0,
                            "ticks": ""
                          }
                        },
                        "type": "scatter3d"
                      }
                    ],
                    "scattercarpet": [
                      {
                        "marker": {
                          "colorbar": {
                            "outlinewidth": 0,
                            "ticks": ""
                          }
                        },
                        "type": "scattercarpet"
                      }
                    ],
                    "scattergeo": [
                      {
                        "marker": {
                          "colorbar": {
                            "outlinewidth": 0,
                            "ticks": ""
                          }
                        },
                        "type": "scattergeo"
                      }
                    ],
                    "scattergl": [
                      {
                        "marker": {
                          "colorbar": {
                            "outlinewidth": 0,
                            "ticks": ""
                          }
                        },
                        "type": "scattergl"
                      }
                    ],
                    "scattermapbox": [
                      {
                        "marker": {
                          "colorbar": {
                            "outlinewidth": 0,
                            "ticks": ""
                          }
                        },
                        "type": "scattermapbox"
                      }
                    ],
                    "scatterpolar": [
                      {
                        "marker": {
                          "colorbar": {
                            "outlinewidth": 0,
                            "ticks": ""
                          }
                        },
                        "type": "scatterpolar"
                      }
                    ],
                    "scatterpolargl": [
                      {
                        "marker": {
                          "colorbar": {
                            "outlinewidth": 0,
                            "ticks": ""
                          }
                        },
                        "type": "scatterpolargl"
                      }
                    ],
                    "scatterternary": [
                      {
                        "marker": {
                          "colorbar": {
                            "outlinewidth": 0,
                            "ticks": ""
                          }
                        },
                        "type": "scatterternary"
                      }
                    ],
                    "surface": [
                      {
                        "colorbar": {
                          "outlinewidth": 0,
                          "ticks": ""
                        },
                        "colorscale": [
                          [
                            0,
                            "#0d0887"
                          ],
                          [
                            0.1111111111111111,
                            "#46039f"
                          ],
                          [
                            0.2222222222222222,
                            "#7201a8"
                          ],
                          [
                            0.3333333333333333,
                            "#9c179e"
                          ],
                          [
                            0.4444444444444444,
                            "#bd3786"
                          ],
                          [
                            0.5555555555555556,
                            "#d8576b"
                          ],
                          [
                            0.6666666666666666,
                            "#ed7953"
                          ],
                          [
                            0.7777777777777778,
                            "#fb9f3a"
                          ],
                          [
                            0.8888888888888888,
                            "#fdca26"
                          ],
                          [
                            1,
                            "#f0f921"
                          ]
                        ],
                        "type": "surface"
                      }
                    ],
                    "table": [
                      {
                        "cells": {
                          "fill": {
                            "color": "#EBF0F8"
                          },
                          "line": {
                            "color": "white"
                          }
                        },
                        "header": {
                          "fill": {
                            "color": "#C8D4E3"
                          },
                          "line": {
                            "color": "white"
                          }
                        },
                        "type": "table"
                      }
                    ]
                  },
                  "layout": {
                    "annotationdefaults": {
                      "arrowcolor": "#2a3f5f",
                      "arrowhead": 0,
                      "arrowwidth": 1
                    },
                    "coloraxis": {
                      "colorbar": {
                        "outlinewidth": 0,
                        "ticks": ""
                      }
                    },
                    "colorscale": {
                      "diverging": [
                        [
                          0,
                          "#8e0152"
                        ],
                        [
                          0.1,
                          "#c51b7d"
                        ],
                        [
                          0.2,
                          "#de77ae"
                        ],
                        [
                          0.3,
                          "#f1b6da"
                        ],
                        [
                          0.4,
                          "#fde0ef"
                        ],
                        [
                          0.5,
                          "#f7f7f7"
                        ],
                        [
                          0.6,
                          "#e6f5d0"
                        ],
                        [
                          0.7,
                          "#b8e186"
                        ],
                        [
                          0.8,
                          "#7fbc41"
                        ],
                        [
                          0.9,
                          "#4d9221"
                        ],
                        [
                          1,
                          "#276419"
                        ]
                      ],
                      "sequential": [
                        [
                          0,
                          "#0d0887"
                        ],
                        [
                          0.1111111111111111,
                          "#46039f"
                        ],
                        [
                          0.2222222222222222,
                          "#7201a8"
                        ],
                        [
                          0.3333333333333333,
                          "#9c179e"
                        ],
                        [
                          0.4444444444444444,
                          "#bd3786"
                        ],
                        [
                          0.5555555555555556,
                          "#d8576b"
                        ],
                        [
                          0.6666666666666666,
                          "#ed7953"
                        ],
                        [
                          0.7777777777777778,
                          "#fb9f3a"
                        ],
                        [
                          0.8888888888888888,
                          "#fdca26"
                        ],
                        [
                          1,
                          "#f0f921"
                        ]
                      ],
                      "sequentialminus": [
                        [
                          0,
                          "#0d0887"
                        ],
                        [
                          0.1111111111111111,
                          "#46039f"
                        ],
                        [
                          0.2222222222222222,
                          "#7201a8"
                        ],
                        [
                          0.3333333333333333,
                          "#9c179e"
                        ],
                        [
                          0.4444444444444444,
                          "#bd3786"
                        ],
                        [
                          0.5555555555555556,
                          "#d8576b"
                        ],
                        [
                          0.6666666666666666,
                          "#ed7953"
                        ],
                        [
                          0.7777777777777778,
                          "#fb9f3a"
                        ],
                        [
                          0.8888888888888888,
                          "#fdca26"
                        ],
                        [
                          1,
                          "#f0f921"
                        ]
                      ]
                    },
                    "colorway": [
                      "#636efa",
                      "#EF553B",
                      "#00cc96",
                      "#ab63fa",
                      "#FFA15A",
                      "#19d3f3",
                      "#FF6692",
                      "#B6E880",
                      "#FF97FF",
                      "#FECB52"
                    ],
                    "font": {
                      "color": "#2a3f5f"
                    },
                    "geo": {
                      "bgcolor": "white",
                      "lakecolor": "white",
                      "landcolor": "#E5ECF6",
                      "showlakes": true,
                      "showland": true,
                      "subunitcolor": "white"
                    },
                    "hoverlabel": {
                      "align": "left"
                    },
                    "hovermode": "closest",
                    "mapbox": {
                      "style": "light"
                    },
                    "paper_bgcolor": "white",
                    "plot_bgcolor": "#E5ECF6",
                    "polar": {
                      "angularaxis": {
                        "gridcolor": "white",
                        "linecolor": "white",
                        "ticks": ""
                      },
                      "bgcolor": "#E5ECF6",
                      "radialaxis": {
                        "gridcolor": "white",
                        "linecolor": "white",
                        "ticks": ""
                      }
                    },
                    "scene": {
                      "xaxis": {
                        "backgroundcolor": "#E5ECF6",
                        "gridcolor": "white",
                        "gridwidth": 2,
                        "linecolor": "white",
                        "showbackground": true,
                        "ticks": "",
                        "zerolinecolor": "white"
                      },
                      "yaxis": {
                        "backgroundcolor": "#E5ECF6",
                        "gridcolor": "white",
                        "gridwidth": 2,
                        "linecolor": "white",
                        "showbackground": true,
                        "ticks": "",
                        "zerolinecolor": "white"
                      },
                      "zaxis": {
                        "backgroundcolor": "#E5ECF6",
                        "gridcolor": "white",
                        "gridwidth": 2,
                        "linecolor": "white",
                        "showbackground": true,
                        "ticks": "",
                        "zerolinecolor": "white"
                      }
                    },
                    "shapedefaults": {
                      "line": {
                        "color": "#2a3f5f"
                      }
                    },
                    "ternary": {
                      "aaxis": {
                        "gridcolor": "white",
                        "linecolor": "white",
                        "ticks": ""
                      },
                      "baxis": {
                        "gridcolor": "white",
                        "linecolor": "white",
                        "ticks": ""
                      },
                      "bgcolor": "#E5ECF6",
                      "caxis": {
                        "gridcolor": "white",
                        "linecolor": "white",
                        "ticks": ""
                      }
                    },
                    "title": {
                      "x": 0.05
                    },
                    "xaxis": {
                      "automargin": true,
                      "gridcolor": "white",
                      "linecolor": "white",
                      "ticks": "",
                      "title": {
                        "standoff": 15
                      },
                      "zerolinecolor": "white",
                      "zerolinewidth": 2
                    },
                    "yaxis": {
                      "automargin": true,
                      "gridcolor": "white",
                      "linecolor": "white",
                      "ticks": "",
                      "title": {
                        "standoff": 15
                      },
                      "zerolinecolor": "white",
                      "zerolinewidth": 2
                    }
                  }
                },
                "xaxis": {
                  "anchor": "y",
                  "domain": [
                    0,
                    1
                  ],
                  "title": {
                    "text": "x"
                  }
                },
                "yaxis": {
                  "anchor": "x",
                  "domain": [
                    0,
                    1
                  ],
                  "title": {
                    "text": "y"
                  }
                }
              }
            },
            "text/html": [
              "<div>\n",
              "        \n",
              "        \n",
              "            <div id=\"c98f7ead-0209-40fb-a8e7-a27463a544de\" class=\"plotly-graph-div\" style=\"height:525px; width:100%;\"></div>\n",
              "            <script type=\"text/javascript\">\n",
              "                require([\"plotly\"], function(Plotly) {\n",
              "                    window.PLOTLYENV=window.PLOTLYENV || {};\n",
              "                    \n",
              "                if (document.getElementById(\"c98f7ead-0209-40fb-a8e7-a27463a544de\")) {\n",
              "                    Plotly.newPlot(\n",
              "                        'c98f7ead-0209-40fb-a8e7-a27463a544de',\n",
              "                        [{\"hovertemplate\": \"x=%{x}<br>y=%{y}<extra></extra>\", \"legendgroup\": \"\", \"marker\": {\"color\": \"#636efa\", \"symbol\": \"circle\"}, \"mode\": \"markers\", \"name\": \"\", \"orientation\": \"v\", \"showlegend\": false, \"type\": \"scatter\", \"x\": [-0.14895222093380645, 0.20422849255133763, 0.044431018899640067], \"xaxis\": \"x\", \"y\": [-0.07073799206259157, -0.13539809884128257, 0.1901091979656537], \"yaxis\": \"y\"}],\n",
              "                        {\"legend\": {\"tracegroupgap\": 0}, \"margin\": {\"t\": 60}, \"template\": {\"data\": {\"bar\": [{\"error_x\": {\"color\": \"#2a3f5f\"}, \"error_y\": {\"color\": \"#2a3f5f\"}, \"marker\": {\"line\": {\"color\": \"#E5ECF6\", \"width\": 0.5}}, \"type\": \"bar\"}], \"barpolar\": [{\"marker\": {\"line\": {\"color\": \"#E5ECF6\", \"width\": 0.5}}, \"type\": \"barpolar\"}], \"carpet\": [{\"aaxis\": {\"endlinecolor\": \"#2a3f5f\", \"gridcolor\": \"white\", \"linecolor\": \"white\", \"minorgridcolor\": \"white\", \"startlinecolor\": \"#2a3f5f\"}, \"baxis\": {\"endlinecolor\": \"#2a3f5f\", \"gridcolor\": \"white\", \"linecolor\": \"white\", \"minorgridcolor\": \"white\", \"startlinecolor\": \"#2a3f5f\"}, \"type\": \"carpet\"}], \"choropleth\": [{\"colorbar\": {\"outlinewidth\": 0, \"ticks\": \"\"}, \"type\": \"choropleth\"}], \"contour\": [{\"colorbar\": {\"outlinewidth\": 0, \"ticks\": \"\"}, \"colorscale\": [[0.0, \"#0d0887\"], [0.1111111111111111, \"#46039f\"], [0.2222222222222222, \"#7201a8\"], [0.3333333333333333, \"#9c179e\"], [0.4444444444444444, \"#bd3786\"], [0.5555555555555556, \"#d8576b\"], [0.6666666666666666, \"#ed7953\"], [0.7777777777777778, \"#fb9f3a\"], [0.8888888888888888, \"#fdca26\"], [1.0, \"#f0f921\"]], \"type\": \"contour\"}], \"contourcarpet\": [{\"colorbar\": {\"outlinewidth\": 0, \"ticks\": \"\"}, \"type\": \"contourcarpet\"}], \"heatmap\": [{\"colorbar\": {\"outlinewidth\": 0, \"ticks\": \"\"}, \"colorscale\": [[0.0, \"#0d0887\"], [0.1111111111111111, \"#46039f\"], [0.2222222222222222, \"#7201a8\"], [0.3333333333333333, \"#9c179e\"], [0.4444444444444444, \"#bd3786\"], [0.5555555555555556, \"#d8576b\"], [0.6666666666666666, \"#ed7953\"], [0.7777777777777778, \"#fb9f3a\"], [0.8888888888888888, \"#fdca26\"], [1.0, \"#f0f921\"]], \"type\": \"heatmap\"}], \"heatmapgl\": [{\"colorbar\": {\"outlinewidth\": 0, \"ticks\": \"\"}, \"colorscale\": [[0.0, \"#0d0887\"], [0.1111111111111111, \"#46039f\"], [0.2222222222222222, \"#7201a8\"], [0.3333333333333333, \"#9c179e\"], [0.4444444444444444, \"#bd3786\"], [0.5555555555555556, \"#d8576b\"], [0.6666666666666666, \"#ed7953\"], [0.7777777777777778, \"#fb9f3a\"], [0.8888888888888888, \"#fdca26\"], [1.0, \"#f0f921\"]], \"type\": \"heatmapgl\"}], \"histogram\": [{\"marker\": {\"colorbar\": {\"outlinewidth\": 0, \"ticks\": \"\"}}, \"type\": \"histogram\"}], \"histogram2d\": [{\"colorbar\": {\"outlinewidth\": 0, \"ticks\": \"\"}, \"colorscale\": [[0.0, \"#0d0887\"], [0.1111111111111111, \"#46039f\"], [0.2222222222222222, \"#7201a8\"], [0.3333333333333333, \"#9c179e\"], [0.4444444444444444, \"#bd3786\"], [0.5555555555555556, \"#d8576b\"], [0.6666666666666666, \"#ed7953\"], [0.7777777777777778, \"#fb9f3a\"], [0.8888888888888888, \"#fdca26\"], [1.0, \"#f0f921\"]], \"type\": \"histogram2d\"}], \"histogram2dcontour\": [{\"colorbar\": {\"outlinewidth\": 0, \"ticks\": \"\"}, \"colorscale\": [[0.0, \"#0d0887\"], [0.1111111111111111, \"#46039f\"], [0.2222222222222222, \"#7201a8\"], [0.3333333333333333, \"#9c179e\"], [0.4444444444444444, \"#bd3786\"], [0.5555555555555556, \"#d8576b\"], [0.6666666666666666, \"#ed7953\"], [0.7777777777777778, \"#fb9f3a\"], [0.8888888888888888, \"#fdca26\"], [1.0, \"#f0f921\"]], \"type\": \"histogram2dcontour\"}], \"mesh3d\": [{\"colorbar\": {\"outlinewidth\": 0, \"ticks\": \"\"}, \"type\": \"mesh3d\"}], \"parcoords\": [{\"line\": {\"colorbar\": {\"outlinewidth\": 0, \"ticks\": \"\"}}, \"type\": \"parcoords\"}], \"pie\": [{\"automargin\": true, \"type\": \"pie\"}], \"scatter\": [{\"marker\": {\"colorbar\": {\"outlinewidth\": 0, \"ticks\": \"\"}}, \"type\": \"scatter\"}], \"scatter3d\": [{\"line\": {\"colorbar\": {\"outlinewidth\": 0, \"ticks\": \"\"}}, \"marker\": {\"colorbar\": {\"outlinewidth\": 0, \"ticks\": \"\"}}, \"type\": \"scatter3d\"}], \"scattercarpet\": [{\"marker\": {\"colorbar\": {\"outlinewidth\": 0, \"ticks\": \"\"}}, \"type\": \"scattercarpet\"}], \"scattergeo\": [{\"marker\": {\"colorbar\": {\"outlinewidth\": 0, \"ticks\": \"\"}}, \"type\": \"scattergeo\"}], \"scattergl\": [{\"marker\": {\"colorbar\": {\"outlinewidth\": 0, \"ticks\": \"\"}}, \"type\": \"scattergl\"}], \"scattermapbox\": [{\"marker\": {\"colorbar\": {\"outlinewidth\": 0, \"ticks\": \"\"}}, \"type\": \"scattermapbox\"}], \"scatterpolar\": [{\"marker\": {\"colorbar\": {\"outlinewidth\": 0, \"ticks\": \"\"}}, \"type\": \"scatterpolar\"}], \"scatterpolargl\": [{\"marker\": {\"colorbar\": {\"outlinewidth\": 0, \"ticks\": \"\"}}, \"type\": \"scatterpolargl\"}], \"scatterternary\": [{\"marker\": {\"colorbar\": {\"outlinewidth\": 0, \"ticks\": \"\"}}, \"type\": \"scatterternary\"}], \"surface\": [{\"colorbar\": {\"outlinewidth\": 0, \"ticks\": \"\"}, \"colorscale\": [[0.0, \"#0d0887\"], [0.1111111111111111, \"#46039f\"], [0.2222222222222222, \"#7201a8\"], [0.3333333333333333, \"#9c179e\"], [0.4444444444444444, \"#bd3786\"], [0.5555555555555556, \"#d8576b\"], [0.6666666666666666, \"#ed7953\"], [0.7777777777777778, \"#fb9f3a\"], [0.8888888888888888, \"#fdca26\"], [1.0, \"#f0f921\"]], \"type\": \"surface\"}], \"table\": [{\"cells\": {\"fill\": {\"color\": \"#EBF0F8\"}, \"line\": {\"color\": \"white\"}}, \"header\": {\"fill\": {\"color\": \"#C8D4E3\"}, \"line\": {\"color\": \"white\"}}, \"type\": \"table\"}]}, \"layout\": {\"annotationdefaults\": {\"arrowcolor\": \"#2a3f5f\", \"arrowhead\": 0, \"arrowwidth\": 1}, \"coloraxis\": {\"colorbar\": {\"outlinewidth\": 0, \"ticks\": \"\"}}, \"colorscale\": {\"diverging\": [[0, \"#8e0152\"], [0.1, \"#c51b7d\"], [0.2, \"#de77ae\"], [0.3, \"#f1b6da\"], [0.4, \"#fde0ef\"], [0.5, \"#f7f7f7\"], [0.6, \"#e6f5d0\"], [0.7, \"#b8e186\"], [0.8, \"#7fbc41\"], [0.9, \"#4d9221\"], [1, \"#276419\"]], \"sequential\": [[0.0, \"#0d0887\"], [0.1111111111111111, \"#46039f\"], [0.2222222222222222, \"#7201a8\"], [0.3333333333333333, \"#9c179e\"], [0.4444444444444444, \"#bd3786\"], [0.5555555555555556, \"#d8576b\"], [0.6666666666666666, \"#ed7953\"], [0.7777777777777778, \"#fb9f3a\"], [0.8888888888888888, \"#fdca26\"], [1.0, \"#f0f921\"]], \"sequentialminus\": [[0.0, \"#0d0887\"], [0.1111111111111111, \"#46039f\"], [0.2222222222222222, \"#7201a8\"], [0.3333333333333333, \"#9c179e\"], [0.4444444444444444, \"#bd3786\"], [0.5555555555555556, \"#d8576b\"], [0.6666666666666666, \"#ed7953\"], [0.7777777777777778, \"#fb9f3a\"], [0.8888888888888888, \"#fdca26\"], [1.0, \"#f0f921\"]]}, \"colorway\": [\"#636efa\", \"#EF553B\", \"#00cc96\", \"#ab63fa\", \"#FFA15A\", \"#19d3f3\", \"#FF6692\", \"#B6E880\", \"#FF97FF\", \"#FECB52\"], \"font\": {\"color\": \"#2a3f5f\"}, \"geo\": {\"bgcolor\": \"white\", \"lakecolor\": \"white\", \"landcolor\": \"#E5ECF6\", \"showlakes\": true, \"showland\": true, \"subunitcolor\": \"white\"}, \"hoverlabel\": {\"align\": \"left\"}, \"hovermode\": \"closest\", \"mapbox\": {\"style\": \"light\"}, \"paper_bgcolor\": \"white\", \"plot_bgcolor\": \"#E5ECF6\", \"polar\": {\"angularaxis\": {\"gridcolor\": \"white\", \"linecolor\": \"white\", \"ticks\": \"\"}, \"bgcolor\": \"#E5ECF6\", \"radialaxis\": {\"gridcolor\": \"white\", \"linecolor\": \"white\", \"ticks\": \"\"}}, \"scene\": {\"xaxis\": {\"backgroundcolor\": \"#E5ECF6\", \"gridcolor\": \"white\", \"gridwidth\": 2, \"linecolor\": \"white\", \"showbackground\": true, \"ticks\": \"\", \"zerolinecolor\": \"white\"}, \"yaxis\": {\"backgroundcolor\": \"#E5ECF6\", \"gridcolor\": \"white\", \"gridwidth\": 2, \"linecolor\": \"white\", \"showbackground\": true, \"ticks\": \"\", \"zerolinecolor\": \"white\"}, \"zaxis\": {\"backgroundcolor\": \"#E5ECF6\", \"gridcolor\": \"white\", \"gridwidth\": 2, \"linecolor\": \"white\", \"showbackground\": true, \"ticks\": \"\", \"zerolinecolor\": \"white\"}}, \"shapedefaults\": {\"line\": {\"color\": \"#2a3f5f\"}}, \"ternary\": {\"aaxis\": {\"gridcolor\": \"white\", \"linecolor\": \"white\", \"ticks\": \"\"}, \"baxis\": {\"gridcolor\": \"white\", \"linecolor\": \"white\", \"ticks\": \"\"}, \"bgcolor\": \"#E5ECF6\", \"caxis\": {\"gridcolor\": \"white\", \"linecolor\": \"white\", \"ticks\": \"\"}}, \"title\": {\"x\": 0.05}, \"xaxis\": {\"automargin\": true, \"gridcolor\": \"white\", \"linecolor\": \"white\", \"ticks\": \"\", \"title\": {\"standoff\": 15}, \"zerolinecolor\": \"white\", \"zerolinewidth\": 2}, \"yaxis\": {\"automargin\": true, \"gridcolor\": \"white\", \"linecolor\": \"white\", \"ticks\": \"\", \"title\": {\"standoff\": 15}, \"zerolinecolor\": \"white\", \"zerolinewidth\": 2}}}, \"xaxis\": {\"anchor\": \"y\", \"domain\": [0.0, 1.0], \"title\": {\"text\": \"x\"}}, \"yaxis\": {\"anchor\": \"x\", \"domain\": [0.0, 1.0], \"title\": {\"text\": \"y\"}}},\n",
              "                        {\"responsive\": true}\n",
              "                    ).then(function(){\n",
              "                            \n",
              "var gd = document.getElementById('c98f7ead-0209-40fb-a8e7-a27463a544de');\n",
              "var x = new MutationObserver(function (mutations, observer) {{\n",
              "        var display = window.getComputedStyle(gd).display;\n",
              "        if (!display || display === 'none') {{\n",
              "            console.log([gd, 'removed!']);\n",
              "            Plotly.purge(gd);\n",
              "            observer.disconnect();\n",
              "        }}\n",
              "}});\n",
              "\n",
              "// Listen for the removal of the full notebook cells\n",
              "var notebookContainer = gd.closest('#notebook-container');\n",
              "if (notebookContainer) {{\n",
              "    x.observe(notebookContainer, {childList: true});\n",
              "}}\n",
              "\n",
              "// Listen for the clearing of the current output cell\n",
              "var outputEl = gd.closest('.output');\n",
              "if (outputEl) {{\n",
              "    x.observe(outputEl, {childList: true});\n",
              "}}\n",
              "\n",
              "                        })\n",
              "                };\n",
              "                });\n",
              "            </script>\n",
              "        </div>"
            ]
          },
          "metadata": {
            "tags": []
          }
        }
      ]
    },
    {
      "cell_type": "code",
      "metadata": {
        "id": "8Qhpv6wcVGEI",
        "colab_type": "code",
        "colab": {},
        "outputId": "15c5f7c4-d135-4568-bea2-2f76f2d876eb"
      },
      "source": [
        "fig = go.Figure(data=go.Scatter(\n",
        "    x=centers[:, 0],\n",
        "    y=centers[:, 1],\n",
        "    mode='markers',\n",
        "    marker=dict(size=[20, 20, 20],\n",
        "                color=[2, 2, 2],\n",
        "                opacity=0.7)\n",
        "))\n",
        "\n",
        "fig.show()"
      ],
      "execution_count": null,
      "outputs": [
        {
          "output_type": "display_data",
          "data": {
            "application/vnd.plotly.v1+json": {
              "config": {
                "plotlyServerURL": "https://plot.ly"
              },
              "data": [
                {
                  "marker": {
                    "color": [
                      2,
                      2,
                      2
                    ],
                    "opacity": 0.7,
                    "size": [
                      20,
                      20,
                      20
                    ]
                  },
                  "mode": "markers",
                  "type": "scatter",
                  "x": [
                    -0.14895222093380645,
                    0.20422849255133763,
                    0.044431018899640067
                  ],
                  "y": [
                    -0.07073799206259157,
                    -0.13539809884128257,
                    0.1901091979656537
                  ]
                }
              ],
              "layout": {
                "template": {
                  "data": {
                    "bar": [
                      {
                        "error_x": {
                          "color": "#2a3f5f"
                        },
                        "error_y": {
                          "color": "#2a3f5f"
                        },
                        "marker": {
                          "line": {
                            "color": "#E5ECF6",
                            "width": 0.5
                          }
                        },
                        "type": "bar"
                      }
                    ],
                    "barpolar": [
                      {
                        "marker": {
                          "line": {
                            "color": "#E5ECF6",
                            "width": 0.5
                          }
                        },
                        "type": "barpolar"
                      }
                    ],
                    "carpet": [
                      {
                        "aaxis": {
                          "endlinecolor": "#2a3f5f",
                          "gridcolor": "white",
                          "linecolor": "white",
                          "minorgridcolor": "white",
                          "startlinecolor": "#2a3f5f"
                        },
                        "baxis": {
                          "endlinecolor": "#2a3f5f",
                          "gridcolor": "white",
                          "linecolor": "white",
                          "minorgridcolor": "white",
                          "startlinecolor": "#2a3f5f"
                        },
                        "type": "carpet"
                      }
                    ],
                    "choropleth": [
                      {
                        "colorbar": {
                          "outlinewidth": 0,
                          "ticks": ""
                        },
                        "type": "choropleth"
                      }
                    ],
                    "contour": [
                      {
                        "colorbar": {
                          "outlinewidth": 0,
                          "ticks": ""
                        },
                        "colorscale": [
                          [
                            0,
                            "#0d0887"
                          ],
                          [
                            0.1111111111111111,
                            "#46039f"
                          ],
                          [
                            0.2222222222222222,
                            "#7201a8"
                          ],
                          [
                            0.3333333333333333,
                            "#9c179e"
                          ],
                          [
                            0.4444444444444444,
                            "#bd3786"
                          ],
                          [
                            0.5555555555555556,
                            "#d8576b"
                          ],
                          [
                            0.6666666666666666,
                            "#ed7953"
                          ],
                          [
                            0.7777777777777778,
                            "#fb9f3a"
                          ],
                          [
                            0.8888888888888888,
                            "#fdca26"
                          ],
                          [
                            1,
                            "#f0f921"
                          ]
                        ],
                        "type": "contour"
                      }
                    ],
                    "contourcarpet": [
                      {
                        "colorbar": {
                          "outlinewidth": 0,
                          "ticks": ""
                        },
                        "type": "contourcarpet"
                      }
                    ],
                    "heatmap": [
                      {
                        "colorbar": {
                          "outlinewidth": 0,
                          "ticks": ""
                        },
                        "colorscale": [
                          [
                            0,
                            "#0d0887"
                          ],
                          [
                            0.1111111111111111,
                            "#46039f"
                          ],
                          [
                            0.2222222222222222,
                            "#7201a8"
                          ],
                          [
                            0.3333333333333333,
                            "#9c179e"
                          ],
                          [
                            0.4444444444444444,
                            "#bd3786"
                          ],
                          [
                            0.5555555555555556,
                            "#d8576b"
                          ],
                          [
                            0.6666666666666666,
                            "#ed7953"
                          ],
                          [
                            0.7777777777777778,
                            "#fb9f3a"
                          ],
                          [
                            0.8888888888888888,
                            "#fdca26"
                          ],
                          [
                            1,
                            "#f0f921"
                          ]
                        ],
                        "type": "heatmap"
                      }
                    ],
                    "heatmapgl": [
                      {
                        "colorbar": {
                          "outlinewidth": 0,
                          "ticks": ""
                        },
                        "colorscale": [
                          [
                            0,
                            "#0d0887"
                          ],
                          [
                            0.1111111111111111,
                            "#46039f"
                          ],
                          [
                            0.2222222222222222,
                            "#7201a8"
                          ],
                          [
                            0.3333333333333333,
                            "#9c179e"
                          ],
                          [
                            0.4444444444444444,
                            "#bd3786"
                          ],
                          [
                            0.5555555555555556,
                            "#d8576b"
                          ],
                          [
                            0.6666666666666666,
                            "#ed7953"
                          ],
                          [
                            0.7777777777777778,
                            "#fb9f3a"
                          ],
                          [
                            0.8888888888888888,
                            "#fdca26"
                          ],
                          [
                            1,
                            "#f0f921"
                          ]
                        ],
                        "type": "heatmapgl"
                      }
                    ],
                    "histogram": [
                      {
                        "marker": {
                          "colorbar": {
                            "outlinewidth": 0,
                            "ticks": ""
                          }
                        },
                        "type": "histogram"
                      }
                    ],
                    "histogram2d": [
                      {
                        "colorbar": {
                          "outlinewidth": 0,
                          "ticks": ""
                        },
                        "colorscale": [
                          [
                            0,
                            "#0d0887"
                          ],
                          [
                            0.1111111111111111,
                            "#46039f"
                          ],
                          [
                            0.2222222222222222,
                            "#7201a8"
                          ],
                          [
                            0.3333333333333333,
                            "#9c179e"
                          ],
                          [
                            0.4444444444444444,
                            "#bd3786"
                          ],
                          [
                            0.5555555555555556,
                            "#d8576b"
                          ],
                          [
                            0.6666666666666666,
                            "#ed7953"
                          ],
                          [
                            0.7777777777777778,
                            "#fb9f3a"
                          ],
                          [
                            0.8888888888888888,
                            "#fdca26"
                          ],
                          [
                            1,
                            "#f0f921"
                          ]
                        ],
                        "type": "histogram2d"
                      }
                    ],
                    "histogram2dcontour": [
                      {
                        "colorbar": {
                          "outlinewidth": 0,
                          "ticks": ""
                        },
                        "colorscale": [
                          [
                            0,
                            "#0d0887"
                          ],
                          [
                            0.1111111111111111,
                            "#46039f"
                          ],
                          [
                            0.2222222222222222,
                            "#7201a8"
                          ],
                          [
                            0.3333333333333333,
                            "#9c179e"
                          ],
                          [
                            0.4444444444444444,
                            "#bd3786"
                          ],
                          [
                            0.5555555555555556,
                            "#d8576b"
                          ],
                          [
                            0.6666666666666666,
                            "#ed7953"
                          ],
                          [
                            0.7777777777777778,
                            "#fb9f3a"
                          ],
                          [
                            0.8888888888888888,
                            "#fdca26"
                          ],
                          [
                            1,
                            "#f0f921"
                          ]
                        ],
                        "type": "histogram2dcontour"
                      }
                    ],
                    "mesh3d": [
                      {
                        "colorbar": {
                          "outlinewidth": 0,
                          "ticks": ""
                        },
                        "type": "mesh3d"
                      }
                    ],
                    "parcoords": [
                      {
                        "line": {
                          "colorbar": {
                            "outlinewidth": 0,
                            "ticks": ""
                          }
                        },
                        "type": "parcoords"
                      }
                    ],
                    "pie": [
                      {
                        "automargin": true,
                        "type": "pie"
                      }
                    ],
                    "scatter": [
                      {
                        "marker": {
                          "colorbar": {
                            "outlinewidth": 0,
                            "ticks": ""
                          }
                        },
                        "type": "scatter"
                      }
                    ],
                    "scatter3d": [
                      {
                        "line": {
                          "colorbar": {
                            "outlinewidth": 0,
                            "ticks": ""
                          }
                        },
                        "marker": {
                          "colorbar": {
                            "outlinewidth": 0,
                            "ticks": ""
                          }
                        },
                        "type": "scatter3d"
                      }
                    ],
                    "scattercarpet": [
                      {
                        "marker": {
                          "colorbar": {
                            "outlinewidth": 0,
                            "ticks": ""
                          }
                        },
                        "type": "scattercarpet"
                      }
                    ],
                    "scattergeo": [
                      {
                        "marker": {
                          "colorbar": {
                            "outlinewidth": 0,
                            "ticks": ""
                          }
                        },
                        "type": "scattergeo"
                      }
                    ],
                    "scattergl": [
                      {
                        "marker": {
                          "colorbar": {
                            "outlinewidth": 0,
                            "ticks": ""
                          }
                        },
                        "type": "scattergl"
                      }
                    ],
                    "scattermapbox": [
                      {
                        "marker": {
                          "colorbar": {
                            "outlinewidth": 0,
                            "ticks": ""
                          }
                        },
                        "type": "scattermapbox"
                      }
                    ],
                    "scatterpolar": [
                      {
                        "marker": {
                          "colorbar": {
                            "outlinewidth": 0,
                            "ticks": ""
                          }
                        },
                        "type": "scatterpolar"
                      }
                    ],
                    "scatterpolargl": [
                      {
                        "marker": {
                          "colorbar": {
                            "outlinewidth": 0,
                            "ticks": ""
                          }
                        },
                        "type": "scatterpolargl"
                      }
                    ],
                    "scatterternary": [
                      {
                        "marker": {
                          "colorbar": {
                            "outlinewidth": 0,
                            "ticks": ""
                          }
                        },
                        "type": "scatterternary"
                      }
                    ],
                    "surface": [
                      {
                        "colorbar": {
                          "outlinewidth": 0,
                          "ticks": ""
                        },
                        "colorscale": [
                          [
                            0,
                            "#0d0887"
                          ],
                          [
                            0.1111111111111111,
                            "#46039f"
                          ],
                          [
                            0.2222222222222222,
                            "#7201a8"
                          ],
                          [
                            0.3333333333333333,
                            "#9c179e"
                          ],
                          [
                            0.4444444444444444,
                            "#bd3786"
                          ],
                          [
                            0.5555555555555556,
                            "#d8576b"
                          ],
                          [
                            0.6666666666666666,
                            "#ed7953"
                          ],
                          [
                            0.7777777777777778,
                            "#fb9f3a"
                          ],
                          [
                            0.8888888888888888,
                            "#fdca26"
                          ],
                          [
                            1,
                            "#f0f921"
                          ]
                        ],
                        "type": "surface"
                      }
                    ],
                    "table": [
                      {
                        "cells": {
                          "fill": {
                            "color": "#EBF0F8"
                          },
                          "line": {
                            "color": "white"
                          }
                        },
                        "header": {
                          "fill": {
                            "color": "#C8D4E3"
                          },
                          "line": {
                            "color": "white"
                          }
                        },
                        "type": "table"
                      }
                    ]
                  },
                  "layout": {
                    "annotationdefaults": {
                      "arrowcolor": "#2a3f5f",
                      "arrowhead": 0,
                      "arrowwidth": 1
                    },
                    "coloraxis": {
                      "colorbar": {
                        "outlinewidth": 0,
                        "ticks": ""
                      }
                    },
                    "colorscale": {
                      "diverging": [
                        [
                          0,
                          "#8e0152"
                        ],
                        [
                          0.1,
                          "#c51b7d"
                        ],
                        [
                          0.2,
                          "#de77ae"
                        ],
                        [
                          0.3,
                          "#f1b6da"
                        ],
                        [
                          0.4,
                          "#fde0ef"
                        ],
                        [
                          0.5,
                          "#f7f7f7"
                        ],
                        [
                          0.6,
                          "#e6f5d0"
                        ],
                        [
                          0.7,
                          "#b8e186"
                        ],
                        [
                          0.8,
                          "#7fbc41"
                        ],
                        [
                          0.9,
                          "#4d9221"
                        ],
                        [
                          1,
                          "#276419"
                        ]
                      ],
                      "sequential": [
                        [
                          0,
                          "#0d0887"
                        ],
                        [
                          0.1111111111111111,
                          "#46039f"
                        ],
                        [
                          0.2222222222222222,
                          "#7201a8"
                        ],
                        [
                          0.3333333333333333,
                          "#9c179e"
                        ],
                        [
                          0.4444444444444444,
                          "#bd3786"
                        ],
                        [
                          0.5555555555555556,
                          "#d8576b"
                        ],
                        [
                          0.6666666666666666,
                          "#ed7953"
                        ],
                        [
                          0.7777777777777778,
                          "#fb9f3a"
                        ],
                        [
                          0.8888888888888888,
                          "#fdca26"
                        ],
                        [
                          1,
                          "#f0f921"
                        ]
                      ],
                      "sequentialminus": [
                        [
                          0,
                          "#0d0887"
                        ],
                        [
                          0.1111111111111111,
                          "#46039f"
                        ],
                        [
                          0.2222222222222222,
                          "#7201a8"
                        ],
                        [
                          0.3333333333333333,
                          "#9c179e"
                        ],
                        [
                          0.4444444444444444,
                          "#bd3786"
                        ],
                        [
                          0.5555555555555556,
                          "#d8576b"
                        ],
                        [
                          0.6666666666666666,
                          "#ed7953"
                        ],
                        [
                          0.7777777777777778,
                          "#fb9f3a"
                        ],
                        [
                          0.8888888888888888,
                          "#fdca26"
                        ],
                        [
                          1,
                          "#f0f921"
                        ]
                      ]
                    },
                    "colorway": [
                      "#636efa",
                      "#EF553B",
                      "#00cc96",
                      "#ab63fa",
                      "#FFA15A",
                      "#19d3f3",
                      "#FF6692",
                      "#B6E880",
                      "#FF97FF",
                      "#FECB52"
                    ],
                    "font": {
                      "color": "#2a3f5f"
                    },
                    "geo": {
                      "bgcolor": "white",
                      "lakecolor": "white",
                      "landcolor": "#E5ECF6",
                      "showlakes": true,
                      "showland": true,
                      "subunitcolor": "white"
                    },
                    "hoverlabel": {
                      "align": "left"
                    },
                    "hovermode": "closest",
                    "mapbox": {
                      "style": "light"
                    },
                    "paper_bgcolor": "white",
                    "plot_bgcolor": "#E5ECF6",
                    "polar": {
                      "angularaxis": {
                        "gridcolor": "white",
                        "linecolor": "white",
                        "ticks": ""
                      },
                      "bgcolor": "#E5ECF6",
                      "radialaxis": {
                        "gridcolor": "white",
                        "linecolor": "white",
                        "ticks": ""
                      }
                    },
                    "scene": {
                      "xaxis": {
                        "backgroundcolor": "#E5ECF6",
                        "gridcolor": "white",
                        "gridwidth": 2,
                        "linecolor": "white",
                        "showbackground": true,
                        "ticks": "",
                        "zerolinecolor": "white"
                      },
                      "yaxis": {
                        "backgroundcolor": "#E5ECF6",
                        "gridcolor": "white",
                        "gridwidth": 2,
                        "linecolor": "white",
                        "showbackground": true,
                        "ticks": "",
                        "zerolinecolor": "white"
                      },
                      "zaxis": {
                        "backgroundcolor": "#E5ECF6",
                        "gridcolor": "white",
                        "gridwidth": 2,
                        "linecolor": "white",
                        "showbackground": true,
                        "ticks": "",
                        "zerolinecolor": "white"
                      }
                    },
                    "shapedefaults": {
                      "line": {
                        "color": "#2a3f5f"
                      }
                    },
                    "ternary": {
                      "aaxis": {
                        "gridcolor": "white",
                        "linecolor": "white",
                        "ticks": ""
                      },
                      "baxis": {
                        "gridcolor": "white",
                        "linecolor": "white",
                        "ticks": ""
                      },
                      "bgcolor": "#E5ECF6",
                      "caxis": {
                        "gridcolor": "white",
                        "linecolor": "white",
                        "ticks": ""
                      }
                    },
                    "title": {
                      "x": 0.05
                    },
                    "xaxis": {
                      "automargin": true,
                      "gridcolor": "white",
                      "linecolor": "white",
                      "ticks": "",
                      "title": {
                        "standoff": 15
                      },
                      "zerolinecolor": "white",
                      "zerolinewidth": 2
                    },
                    "yaxis": {
                      "automargin": true,
                      "gridcolor": "white",
                      "linecolor": "white",
                      "ticks": "",
                      "title": {
                        "standoff": 15
                      },
                      "zerolinecolor": "white",
                      "zerolinewidth": 2
                    }
                  }
                }
              }
            },
            "text/html": [
              "<div>\n",
              "        \n",
              "        \n",
              "            <div id=\"d57c0e96-dc5c-48b7-b237-bef3c86c74d9\" class=\"plotly-graph-div\" style=\"height:525px; width:100%;\"></div>\n",
              "            <script type=\"text/javascript\">\n",
              "                require([\"plotly\"], function(Plotly) {\n",
              "                    window.PLOTLYENV=window.PLOTLYENV || {};\n",
              "                    \n",
              "                if (document.getElementById(\"d57c0e96-dc5c-48b7-b237-bef3c86c74d9\")) {\n",
              "                    Plotly.newPlot(\n",
              "                        'd57c0e96-dc5c-48b7-b237-bef3c86c74d9',\n",
              "                        [{\"marker\": {\"color\": [2, 2, 2], \"opacity\": 0.7, \"size\": [20, 20, 20]}, \"mode\": \"markers\", \"type\": \"scatter\", \"x\": [-0.14895222093380645, 0.20422849255133763, 0.044431018899640067], \"y\": [-0.07073799206259157, -0.13539809884128257, 0.1901091979656537]}],\n",
              "                        {\"template\": {\"data\": {\"bar\": [{\"error_x\": {\"color\": \"#2a3f5f\"}, \"error_y\": {\"color\": \"#2a3f5f\"}, \"marker\": {\"line\": {\"color\": \"#E5ECF6\", \"width\": 0.5}}, \"type\": \"bar\"}], \"barpolar\": [{\"marker\": {\"line\": {\"color\": \"#E5ECF6\", \"width\": 0.5}}, \"type\": \"barpolar\"}], \"carpet\": [{\"aaxis\": {\"endlinecolor\": \"#2a3f5f\", \"gridcolor\": \"white\", \"linecolor\": \"white\", \"minorgridcolor\": \"white\", \"startlinecolor\": \"#2a3f5f\"}, \"baxis\": {\"endlinecolor\": \"#2a3f5f\", \"gridcolor\": \"white\", \"linecolor\": \"white\", \"minorgridcolor\": \"white\", \"startlinecolor\": \"#2a3f5f\"}, \"type\": \"carpet\"}], \"choropleth\": [{\"colorbar\": {\"outlinewidth\": 0, \"ticks\": \"\"}, \"type\": \"choropleth\"}], \"contour\": [{\"colorbar\": {\"outlinewidth\": 0, \"ticks\": \"\"}, \"colorscale\": [[0.0, \"#0d0887\"], [0.1111111111111111, \"#46039f\"], [0.2222222222222222, \"#7201a8\"], [0.3333333333333333, \"#9c179e\"], [0.4444444444444444, \"#bd3786\"], [0.5555555555555556, \"#d8576b\"], [0.6666666666666666, \"#ed7953\"], [0.7777777777777778, \"#fb9f3a\"], [0.8888888888888888, \"#fdca26\"], [1.0, \"#f0f921\"]], \"type\": \"contour\"}], \"contourcarpet\": [{\"colorbar\": {\"outlinewidth\": 0, \"ticks\": \"\"}, \"type\": \"contourcarpet\"}], \"heatmap\": [{\"colorbar\": {\"outlinewidth\": 0, \"ticks\": \"\"}, \"colorscale\": [[0.0, \"#0d0887\"], [0.1111111111111111, \"#46039f\"], [0.2222222222222222, \"#7201a8\"], [0.3333333333333333, \"#9c179e\"], [0.4444444444444444, \"#bd3786\"], [0.5555555555555556, \"#d8576b\"], [0.6666666666666666, \"#ed7953\"], [0.7777777777777778, \"#fb9f3a\"], [0.8888888888888888, \"#fdca26\"], [1.0, \"#f0f921\"]], \"type\": \"heatmap\"}], \"heatmapgl\": [{\"colorbar\": {\"outlinewidth\": 0, \"ticks\": \"\"}, \"colorscale\": [[0.0, \"#0d0887\"], [0.1111111111111111, \"#46039f\"], [0.2222222222222222, \"#7201a8\"], [0.3333333333333333, \"#9c179e\"], [0.4444444444444444, \"#bd3786\"], [0.5555555555555556, \"#d8576b\"], [0.6666666666666666, \"#ed7953\"], [0.7777777777777778, \"#fb9f3a\"], [0.8888888888888888, \"#fdca26\"], [1.0, \"#f0f921\"]], \"type\": \"heatmapgl\"}], \"histogram\": [{\"marker\": {\"colorbar\": {\"outlinewidth\": 0, \"ticks\": \"\"}}, \"type\": \"histogram\"}], \"histogram2d\": [{\"colorbar\": {\"outlinewidth\": 0, \"ticks\": \"\"}, \"colorscale\": [[0.0, \"#0d0887\"], [0.1111111111111111, \"#46039f\"], [0.2222222222222222, \"#7201a8\"], [0.3333333333333333, \"#9c179e\"], [0.4444444444444444, \"#bd3786\"], [0.5555555555555556, \"#d8576b\"], [0.6666666666666666, \"#ed7953\"], [0.7777777777777778, \"#fb9f3a\"], [0.8888888888888888, \"#fdca26\"], [1.0, \"#f0f921\"]], \"type\": \"histogram2d\"}], \"histogram2dcontour\": [{\"colorbar\": {\"outlinewidth\": 0, \"ticks\": \"\"}, \"colorscale\": [[0.0, \"#0d0887\"], [0.1111111111111111, \"#46039f\"], [0.2222222222222222, \"#7201a8\"], [0.3333333333333333, \"#9c179e\"], [0.4444444444444444, \"#bd3786\"], [0.5555555555555556, \"#d8576b\"], [0.6666666666666666, \"#ed7953\"], [0.7777777777777778, \"#fb9f3a\"], [0.8888888888888888, \"#fdca26\"], [1.0, \"#f0f921\"]], \"type\": \"histogram2dcontour\"}], \"mesh3d\": [{\"colorbar\": {\"outlinewidth\": 0, \"ticks\": \"\"}, \"type\": \"mesh3d\"}], \"parcoords\": [{\"line\": {\"colorbar\": {\"outlinewidth\": 0, \"ticks\": \"\"}}, \"type\": \"parcoords\"}], \"pie\": [{\"automargin\": true, \"type\": \"pie\"}], \"scatter\": [{\"marker\": {\"colorbar\": {\"outlinewidth\": 0, \"ticks\": \"\"}}, \"type\": \"scatter\"}], \"scatter3d\": [{\"line\": {\"colorbar\": {\"outlinewidth\": 0, \"ticks\": \"\"}}, \"marker\": {\"colorbar\": {\"outlinewidth\": 0, \"ticks\": \"\"}}, \"type\": \"scatter3d\"}], \"scattercarpet\": [{\"marker\": {\"colorbar\": {\"outlinewidth\": 0, \"ticks\": \"\"}}, \"type\": \"scattercarpet\"}], \"scattergeo\": [{\"marker\": {\"colorbar\": {\"outlinewidth\": 0, \"ticks\": \"\"}}, \"type\": \"scattergeo\"}], \"scattergl\": [{\"marker\": {\"colorbar\": {\"outlinewidth\": 0, \"ticks\": \"\"}}, \"type\": \"scattergl\"}], \"scattermapbox\": [{\"marker\": {\"colorbar\": {\"outlinewidth\": 0, \"ticks\": \"\"}}, \"type\": \"scattermapbox\"}], \"scatterpolar\": [{\"marker\": {\"colorbar\": {\"outlinewidth\": 0, \"ticks\": \"\"}}, \"type\": \"scatterpolar\"}], \"scatterpolargl\": [{\"marker\": {\"colorbar\": {\"outlinewidth\": 0, \"ticks\": \"\"}}, \"type\": \"scatterpolargl\"}], \"scatterternary\": [{\"marker\": {\"colorbar\": {\"outlinewidth\": 0, \"ticks\": \"\"}}, \"type\": \"scatterternary\"}], \"surface\": [{\"colorbar\": {\"outlinewidth\": 0, \"ticks\": \"\"}, \"colorscale\": [[0.0, \"#0d0887\"], [0.1111111111111111, \"#46039f\"], [0.2222222222222222, \"#7201a8\"], [0.3333333333333333, \"#9c179e\"], [0.4444444444444444, \"#bd3786\"], [0.5555555555555556, \"#d8576b\"], [0.6666666666666666, \"#ed7953\"], [0.7777777777777778, \"#fb9f3a\"], [0.8888888888888888, \"#fdca26\"], [1.0, \"#f0f921\"]], \"type\": \"surface\"}], \"table\": [{\"cells\": {\"fill\": {\"color\": \"#EBF0F8\"}, \"line\": {\"color\": \"white\"}}, \"header\": {\"fill\": {\"color\": \"#C8D4E3\"}, \"line\": {\"color\": \"white\"}}, \"type\": \"table\"}]}, \"layout\": {\"annotationdefaults\": {\"arrowcolor\": \"#2a3f5f\", \"arrowhead\": 0, \"arrowwidth\": 1}, \"coloraxis\": {\"colorbar\": {\"outlinewidth\": 0, \"ticks\": \"\"}}, \"colorscale\": {\"diverging\": [[0, \"#8e0152\"], [0.1, \"#c51b7d\"], [0.2, \"#de77ae\"], [0.3, \"#f1b6da\"], [0.4, \"#fde0ef\"], [0.5, \"#f7f7f7\"], [0.6, \"#e6f5d0\"], [0.7, \"#b8e186\"], [0.8, \"#7fbc41\"], [0.9, \"#4d9221\"], [1, \"#276419\"]], \"sequential\": [[0.0, \"#0d0887\"], [0.1111111111111111, \"#46039f\"], [0.2222222222222222, \"#7201a8\"], [0.3333333333333333, \"#9c179e\"], [0.4444444444444444, \"#bd3786\"], [0.5555555555555556, \"#d8576b\"], [0.6666666666666666, \"#ed7953\"], [0.7777777777777778, \"#fb9f3a\"], [0.8888888888888888, \"#fdca26\"], [1.0, \"#f0f921\"]], \"sequentialminus\": [[0.0, \"#0d0887\"], [0.1111111111111111, \"#46039f\"], [0.2222222222222222, \"#7201a8\"], [0.3333333333333333, \"#9c179e\"], [0.4444444444444444, \"#bd3786\"], [0.5555555555555556, \"#d8576b\"], [0.6666666666666666, \"#ed7953\"], [0.7777777777777778, \"#fb9f3a\"], [0.8888888888888888, \"#fdca26\"], [1.0, \"#f0f921\"]]}, \"colorway\": [\"#636efa\", \"#EF553B\", \"#00cc96\", \"#ab63fa\", \"#FFA15A\", \"#19d3f3\", \"#FF6692\", \"#B6E880\", \"#FF97FF\", \"#FECB52\"], \"font\": {\"color\": \"#2a3f5f\"}, \"geo\": {\"bgcolor\": \"white\", \"lakecolor\": \"white\", \"landcolor\": \"#E5ECF6\", \"showlakes\": true, \"showland\": true, \"subunitcolor\": \"white\"}, \"hoverlabel\": {\"align\": \"left\"}, \"hovermode\": \"closest\", \"mapbox\": {\"style\": \"light\"}, \"paper_bgcolor\": \"white\", \"plot_bgcolor\": \"#E5ECF6\", \"polar\": {\"angularaxis\": {\"gridcolor\": \"white\", \"linecolor\": \"white\", \"ticks\": \"\"}, \"bgcolor\": \"#E5ECF6\", \"radialaxis\": {\"gridcolor\": \"white\", \"linecolor\": \"white\", \"ticks\": \"\"}}, \"scene\": {\"xaxis\": {\"backgroundcolor\": \"#E5ECF6\", \"gridcolor\": \"white\", \"gridwidth\": 2, \"linecolor\": \"white\", \"showbackground\": true, \"ticks\": \"\", \"zerolinecolor\": \"white\"}, \"yaxis\": {\"backgroundcolor\": \"#E5ECF6\", \"gridcolor\": \"white\", \"gridwidth\": 2, \"linecolor\": \"white\", \"showbackground\": true, \"ticks\": \"\", \"zerolinecolor\": \"white\"}, \"zaxis\": {\"backgroundcolor\": \"#E5ECF6\", \"gridcolor\": \"white\", \"gridwidth\": 2, \"linecolor\": \"white\", \"showbackground\": true, \"ticks\": \"\", \"zerolinecolor\": \"white\"}}, \"shapedefaults\": {\"line\": {\"color\": \"#2a3f5f\"}}, \"ternary\": {\"aaxis\": {\"gridcolor\": \"white\", \"linecolor\": \"white\", \"ticks\": \"\"}, \"baxis\": {\"gridcolor\": \"white\", \"linecolor\": \"white\", \"ticks\": \"\"}, \"bgcolor\": \"#E5ECF6\", \"caxis\": {\"gridcolor\": \"white\", \"linecolor\": \"white\", \"ticks\": \"\"}}, \"title\": {\"x\": 0.05}, \"xaxis\": {\"automargin\": true, \"gridcolor\": \"white\", \"linecolor\": \"white\", \"ticks\": \"\", \"title\": {\"standoff\": 15}, \"zerolinecolor\": \"white\", \"zerolinewidth\": 2}, \"yaxis\": {\"automargin\": true, \"gridcolor\": \"white\", \"linecolor\": \"white\", \"ticks\": \"\", \"title\": {\"standoff\": 15}, \"zerolinecolor\": \"white\", \"zerolinewidth\": 2}}}},\n",
              "                        {\"responsive\": true}\n",
              "                    ).then(function(){\n",
              "                            \n",
              "var gd = document.getElementById('d57c0e96-dc5c-48b7-b237-bef3c86c74d9');\n",
              "var x = new MutationObserver(function (mutations, observer) {{\n",
              "        var display = window.getComputedStyle(gd).display;\n",
              "        if (!display || display === 'none') {{\n",
              "            console.log([gd, 'removed!']);\n",
              "            Plotly.purge(gd);\n",
              "            observer.disconnect();\n",
              "        }}\n",
              "}});\n",
              "\n",
              "// Listen for the removal of the full notebook cells\n",
              "var notebookContainer = gd.closest('#notebook-container');\n",
              "if (notebookContainer) {{\n",
              "    x.observe(notebookContainer, {childList: true});\n",
              "}}\n",
              "\n",
              "// Listen for the clearing of the current output cell\n",
              "var outputEl = gd.closest('.output');\n",
              "if (outputEl) {{\n",
              "    x.observe(outputEl, {childList: true});\n",
              "}}\n",
              "\n",
              "                        })\n",
              "                };\n",
              "                });\n",
              "            </script>\n",
              "        </div>"
            ]
          },
          "metadata": {
            "tags": []
          }
        }
      ]
    },
    {
      "cell_type": "code",
      "metadata": {
        "id": "T6LQOPvCVGEO",
        "colab_type": "code",
        "colab": {}
      },
      "source": [
        ""
      ],
      "execution_count": null,
      "outputs": []
    }
  ]
}